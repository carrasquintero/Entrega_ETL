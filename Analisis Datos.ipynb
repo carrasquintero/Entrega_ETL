{
 "cells": [
  {
   "cell_type": "markdown",
   "metadata": {
    "id": "YLE3Y7VOPn3G"
   },
   "source": [
    "# Tutorial: Entendimiento de los datos RaSa"
   ]
  },
  {
   "cell_type": "markdown",
   "metadata": {
    "id": "V3leWyj9Pn3L"
   },
   "source": [
    "Continuando con el proyecto de consultoria de Wide World Importers, el primer paso para iniciar la comprensión de los datos es explorar y entender las fuentes de datos disponibles. Note que esto también nos ayuda a comprender mejor la organización."
   ]
  },
  {
   "cell_type": "markdown",
   "metadata": {
    "id": "dm33nuYTPn3L"
   },
   "source": [
    "## Configuración e importe de paquetes\n",
    "Se utilizará el paquete de pandas profiling para apoyar el análisis estadístico, y se importan los paquetes de python\n",
    "necesarios"
   ]
  },
  {
   "cell_type": "code",
   "execution_count": 1,
   "metadata": {
    "id": "gGiDdRBNPn3M"
   },
   "outputs": [
    {
     "name": "stderr",
     "output_type": "stream",
     "text": [
      "C:\\Users\\estudiante\\anaconda3\\envs\\Tutoriales\\lib\\site-packages\\tqdm\\auto.py:22: TqdmWarning: IProgress not found. Please update jupyter and ipywidgets. See https://ipywidgets.readthedocs.io/en/stable/user_install.html\n",
      "  from .autonotebook import tqdm as notebook_tqdm\n"
     ]
    }
   ],
   "source": [
    "from pyspark.sql import SparkSession\n",
    "from pyspark.sql import functions\n",
    "from pyspark.sql.types import StructType\n",
    "from pyspark import SparkContext, SparkConf, SQLContext\n",
    "from pyspark.sql.types import FloatType, StringType, IntegerType, DateType\n",
    "from pyspark.sql.functions import udf, col, length, isnan, when, count\n",
    "import pyspark.sql.functions as f\n",
    "import os \n",
    "from datetime import datetime\n",
    "from pyspark.sql import types as t\n",
    "from pandas_profiling import ProfileReport\n",
    "import matplotlib.pyplot as plt\n",
    "import numpy as np"
   ]
  },
  {
   "cell_type": "markdown",
   "metadata": {
    "id": "Tyk0YmZRPn3N"
   },
   "source": [
    "Configuración del controlador e inicio de sesion Spark"
   ]
  },
  {
   "cell_type": "code",
   "execution_count": 2,
   "metadata": {
    "id": "0r-yix1rPn3O"
   },
   "outputs": [],
   "source": [
    "path_jar_driver = 'C:\\Program Files (x86)\\MySQL\\Connector J 8.0\\mysql-connector-java-8.0.28.jar'"
   ]
  },
  {
   "cell_type": "code",
   "execution_count": 3,
   "metadata": {
    "id": "0-m3Q2MtPn3O",
    "outputId": "459f0ec2-9a36-4a36-edac-427852524d95"
   },
   "outputs": [
    {
     "name": "stderr",
     "output_type": "stream",
     "text": [
      "C:\\Users\\estudiante\\anaconda3\\envs\\Tutoriales\\lib\\site-packages\\pyspark\\sql\\context.py:79: FutureWarning: Deprecated in 3.0.0. Use SparkSession.builder.getOrCreate() instead.\n",
      "  FutureWarning\n"
     ]
    }
   ],
   "source": [
    "#Configuración de la sesión\n",
    "conf=SparkConf() \\\n",
    "    .set('spark.driver.extraClassPath', path_jar_driver)\n",
    "\n",
    "spark_context = SparkContext(conf=conf)\n",
    "sql_context = SQLContext(spark_context)\n",
    "spark = sql_context.sparkSession"
   ]
  },
  {
   "cell_type": "code",
   "execution_count": 4,
   "metadata": {
    "id": "0eQw66SIPn3P"
   },
   "outputs": [],
   "source": [
    "# Si quiere practicar la conexion con el servidor de base de datos:\n",
    "db_connection_string = 'jdbc:mysql://157.253.236.120:8080/RaSaTransaccional'\n",
    "# El usuario es su estudiante _i asignado y su contraseña la encontrará en el archivo excel de Coursera \n",
    "db_user = 'Estudiante_22_202415'\n",
    "db_psswd = 'Estudiante_201117125'\n",
    "\n",
    "PATH='./'"
   ]
  },
  {
   "cell_type": "markdown",
   "metadata": {
    "id": "P1nkSAn5Pn3Q"
   },
   "source": [
    "## Perfilamiento de los datos\n",
    "El perfilamiento se basa en varios aspectos: **entendimiento general** de los datos compartidos, validación de **reglas de negocio**, **análisis descriptivo** utilizando estadística descriptiva y diagramas para la visualización de los datos y **análisis de calidad**. El primero hace referencia a tener una comprensiòn global antes de entrar en los detalles, la segunda sobre las reglas, corresponden a especificaciones dadas por el negocio en relación con los datos, un ejemplo de regla de negocio dada es: \"Todo producto de la canasta familiar debe tener un precio de IVA equivalente a 19%\", dada esta regla de negocio, se debe revisar en los datos suministrados que no hayan valores de IVA menores a 19%. En el tercer aspecto, relacionado con el análisis descriptivo, se revisan estadísticas: mínimo, máximo, media, mediana, distribuciones de los datos, valores nulos, cardinalidad con el fin de comprender en mayor nivel de profundidad los datos compartidos.\n"
   ]
  },
  {
   "cell_type": "markdown",
   "metadata": {
    "id": "p6KvbuvpPn3Q"
   },
   "source": [
    "### Información dada por la organización relacionada con los datos\n",
    "RaSA de forma conjunta con un grupo de consultores de inteligencia de negocios, ha trabajado en una especificación de los primeros análisis que quiere que usted realice. En esta primera fase, a partir de estos análisis propuestos, la empresa le ha entregado una serie de fuentes de datos y requiere que usted realice los siguientes entregables relacionados con la etapa de entendimiento de datos:\n",
    "\n",
    "Dichos datos pueden tener errores ya que no han sido utilizados previamente para ser analizados. La empresa nos da información adicional sobre los datos:\n",
    "\n",
    "- Las áreas de servicios reportadas cubren todos los condados del país\n",
    "- Los tipos de beneficios con límite cuantitativo deben tener una cantidad límite diferente de cero en los planes que los ofrecen.\n",
    "- Las fuentes FuenteAreasDeServicio_Copia_E y FuenteTiposBeneficio_Copia_E comparten información de los años 2017 al 2019\n",
    "- La empresa comparte 5409 áreas de servicios y 170 tipos de beneficios.\n",
    "- El valor máximo Copago y Coseguro para el año 2018 es respectivamente 3300 y 100.\n",
    "- Además, les comparte información de 301 planes para 2017 y de 422 para el año 2018.\n",
    "- Existen 15 y 5 diferentes condiciones de copago y coseguro respectivamente.\n"
   ]
  },
  {
   "cell_type": "markdown",
   "metadata": {
    "id": "Xw96w3ywPn3R"
   },
   "source": [
    "### Conexión a fuente de datos y acceso a los datos"
   ]
  },
  {
   "cell_type": "markdown",
   "metadata": {
    "id": "LKHpN3nzPn3R"
   },
   "source": [
    "#### Conexión a fuente de datos\n",
    "A continuación encuentra las funciones para conectarse a la fuente de datos (archivo csv o base de datos) y retornar un dataframe que es el que se utilizará posteriormente para manipular los datos."
   ]
  },
  {
   "cell_type": "code",
   "execution_count": 5,
   "metadata": {
    "id": "SsdwInchPn3R"
   },
   "outputs": [],
   "source": [
    "def obtener_dataframe_de_bd(db_connection_string, sql, db_user, db_psswd):\n",
    "    df_bd = spark.read.format('jdbc')\\\n",
    "        .option('url', db_connection_string) \\\n",
    "        .option('dbtable', sql) \\\n",
    "        .option('user', db_user) \\\n",
    "        .option('password', db_psswd) \\\n",
    "        .option('driver', 'com.mysql.cj.jdbc.Driver') \\\n",
    "        .load()\n",
    "    return df_bd"
   ]
  },
  {
   "cell_type": "markdown",
   "metadata": {
    "id": "3HZloEq5Pn3S"
   },
   "source": [
    "#### Cargue de datos\n",
    "Para consultar desde la base de datos se puede acceder directamente a la tabla dado su nombre o se puede especificar la sentencia SQL de un \"SELECT\" completo para traer la información total o parcial de la tabla que se requiere. A continuación un ejemplo de cada uno de estos usos. \n",
    "Acceso directo para el caso de órdenes y acceso con sentencia SQL para el caso de detallesOrdenes."
   ]
  },
  {
   "cell_type": "code",
   "execution_count": 30,
   "metadata": {
    "id": "xMaQViPnPn3S"
   },
   "outputs": [],
   "source": [
    "sql_fuentes = 'FuenteCondicionesDePago_Copia_E'"
   ]
  },
  {
   "cell_type": "code",
   "execution_count": 31,
   "metadata": {
    "id": "Ajy_XMshPn3T"
   },
   "outputs": [],
   "source": [
    "#Se cargan los dataframes desde la base de datos\n",
    "fuentes = obtener_dataframe_de_bd(db_connection_string, sql_fuentes, db_user, db_psswd)"
   ]
  },
  {
   "cell_type": "markdown",
   "metadata": {
    "id": "qxN27II0Pn3T"
   },
   "source": [
    "### Entendimiento general de datos \"Fuente Condiciones de Pago\""
   ]
  },
  {
   "cell_type": "markdown",
   "metadata": {
    "id": "BMULJYE2Pn3T"
   },
   "source": [
    "Para ver una muestra de los datos, utilice el comando <i>show</i> ingresando el número de filas que quiere ver"
   ]
  },
  {
   "cell_type": "code",
   "execution_count": 32,
   "metadata": {
    "id": "HtrqSl0zPn3T",
    "outputId": "c20c03fc-68d4-4d2e-eb8f-91a06cdd3174"
   },
   "outputs": [
    {
     "name": "stdout",
     "output_type": "stream",
     "text": [
      "+---------------------+--------------------+-------------+\n",
      "|IdCondicionesDePago_T|         Descripcion|         Tipo|\n",
      "+---------------------+--------------------+-------------+\n",
      "|                  187|Copay with deduct...|       Copago|\n",
      "|                  204|       Copay per Day|       Copago|\n",
      "|                   45|         Coinsurance|     Coseguro|\n",
      "|                   85|Copay per Day bef...|       Copago|\n",
      "|                   18|No Charge after d...|     Coseguro|\n",
      "|                  136|Copay per Stay wi...|       Copago|\n",
      "|                   27|Coinsurance after...|     Coseguro|\n",
      "|                  238|               Copay|       Copago|\n",
      "|                  207|No Charge after d...|       Copago|\n",
      "|                  153|Copay after deduc...|       Copago|\n",
      "|                   36|      Not Applicable|     Coseguro|\n",
      "|                   17|Copay per Day aft...|       Copago|\n",
      "|                  119|Copay per Day wit...|       Copago|\n",
      "|                  170|Copay before dedu...|       Copago|\n",
      "|                   51|           No Charge|       Copago|\n",
      "|                  102|Copay per Stay be...|       Copago|\n",
      "|                   34|      Not Applicable|     Copagado|\n",
      "|                   68|Copay per Stay af...|SinTipoCopago|\n",
      "|                  221|      Copay per Stay|          NaN|\n",
      "|                    9|           No Charge|  Coseguridad|\n",
      "|                  714|               Copay|       Copago|\n",
      "|                  135|         Coinsurance|     Coseguro|\n",
      "|                  663|      Copay per Stay|       Copago|\n",
      "|                  204|Copay per Stay af...|       Copago|\n",
      "|                   27|Coinsurance after...|     Coseguro|\n",
      "|                  221|      Copay per Stay|          NaN|\n",
      "|                  207|No Charge after d...|       Copago|\n",
      "|                   45|         Coinsurance|     Coseguro|\n",
      "|                  204|Copay per Stay af...|       Copago|\n",
      "|                  119|Copay per Day wit...|       Copago|\n",
      "|                   51|           No Charge|       Copago|\n",
      "+---------------------+--------------------+-------------+\n",
      "\n"
     ]
    }
   ],
   "source": [
    "fuentes.show(31)"
   ]
  },
  {
   "cell_type": "markdown",
   "metadata": {
    "id": "Q_aZvenTPn3U"
   },
   "source": [
    "Como puede observar en la tabla de ordenes tenemos información **relacionada con el cliente, el empleado y con la órden**. La información del cliente es su identificador <i>ID_de_cliente</i>, el identificador de la persona que eligió la órden <i>eleccionado_por_ID_de_persona</i>, el identificador de la persona de contacto <i>ID_de_persona_de_contacto</i>, el <i>Número_de_pedido_de_compra_del_cliente</i>. La información del empleado es su identificador <i>ID_de_vendedor</i>. La información de la órden es: el identificador de la órden <i>ID_de_pedido</i>, el identificador que indica si es un pedido pendiente <i>ID_de_pedido_pendiente</i>, la fecha en la que se realizó el pedido <i>Fecha_de_pedido</i>, la fecha de entrega esperada del pedido <i>Fecha_de_entrega_esperada</i> y <i>Pedido_pendiente_de_suministro_insuficiente</i> que indica si es un pedido pendiente o no.\n",
    "El esquema de un DataFrame incluye los nombres de las columnas asi como el tipo de dato. Recuerde que tipo de dato (e.g., booleano, caracteres, enteros, flotantes, colecciones) es diferente a tipo de variable (numérica y categórica)."
   ]
  },
  {
   "cell_type": "code",
   "execution_count": 33,
   "metadata": {
    "id": "lLV_ItLhPn3U",
    "outputId": "db9438a4-0a6d-4809-ea99-752add60ad64"
   },
   "outputs": [
    {
     "data": {
      "text/plain": [
       "StructType(List(StructField(IdCondicionesDePago_T,IntegerType,true),StructField(Descripcion,StringType,true),StructField(Tipo,StringType,true)))"
      ]
     },
     "execution_count": 33,
     "metadata": {},
     "output_type": "execute_result"
    }
   ],
   "source": [
    "fuentes.schema"
   ]
  },
  {
   "cell_type": "markdown",
   "metadata": {
    "id": "seP-zo8JPn3U"
   },
   "source": [
    "Por otra parte, en los detalles de ordenes se tiene **información del pedido y del producto**. Del pedido se tiene el identificador del detalle <i>Detalle_orden_ID</i>, el identificador de la orden a la que está relacionado cada detalle <i>ID_de_pedido</i>, la <i>Cantidad_seleccionada</i> del producto para la orden, la fecha de selección <i>Seleccion_completada_cuando</i>. Del producto tenemos el <i>ID_Producto</i>, su <i>Descripcion</i>, el tipo de paquete <i>ID_Tipo_Paquete</i> (Ej. 1.Bolsa, 4. Caja), la <i>Cantidad</i>, el <i>Precio_unitario</i>, y la <i>Tasa_impuesto</i> asociada a ese producto. Una primera aclaración a solicitar por parte del negocio es cuál es la diferencia entre cantidad y cantidad seleccionada"
   ]
  },
  {
   "cell_type": "markdown",
   "metadata": {
    "id": "GJDrzRVHPn3V"
   },
   "source": [
    "**¿Qué es una fila de cada fuente compartida?**\n",
    "Con estos análisis podemos concluir que una fila de órdenes representa la órden realizada por un cliente y atendida por un empleado. Mientras que el detalle de órden coincide con su nombre y contiene el detalle de cada producto solicitado en una órden."
   ]
  },
  {
   "cell_type": "markdown",
   "metadata": {
    "id": "uw09BODdPn3V"
   },
   "source": [
    "Una vez entendida en términos generales la estructura de los datos, es necesario conocer la cantidad de datos disponibles, esto se hace con count() y con columns, que retornan el número de filas y número de columnas respectivamente."
   ]
  },
  {
   "cell_type": "code",
   "execution_count": 34,
   "metadata": {
    "id": "g0Lvl535Pn3V",
    "outputId": "6fb3f30d-2179-4d50-ddd5-4880e28673d8"
   },
   "outputs": [
    {
     "name": "stdout",
     "output_type": "stream",
     "text": [
      "(31, 3)\n"
     ]
    }
   ],
   "source": [
    "print((fuentes.count(), len(fuentes.columns)))"
   ]
  },
  {
   "cell_type": "markdown",
   "metadata": {
    "id": "kqwEyUFpPn3V"
   },
   "source": [
    "**¿Cuantos datos nos compartieron para el proyecto?**\n",
    "En total tenemos 31 tipos de Fuentes de Condiciones de Pago en un total de 3 variables a revisar de las cuales 1 es un ID que identifica el tipo de condición de pago y 2 variables string que relacionan los tipos de pago (copagos y coseguros)."
   ]
  },
  {
   "cell_type": "markdown",
   "metadata": {
    "id": "GnAScmClPn3W"
   },
   "source": [
    "### Revisión de reglas de negocio \n",
    "\n",
    "Primero se confirman las reglas proporcionadas por el negocio, la primera que asegura que existen 15 tipos de copago y 5 de coseguro"
   ]
  },
  {
   "cell_type": "code",
   "execution_count": 35,
   "metadata": {
    "id": "ssjlV5xbPn3W",
    "outputId": "2ab69e67-fcc0-42c0-bf32-425d65c5118b"
   },
   "outputs": [
    {
     "name": "stdout",
     "output_type": "stream",
     "text": [
      "+-------------+-----+\n",
      "|         Tipo|count|\n",
      "+-------------+-----+\n",
      "|     Copagado|    1|\n",
      "|  Coseguridad|    1|\n",
      "|       Copago|   19|\n",
      "|SinTipoCopago|    1|\n",
      "|          NaN|    2|\n",
      "|     Coseguro|    7|\n",
      "+-------------+-----+\n",
      "\n"
     ]
    }
   ],
   "source": [
    "descripcion = fuentes.select(\"Tipo\", \"Descripcion\").groupBy(\"Tipo\").count()\n",
    "descripcion.show()"
   ]
  },
  {
   "cell_type": "markdown",
   "metadata": {},
   "source": [
    "Revisamos las categorias de Descripción cuando nos enfocamos en el ***\"Tipo\" == \"Copago\"***. Encontramos 14 diferentes categorias, pero en la tabla general encontramos el tipo Copagado podría considerarse dentro de \"Copago\". Haciendo este ajuste en el select encontramos que solo existen 14 descripciones de este tipo. Existen dos descripciones ***No Charge after d*** y ***No Charge*** que pueden referirse al tipo Coseguro y que están incorrectamente asignadas"
   ]
  },
  {
   "cell_type": "code",
   "execution_count": 38,
   "metadata": {},
   "outputs": [
    {
     "name": "stdout",
     "output_type": "stream",
     "text": [
      "+--------------------+\n",
      "|         Descripcion|\n",
      "+--------------------+\n",
      "|      Copay per Stay|\n",
      "|No Charge after d...|\n",
      "|           No Charge|\n",
      "|Copay before dedu...|\n",
      "|Copay per Stay wi...|\n",
      "|Copay per Stay af...|\n",
      "|Copay per Day aft...|\n",
      "|Copay with deduct...|\n",
      "|Copay after deduc...|\n",
      "|Copay per Day bef...|\n",
      "|Copay per Stay be...|\n",
      "|Copay per Day wit...|\n",
      "|               Copay|\n",
      "|       Copay per Day|\n",
      "+--------------------+\n",
      "\n"
     ]
    }
   ],
   "source": [
    "fuentes.select(\"Descripcion\").where(fuentes[\"Tipo\"].isin(\"Copago\", \"pago\")).distinct().show()"
   ]
  },
  {
   "cell_type": "markdown",
   "metadata": {},
   "source": [
    "Revisamos las categorias de Descripción cuando nos enfocamos en el ***\"Tipo\" == \"Coseguro\"***. Encontramos 4 diferentes categorias. Exite una categoria en el tipo Copago llamada ***No Charge*** que puede referirse al 5 grupo de copago"
   ]
  },
  {
   "cell_type": "code",
   "execution_count": 39,
   "metadata": {},
   "outputs": [
    {
     "name": "stdout",
     "output_type": "stream",
     "text": [
      "+--------------------+\n",
      "|         Descripcion|\n",
      "+--------------------+\n",
      "|No Charge after d...|\n",
      "|Coinsurance after...|\n",
      "|         Coinsurance|\n",
      "|      Not Applicable|\n",
      "+--------------------+\n",
      "\n"
     ]
    }
   ],
   "source": [
    "fuentes.select(\"Descripcion\").where(fuentes[\"Tipo\"]==\"Coseguro\").distinct().show()"
   ]
  },
  {
   "cell_type": "code",
   "execution_count": 43,
   "metadata": {},
   "outputs": [
    {
     "name": "stdout",
     "output_type": "stream",
     "text": [
      "+--------------+\n",
      "|   Descripcion|\n",
      "+--------------+\n",
      "|Copay per Stay|\n",
      "+--------------+\n",
      "\n",
      "+---------------------+\n",
      "|IdCondicionesDePago_T|\n",
      "+---------------------+\n",
      "|                  221|\n",
      "+---------------------+\n",
      "\n"
     ]
    }
   ],
   "source": [
    "fuentes.select(\"Descripcion\").where(fuentes[\"Tipo\"]==\"NaN\").distinct().show()\n",
    "fuentes.select(\"IdCondicionesDePago_T\").where(fuentes[\"Tipo\"]==\"NaN\").distinct().show()"
   ]
  },
  {
   "cell_type": "markdown",
   "metadata": {
    "id": "M48A5DanPn3X"
   },
   "source": [
    "Existe un caso de tipo Nan que corresponde a la descripción ***Copay per Stay*** con ID de condiciones ***221***. Este caso puede ser planteado al cliente para indagar si se trata de un error y corresponde a la categoria Copago - lo que podrian completar las 15 condiciones expuestas por el cliente"
   ]
  },
  {
   "cell_type": "markdown",
   "metadata": {
    "id": "55FLtckZPn3W"
   },
   "source": [
    "Como resultado de la comprobación de la regla de negocio: ***Existen 15 y 5 diferentes condiciones de copago y coseguro respectivamente*** se encuentra que existen diferencias entre lo reportado por el negocio y lo entregado en la tabla. En Copagos se podrían considerar 14 tipos y en Coseguros se encuentran 4 tipos, aunque puede tratarse de un error de asignación de categorias y no de faltantes en la base de datos"
   ]
  },
  {
   "cell_type": "markdown",
   "metadata": {
    "id": "UuZspay3Pn3Z"
   },
   "source": [
    "### Análisis descriptivo\n",
    "Una vez cubierto lo básico de reglas de negocio, pasamos a perfilamiento estadístico. Para ver estadisticos generales como conteo, mínimo, máximo, desviación estandar y percentiles utilice summary()"
   ]
  },
  {
   "cell_type": "code",
   "execution_count": 44,
   "metadata": {
    "id": "TkWrIdDhPn3Z",
    "outputId": "7d37ef91-452e-49d9-8282-f1676c2b5ea9"
   },
   "outputs": [
    {
     "name": "stdout",
     "output_type": "stream",
     "text": [
      "+-------+---------------------+--------------+-------------+\n",
      "|summary|IdCondicionesDePago_T|   Descripcion|         Tipo|\n",
      "+-------+---------------------+--------------+-------------+\n",
      "|  count|                   31|            31|           31|\n",
      "|   mean|   152.16129032258064|          null|          NaN|\n",
      "| stddev|   161.75312398306122|          null|          NaN|\n",
      "|    min|                    9|   Coinsurance|     Copagado|\n",
      "|    25%|                   45|          null|          NaN|\n",
      "|    50%|                  119|          null|          NaN|\n",
      "|    75%|                  204|          null|          NaN|\n",
      "|    max|                  714|Not Applicable|SinTipoCopago|\n",
      "+-------+---------------------+--------------+-------------+\n",
      "\n"
     ]
    }
   ],
   "source": [
    "fuentes.summary().show()"
   ]
  },
  {
   "cell_type": "code",
   "execution_count": 54,
   "metadata": {
    "id": "jTU_GHMIPn3e",
    "outputId": "d5c71e84-8815-4723-c916-d9b7ee138952"
   },
   "outputs": [
    {
     "name": "stdout",
     "output_type": "stream",
     "text": [
      "+--------------------+--------+------+-----------+--------+----+-------------+\n",
      "|         Descripcion|Copagado|Copago|Coseguridad|Coseguro| NaN|SinTipoCopago|\n",
      "+--------------------+--------+------+-----------+--------+----+-------------+\n",
      "|      Copay per Stay|    null|     1|       null|    null|   2|         null|\n",
      "|No Charge after d...|    null|     2|       null|       1|null|         null|\n",
      "|Coinsurance after...|    null|  null|       null|       2|null|         null|\n",
      "|           No Charge|    null|     2|          1|    null|null|         null|\n",
      "|Copay before dedu...|    null|     1|       null|    null|null|         null|\n",
      "|Copay per Stay wi...|    null|     1|       null|    null|null|         null|\n",
      "|Copay per Stay af...|    null|     2|       null|    null|null|            1|\n",
      "|Copay per Day aft...|    null|     1|       null|    null|null|         null|\n",
      "|Copay with deduct...|    null|     1|       null|    null|null|         null|\n",
      "|         Coinsurance|    null|  null|       null|       3|null|         null|\n",
      "|Copay after deduc...|    null|     1|       null|    null|null|         null|\n",
      "|Copay per Day bef...|    null|     1|       null|    null|null|         null|\n",
      "|Copay per Stay be...|    null|     1|       null|    null|null|         null|\n",
      "|Copay per Day wit...|    null|     2|       null|    null|null|         null|\n",
      "|               Copay|    null|     2|       null|    null|null|         null|\n",
      "|       Copay per Day|    null|     1|       null|    null|null|         null|\n",
      "|      Not Applicable|       1|  null|       null|       1|null|         null|\n",
      "+--------------------+--------+------+-----------+--------+----+-------------+\n",
      "\n"
     ]
    }
   ],
   "source": [
    "fuentes.groupBy('Descripcion').pivot('Tipo').count().show()"
   ]
  },
  {
   "cell_type": "markdown",
   "metadata": {
    "id": "0zEoTVtOPn3Z"
   },
   "source": [
    "En las estadísticas anteriores ve"
   ]
  },
  {
   "cell_type": "markdown",
   "metadata": {
    "id": "K5ZlLb22Pn3a"
   },
   "source": [
    "En las estadíticas de orden podemos observar que el valor promedio de precio unitario es 44.54, la cantidad promedio es 213 unidades y el promedio de cantidad seleccionada es 39.74\n"
   ]
  },
  {
   "cell_type": "code",
   "execution_count": 49,
   "metadata": {
    "id": "dn8Ez79LPn3a",
    "outputId": "4fdf9370-9987-46a8-80c0-8b4c79655534"
   },
   "outputs": [
    {
     "data": {
      "text/plain": [
       "([0, 1, 2, 3, 4, 5],\n",
       " [Text(0, 0, ''),\n",
       "  Text(0, 0, ''),\n",
       "  Text(0, 0, ''),\n",
       "  Text(0, 0, ''),\n",
       "  Text(0, 0, ''),\n",
       "  Text(0, 0, '')])"
      ]
     },
     "execution_count": 49,
     "metadata": {},
     "output_type": "execute_result"
    },
    {
     "data": {
      "image/png": "[encoded data removed]",
      "text/plain": [
       "<Figure size 432x288 with 1 Axes>"
      ]
     },
     "metadata": {
      "needs_background": "light"
     },
     "output_type": "display_data"
    }
   ],
   "source": [
    "%matplotlib inline\n",
    "import matplotlib.pyplot as plt\n",
    "\n",
    "fig1, ax1 = plt.subplots()\n",
    "ax1.set_title('Tipo Fuentes Condiciones de Pago')\n",
    "ax1.hist(np.array(fuentes.select('Tipo').collect()))\n",
    "plt.xticks(rotation=90)"
   ]
  },
  {
   "cell_type": "markdown",
   "metadata": {
    "id": "c0_4fokYPn3a"
   },
   "source": [
    "El análisis anterior es muy útil para variables de tipo numérico, sin embargo es incompleto para las variables de tipo caracter o las variables categoricas, por ende es necesario implementar nuestro propio código par obtener estadisticos como la moda y la mediana. A continuación obtenemos la moda para la variable Descripcion:"
   ]
  },
  {
   "cell_type": "markdown",
   "metadata": {
    "id": "9bG1x9gWPn3b",
    "tags": []
   },
   "source": [
    "## Análisis de calidad de datos\n",
    "La calidad de los datos consiste en validar la idoneidad de los datos analizando varias dimensiones, entre las cuales resaltamos:\n",
    "- Completitud: Datos que no existen o no se conocen\n",
    "- Unicidad (Duplicidad): Datos que son idénticos en diferentes registros o registros con valores idénticos en atributos en los que no debería ocurrir\n",
    "- Consistencia: Esta medida se define por la validez o integridad del dato, en la definición de su estructura, al interior de una fila o entre diferentes filas de la misma fuente o de diferentes fuentes. El manejo de unidades en los datos y el significado del dato son generadores de inconsistencias.\n",
    "- Validez: a nivel de formato y de sentido de los datos más alla de sus valores\n",
    "\n",
    "Para asegurar una calidad mínima de los datos en estas dimensiones hay que entender su origen y posteriormente realizar un proceso de validación de cada una de las dimensiones de perfilamiento que llevará a un entendimiento de los datos disponibles.\n"
   ]
  },
  {
   "cell_type": "markdown",
   "metadata": {
    "id": "WKPFuI9uPn3b"
   },
   "source": [
    "A continuación se definen dos funciones, la primera cuenta los valores vacios por columna de dataframe, la segunda retorna un diccionario de columnas con cardinalidad superior al 50%\n",
    "\n",
    "Te invito a revisar los recursos de calidad de datos que hemos visto en el curso, a continuacion ejemplos daremos algunos ejemplos por cada dimensión para el caso del tutorial"
   ]
  },
  {
   "cell_type": "markdown",
   "metadata": {
    "id": "ZHLs1H0hPn3b"
   },
   "source": [
    "### Unicidad y validez\n",
    "\n",
    "La unicidad se revisó en la segunda regla de negocio y la validez se reviso en el perfilamiento general, en la regla de negocio 3 y en el análisis de la descripción al final de la sección de revisión de reglas de negocio"
   ]
  },
  {
   "cell_type": "markdown",
   "metadata": {
    "id": "QgkzeSm4Pn3b"
   },
   "source": [
    "### Completitud y validez"
   ]
  },
  {
   "cell_type": "code",
   "execution_count": 50,
   "metadata": {
    "id": "mIWH-vVoPn3b"
   },
   "outputs": [],
   "source": [
    "def contar_vacios(df):\n",
    "    resultados = []\n",
    "    for c in df.columns:\n",
    "        vacios_1 = df.filter(df[c].isNull()).count()\n",
    "        vacios_2 = df.filter(df[c] == \"NaN\").count()\n",
    "        vacios = vacios_1 + vacios_2\n",
    "        if vacios!=0:\n",
    "            print('número de vacíos para columna '+c+': '+str( vacios ))\n",
    "            resultados.append(vacios)\n",
    "    return resultados\n",
    "\n",
    "def cardinalidad(df):\n",
    "    resultado = {}\n",
    "    for c in df.columns:\n",
    "        cardinalidad = df.select(col(c)).distinct().count()\n",
    "        if cardinalidad>=df.count()*0.5:\n",
    "            resultado[c] = cardinalidad\n",
    "    return resultado"
   ]
  },
  {
   "cell_type": "code",
   "execution_count": 52,
   "metadata": {
    "id": "da_z_ti-Pn3b",
    "outputId": "ecac9b39-d97a-422a-a579-698c5733ab7b"
   },
   "outputs": [
    {
     "name": "stdout",
     "output_type": "stream",
     "text": [
      "número de vacíos para columna Tipo: 2\n"
     ]
    }
   ],
   "source": [
    "columnas_vacias_ordenes = contar_vacios(fuentes)"
   ]
  },
  {
   "cell_type": "code",
   "execution_count": 53,
   "metadata": {
    "id": "NxXQm_KEPn3c",
    "outputId": "419b9709-25fe-43dd-d63a-a9be645d11f7"
   },
   "outputs": [],
   "source": [
    "columnas_alta_cardinalidad = cardinalidad(fuentes)"
   ]
  },
  {
   "cell_type": "markdown",
   "metadata": {
    "id": "vDX10qmfPn3c"
   },
   "source": [
    "Como podemos observar para las ordenes las columnas Tipo tiene 2 vacios, definidos como NaN \n",
    "Respecto a cardinalidad, Ninguna columna tiene una cardinalidad superior al 50%."
   ]
  },
  {
   "cell_type": "markdown",
   "metadata": {
    "id": "LZyQcqCvPn3c"
   },
   "source": [
    "### Consistencia\n",
    "A nivel de consistencia algunos ejemplos de revisión son precios negativos, productos que aparecen en las ordenes pero que no esten registrados en la tabla de produtos. En nuestro caso vamos a verificar que todas las ordenes tengan detalle de orden y viceversa"
   ]
  },
  {
   "cell_type": "code",
   "execution_count": 34,
   "metadata": {
    "id": "uHEz7IylPn3c",
    "outputId": "0f987de9-4b5e-4532-e42a-a547d3207985"
   },
   "outputs": [
    {
     "data": {
      "text/plain": [
       "(44359, 28956)"
      ]
     },
     "execution_count": 34,
     "metadata": {},
     "output_type": "execute_result"
    }
   ],
   "source": [
    "#consistencia: revisar genially: definicion de consistencia\n",
    "ids_ordenes = set([x.ID_de_pedido for x in ordenes.select('ID_de_pedido').collect()])\n",
    "ids_detalles = set([x.ID_de_pedido for x in detallesOrdenes.select('ID_de_pedido').collect()])\n",
    "\n",
    "len(ids_ordenes-ids_detalles), len(ids_detalles-ids_ordenes)"
   ]
  },
  {
   "cell_type": "markdown",
   "metadata": {
    "id": "oU6a547APn3c"
   },
   "source": [
    "Como se puede observar hay una diferencia de 44.359 ordenes que no tienen detalles y hay 28.956 detalles que no tienen orden. Ninguno de los casos tiene sentido en el contexto de WideWorldImporters. Esta inconsistencia se notifica al negocio dado que no hay forma de conocer cuáles son los registros que pueden tener ids que no existen"
   ]
  },
  {
   "cell_type": "markdown",
   "metadata": {
    "id": "ltTluhtIPn3e"
   },
   "source": [
    "### Otras opciones de exploración\n",
    "PySpark también da la opción de crear tablas de pivotes. En el siguiente ejemplo, se muestra cómo hacer una tabla que permite ver cuántas ordenes hay por cada <i>Fecha_de_pedido</i> y por cada <i>ID_de_vendedor</i>, es decir por fecha y por empleado cuantas ordenes existen:"
   ]
  },
  {
   "cell_type": "markdown",
   "metadata": {
    "id": "h0eRDQmcPn3f"
   },
   "source": [
    "Otro análisis muy útil es el de la correlación lineal entre dos variables, para ver la matriz de correlacion que mide esta dependencia o la fuerza de la relación lineal entre dos variables vamos a usar pandas, la interpretación es que si entre dos variables A y B  el valor obtenido es cercano a -1 o a 1, se interpreta como que A y B contienen la misma información y por ende no es necesario mantener ambas columnas"
   ]
  },
  {
   "cell_type": "markdown",
   "metadata": {
    "id": "kxj4KoVDPn3f"
   },
   "source": [
    "## Conclusiones/resultados"
   ]
  },
  {
   "cell_type": "markdown",
   "metadata": {
    "id": "snq4CGXQPn3f"
   },
   "source": [
    "\n",
    "**Conclusiones generales:**\n",
    "\n",
    "1. En la tabla de ordenes tenemos información **relacionada con el cliente, el empleado y con la órden**. Por otra parte, en los detalles de ordenes se tiene **información del pedido y del producto**\n",
    "2. Una fila de órdenes representa la órden realizada por un cliente y atendida por un empleado. Mientras que el detalle de órden coincide con su nombre y contiene el detalle de cada producto solicitado en una órden.\n",
    "3. ¿cuál es la diferencia entre cantidad y cantidad seleccionada?\n",
    "\n",
    "**Conclusiones de reglas de negocio:**\n",
    "\n",
    "1. La regla 1 no es completamente cierta, pues en los datos no hay ningun registro con tasa_de_impuesto de 10%, es necesario pedir aclaraciones al negocio en relación a este descubrimiento\n",
    "2. La regla 2 no es cierta dado que el número de registros no parece coincidir con el número dado por el negocio, Hay 14.079 ordenes completamente repetidas y 258 registros que representan el mismo detalle de orden pero con valores distintos, los primeros se pueden eliminar, pero ¿qué deberíamos hacer con los segundos?\n",
    "3. Los datos comienzan en enero 1 de 2014, sin embargo la regla 2 nos dice que debería ser desde 2013, ¿es un error o faltan datos?\n",
    "4. Algunos formatos de fecha no coinciden con el dado en la regla 3, por ejemplo del atributo Fecha_de_pedido hay 20 mil registros que no tienen ese formato. En este caso el cambio de formato se puede implementar, ¿estan de acuerdo?\n",
    "5. La descripcion de algunos productos es \"a\", ¿esto es correcto?\n",
    "\n",
    "**Conclusiones de calidad:**\n",
    "\n",
    "1. Las columnas Comentarios, Instrucciones_de_entrega y Comentarios_internos tienen un conteo igual a 0, es decir son columnas vacías por lo que se pueden eliminar\n",
    "2. Vemos por ejemplo que el valor máximo de Cantidad indica valores anómalos o extremos, pues en su percentil 75% el valor máximo era 60, es decir, para el 75% de los datos, el valor de Cantidad no superaba el 70, pero el valor máximo es de 10 millones\n",
    "3. Observamos que la columna ID_Tipo_Paquete solo toma el valor 7, que podría ser o no un error, se notifica al negocio.\n",
    "4. Para las ordenes las columnas Seleccionado_por_ID_de_persona tiene 16662 vacios, ID_de_pedido_pendiente: 96905, Comentarios: 108291, Instrucciones_de_entrega: 108291, Comentarios_internos: 108291, Seleccion_completada_cuando: 5276, mientras que para los detalles de ordenes tenemos que las columnas con vacios son Precio_unitario: 7038 y Seleccion_completada_cuando: 3186.\n",
    "5. Respecto a cardinalidad, solo la columna Detalle_orden_ID tiene una cardinalidad superior al 50%.\n",
    "6. Como se puede observar hay una diferencia de 44.359 ordenes que no tienen detalles y hay 28.956 detalles que no tienen orden. Ninguno de los casos tiene sentido en el contexto de WideWorldImporters. ¿Tienen alguna forma de identificar cual detalle corresponde a cual orden?\n",
    "\n",
    "**Usando herramientas:**\n",
    "\n",
    "Seccion general del reporte:\n",
    "1. Tenemos 14 variables y 88.258 registros (es decir, ordenes), de las cuales 7 son numericas, 2 categoricas, 1 booleana, 1 datetime y 3 no soportadas (la herramienta entiende tipo de variable como tipo de dato, asi que la información que nos da no es necesariamente correcta en este aspecto).\n",
    "\n",
    "2. En los datos hay 29.3% de datos vacíos, (conclusión)\n",
    "\n",
    "3. El archivo ocupa en memoria 7.5 MB\n",
    "\n",
    "4. No hay registros duplicados\n",
    "\n",
    "Sección de variables del reporte:\n",
    "\n",
    "5. Note que para cada variable nos dan estadisticos como la media, mínimo y máximo asi como un histograma de distribución de la variable, para nuestros datos no observamos nada por fuera de lo comun. (Como valores extremos)\n",
    "\n",
    "6. La variable ID_de_pedido tiene 61.3% de valores distintos, es decir, es una variable con alta cardinalidad. Este tipo de variables no aportan a las relaciones entre filas o columnas, por lo que suelen no ser útiles a la hora de hacer análitica.\n",
    "\n",
    "7. La variable ID_cliente tiene solo el 0,8% de valores distintos, es decir que las ordenes que tenemos parecen ser de pocos clientes, pero que podrían ser recurrentes o fieles\n",
    "\n",
    "8. Hay 10 empleados en los datos de ordenes\n",
    "\n",
    "9. Seleccionado_por_ID_persona tiene 15,4% de datos vacíos, no es muy alto pero podríamos eliminarla si no es importante. Preguntar al negocio\n",
    "\n",
    "10. ID_de_pedido_pendiente tiene un porcentaje de 89,5% de valores vacíos, es casi constante y las columnas constantes no aportan a los análisis, preguntar al negocio si hay algún inconveniente en borrar esta columna\n",
    "\n",
    "11. Hay 1512 Fecha_de_pedido distintos, siendo el 3 de febrero del 2015 una de las fechas con más número de ordenes\n",
    "\n",
    "12. Fecha_de_entrega_esperada y Seleccion_completada_cuando tienen alta cardinalidad\n",
    "\n",
    "Sección de correlación:\n",
    "\n",
    "13. Parecen haber columnas con correlaciones(Spearman) iguales a 1, esto significa que ambas columnas representan la misma información, idealmente no queremos columnas \"repetidas\", un ejemplo es ID_cliente y ID_de_persona_de_contacto, decidimos preguntarle al negocio si es necesario mantener ambas columnas\n",
    "\n",
    "**Conclusiones de consultoria**\n",
    "\n",
    "![Requerimiento](./Requerimiento.png)\n",
    "\n",
    "Teniendo en cuenta el requerimiento de WWI, consideramos que es posible llevar a cabo una solucióon pues contamos con la información necesaria especificada en el análisis requerido, sin embargo es necesario realizar correcciones a los datos y obtener aclaraciones de parte del negocio para entender completamente la necesidad de negocio"
   ]
  },
  {
   "cell_type": "markdown",
   "metadata": {
    "id": "RPsIPacsPn3f"
   },
   "source": [
    "Para comprobar su comprensión de esta sección, lo invitamos a responder la pregunta:\n",
    "\n",
    "    ¿Qué funcionalidades de PySpark puedo utilizar para realizar el entendimiento de datos y cómo las puedo utilizar?\n",
    "    \n",
    "Como parte de nuestro trabajo es preveer posibles soluciones a las conclusiones de perfilamiento, por ende lo invitamos a responder:\n",
    "\n",
    "    ¿Qué métodos podría utilizar para reemplazar los valores nulos de una columna por el promedio de la misma?"
   ]
  },
  {
   "cell_type": "markdown",
   "metadata": {
    "id": "0JxEJmKnPn3h"
   },
   "source": [
    "### Entendimiento general de datos \"Fuente Condiciones de Pago\""
   ]
  },
  {
   "cell_type": "markdown",
   "metadata": {
    "id": "3HZloEq5Pn3S"
   },
   "source": [
    "#### Cargue de datos\n",
    "Para consultar desde la base de datos se puede acceder directamente a la tabla dado su nombre o se puede especificar la sentencia SQL de un \"SELECT\" completo para traer la información total o parcial de la tabla que se requiere. A continuación un ejemplo de cada uno de estos usos. \n",
    "Acceso directo para el caso de órdenes y acceso con sentencia SQL para el caso de detallesOrdenes."
   ]
  },
  {
   "cell_type": "code",
   "execution_count": 59,
   "metadata": {
    "id": "xMaQViPnPn3S"
   },
   "outputs": [],
   "source": [
    "sql_areas = 'FuenteAreasDeServicio_Copia_E'"
   ]
  },
  {
   "cell_type": "code",
   "execution_count": 61,
   "metadata": {
    "id": "Ajy_XMshPn3T"
   },
   "outputs": [],
   "source": [
    "#Se cargan los dataframes desde la base de datos\n",
    "areas = obtener_dataframe_de_bd(db_connection_string, sql_areas, db_user, db_psswd)"
   ]
  },
  {
   "cell_type": "markdown",
   "metadata": {
    "id": "qxN27II0Pn3T"
   },
   "source": [
    "### Entendimiento general de datos \"Fuente Condiciones de Pago\""
   ]
  },
  {
   "cell_type": "markdown",
   "metadata": {
    "id": "BMULJYE2Pn3T"
   },
   "source": [
    "Para ver una muestra de los datos, utilice el comando <i>show</i> ingresando el número de filas que quiere ver"
   ]
  },
  {
   "cell_type": "code",
   "execution_count": 62,
   "metadata": {
    "id": "HtrqSl0zPn3T",
    "outputId": "c20c03fc-68d4-4d2e-eb8f-91a06cdd3174"
   },
   "outputs": [
    {
     "name": "stdout",
     "output_type": "stream",
     "text": [
      "+------------------+--------------------+-------------+-----------------+----------+------------+-----+--------+-----+\n",
      "|IdAreaDeServicio_T|NombreAreaDeServicio|IdGeografia_T|          Condado|    Estado|PoblacionAct| Area|Densidad|Fecha|\n",
      "+------------------+--------------------+-------------+-----------------+----------+------------+-----+--------+-----+\n",
      "|         100622017|New Jersey - Medi...|        34005|Burlington County|New Jersey|    464269.0|805.0|   577.0| 2017|\n",
      "|         101012018|New Jersey - Medi...|        34031|   Passaic County|New Jersey|    518117.0|185.0|  2801.0| 2018|\n",
      "|          10132017|BlueOptions16842F...|        12031|     Duval County|   Florida|    999935.0|774.0|  1292.0| 2017|\n",
      "|         101982018|New Jersey - Medi...|        34003|    Bergen County|New Jersey|    953819.0|234.0|  4076.0| 2018|\n",
      "|         102012017|New Jersey - Medi...|        34021|    Mercer County|New Jersey|    385898.0|226.0|  1708.0| 2017|\n",
      "+------------------+--------------------+-------------+-----------------+----------+------------+-----+--------+-----+\n",
      "only showing top 5 rows\n",
      "\n"
     ]
    }
   ],
   "source": [
    "areas.show(5)"
   ]
  },
  {
   "cell_type": "markdown",
   "metadata": {
    "id": "Q_aZvenTPn3U"
   },
   "source": [
    "Como puede observar "
   ]
  },
  {
   "cell_type": "code",
   "execution_count": 63,
   "metadata": {
    "id": "lLV_ItLhPn3U",
    "outputId": "db9438a4-0a6d-4809-ea99-752add60ad64"
   },
   "outputs": [
    {
     "data": {
      "text/plain": [
       "StructType(List(StructField(IdAreaDeServicio_T,IntegerType,true),StructField(NombreAreaDeServicio,StringType,true),StructField(IdGeografia_T,IntegerType,true),StructField(Condado,StringType,true),StructField(Estado,StringType,true),StructField(PoblacionAct,DoubleType,true),StructField(Area,DoubleType,true),StructField(Densidad,DoubleType,true),StructField(Fecha,IntegerType,true)))"
      ]
     },
     "execution_count": 63,
     "metadata": {},
     "output_type": "execute_result"
    }
   ],
   "source": [
    "areas.schema"
   ]
  },
  {
   "cell_type": "markdown",
   "metadata": {
    "id": "seP-zo8JPn3U"
   },
   "source": [
    "Por otra parte, en lo"
   ]
  },
  {
   "cell_type": "markdown",
   "metadata": {
    "id": "uw09BODdPn3V"
   },
   "source": [
    "Una vez entendida en términos generales la estructura de los datos, es necesario conocer la cantidad de datos disponibles, esto se hace con count() y con columns, que retornan el número de filas y número de columnas respectivamente."
   ]
  },
  {
   "cell_type": "code",
   "execution_count": 64,
   "metadata": {
    "id": "g0Lvl535Pn3V",
    "outputId": "6fb3f30d-2179-4d50-ddd5-4880e28673d8"
   },
   "outputs": [
    {
     "name": "stdout",
     "output_type": "stream",
     "text": [
      "(188815, 9)\n"
     ]
    }
   ],
   "source": [
    "print((areas.count(), len(areas.columns)))"
   ]
  },
  {
   "cell_type": "markdown",
   "metadata": {
    "id": "kqwEyUFpPn3V"
   },
   "source": [
    "**¿Cuantos datos nos compartieron para el proyecto?**\n",
    "En total tenemos 188815 instancias de Fuentes de areas de servicio en un total de 9 variables a revisar de las cuales 1 es un ID que identifica el tipo de servicio y 8 variables que muestran información sobre la ubicación de las áreas y fechas."
   ]
  },
  {
   "cell_type": "markdown",
   "metadata": {
    "id": "GnAScmClPn3W"
   },
   "source": [
    "### Revisión de reglas de negocio \n",
    "\n",
    "Primero se confirman las reglas proporcionadas por el negocio, la primera que asegura que existen información desde 2017 al 2019"
   ]
  },
  {
   "cell_type": "code",
   "execution_count": 71,
   "metadata": {},
   "outputs": [
    {
     "name": "stdout",
     "output_type": "stream",
     "text": [
      "+----------+\n",
      "|max(Fecha)|\n",
      "+----------+\n",
      "|      2018|\n",
      "+----------+\n",
      "\n",
      "+----------+\n",
      "|min(Fecha)|\n",
      "+----------+\n",
      "|      1800|\n",
      "+----------+\n",
      "\n"
     ]
    }
   ],
   "source": [
    "areas.agg({\"Fecha\": \"max\"}).show()\n",
    "areas.agg({\"Fecha\": \"min\"}).show()"
   ]
  },
  {
   "cell_type": "markdown",
   "metadata": {},
   "source": [
    "Se observa que el periodo de años de la tabla de Areas de Servicio está entre 1800 y 2018 - No corresponde a lo definido por el cliente"
   ]
  },
  {
   "cell_type": "markdown",
   "metadata": {},
   "source": [
    "La siguiente regla asegura que las ***areas de servicio se distribuyen por todo el país***. Para este caso:"
   ]
  },
  {
   "cell_type": "code",
   "execution_count": 78,
   "metadata": {},
   "outputs": [
    {
     "name": "stdout",
     "output_type": "stream",
     "text": [
      "El número de estados donde se encuentran las áreas de servicio son: 35\n",
      "+--------------+\n",
      "|        Estado|\n",
      "+--------------+\n",
      "|        Hawaii|\n",
      "|          Ohio|\n",
      "|        Oregon|\n",
      "|      Arkansas|\n",
      "|         Texas|\n",
      "|  North Dakota|\n",
      "|  Pennsylvania|\n",
      "|      Illinois|\n",
      "|      Oklahoma|\n",
      "|      Delaware|\n",
      "|        Alaska|\n",
      "|    New Mexico|\n",
      "| West Virginia|\n",
      "|      Missouri|\n",
      "|       Georgia|\n",
      "|       Montana|\n",
      "|      Virginia|\n",
      "|      Michigan|\n",
      "|North Carolina|\n",
      "|       Wyoming|\n",
      "|        Kansas|\n",
      "|    New Jersey|\n",
      "|       Alabama|\n",
      "|       Arizona|\n",
      "|      Kentucky|\n",
      "|     Louisiana|\n",
      "|   Mississippi|\n",
      "| New Hampshire|\n",
      "|     Tennessee|\n",
      "|       Florida|\n",
      "|       Indiana|\n",
      "|South Carolina|\n",
      "|  South Dakota|\n",
      "|     Wisconsin|\n",
      "|         Maine|\n",
      "+--------------+\n",
      "\n"
     ]
    }
   ],
   "source": [
    "estados = areas.select(\"Estado\").distinct()\n",
    "num_estados = estados.count()\n",
    "print(f\"El número de estados donde se encuentran las áreas de servicio son: {num_estados}\")\n",
    "estados.show(35)"
   ]
  },
  {
   "cell_type": "code",
   "execution_count": 79,
   "metadata": {},
   "outputs": [
    {
     "name": "stdout",
     "output_type": "stream",
     "text": [
      "El número de condados donde se encuentran las áreas de servicio son: 1398\n",
      "+------------+\n",
      "|      Estado|\n",
      "+------------+\n",
      "|      Hawaii|\n",
      "|        Ohio|\n",
      "|      Oregon|\n",
      "|    Arkansas|\n",
      "|       Texas|\n",
      "|North Dakota|\n",
      "|Pennsylvania|\n",
      "|    Illinois|\n",
      "|    Oklahoma|\n",
      "|    Delaware|\n",
      "+------------+\n",
      "only showing top 10 rows\n",
      "\n"
     ]
    }
   ],
   "source": [
    "condados = areas.select(\"Condado\").distinct()\n",
    "num_condados = condados.count()\n",
    "print(f\"El número de condados donde se encuentran las áreas de servicio son: {num_condados}\")\n",
    "estados.show(10)"
   ]
  },
  {
   "cell_type": "markdown",
   "metadata": {},
   "source": [
    "Como resultado se observa que se definen áreas de servicio solo para ***35 estados*** y ***1398*** condados"
   ]
  },
  {
   "cell_type": "code",
   "execution_count": 81,
   "metadata": {
    "id": "ssjlV5xbPn3W",
    "outputId": "2ab69e67-fcc0-42c0-bf32-425d65c5118b"
   },
   "outputs": [
    {
     "name": "stdout",
     "output_type": "stream",
     "text": [
      "+--------------------+-----+\n",
      "|             Condado|count|\n",
      "+--------------------+-----+\n",
      "|         Owen County|  278|\n",
      "|   Williamson County|  341|\n",
      "|     McLennan County|  155|\n",
      "|Lewis and Clark C...|  161|\n",
      "|     Canadian County|   42|\n",
      "|         Rock County|   94|\n",
      "|       Unicoi County|   10|\n",
      "|   Cumberland County|  560|\n",
      "|      Webster County|  500|\n",
      "|     Woodward County|   76|\n",
      "|     Muskegon County|  123|\n",
      "|      Wexford County|  122|\n",
      "|         Cole County|  136|\n",
      "|    Hempstead County|   17|\n",
      "|      Rosebud County|   95|\n",
      "|      Kingman County|  111|\n",
      "|       DuPage County|   22|\n",
      "|    Robertson County|  191|\n",
      "|      El Paso County|  131|\n",
      "|     Montcalm County|  152|\n",
      "+--------------------+-----+\n",
      "only showing top 20 rows\n",
      "\n"
     ]
    }
   ],
   "source": [
    "descripcion = areas.select(\"Condado\", \"IdGeografia_T\").groupBy(\"Condado\").count()\n",
    "descripcion.show()"
   ]
  },
  {
   "cell_type": "markdown",
   "metadata": {},
   "source": [
    "Revisamos las categorias de Descripción cuando nos enfocamos en el ***\"Tipo\" == \"Copago\"***. Encontramos 14 diferentes categorias, pero en la tabla general encontramos el tipo Copagado podría considerarse dentro de \"Copago\". Haciendo este ajuste en el select encontramos que solo existen 14 descripciones de este tipo. Existen dos descripciones ***No Charge after d*** y ***No Charge*** que pueden referirse al tipo Coseguro y que están incorrectamente asignadas"
   ]
  },
  {
   "cell_type": "code",
   "execution_count": 38,
   "metadata": {},
   "outputs": [
    {
     "name": "stdout",
     "output_type": "stream",
     "text": [
      "+--------------------+\n",
      "|         Descripcion|\n",
      "+--------------------+\n",
      "|      Copay per Stay|\n",
      "|No Charge after d...|\n",
      "|           No Charge|\n",
      "|Copay before dedu...|\n",
      "|Copay per Stay wi...|\n",
      "|Copay per Stay af...|\n",
      "|Copay per Day aft...|\n",
      "|Copay with deduct...|\n",
      "|Copay after deduc...|\n",
      "|Copay per Day bef...|\n",
      "|Copay per Stay be...|\n",
      "|Copay per Day wit...|\n",
      "|               Copay|\n",
      "|       Copay per Day|\n",
      "+--------------------+\n",
      "\n"
     ]
    }
   ],
   "source": [
    "fuentes.select(\"Descripcion\").where(fuentes[\"Tipo\"].isin(\"Copago\", \"pago\")).distinct().show()"
   ]
  },
  {
   "cell_type": "markdown",
   "metadata": {},
   "source": [
    "Revisamos las categorias de Descripción cuando nos enfocamos en el ***\"Tipo\" == \"Coseguro\"***. Encontramos 4 diferentes categorias. Exite una categoria en el tipo Copago llamada ***No Charge*** que puede referirse al 5 grupo de copago"
   ]
  },
  {
   "cell_type": "code",
   "execution_count": 39,
   "metadata": {},
   "outputs": [
    {
     "name": "stdout",
     "output_type": "stream",
     "text": [
      "+--------------------+\n",
      "|         Descripcion|\n",
      "+--------------------+\n",
      "|No Charge after d...|\n",
      "|Coinsurance after...|\n",
      "|         Coinsurance|\n",
      "|      Not Applicable|\n",
      "+--------------------+\n",
      "\n"
     ]
    }
   ],
   "source": [
    "fuentes.select(\"Descripcion\").where(fuentes[\"Tipo\"]==\"Coseguro\").distinct().show()"
   ]
  },
  {
   "cell_type": "code",
   "execution_count": 43,
   "metadata": {},
   "outputs": [
    {
     "name": "stdout",
     "output_type": "stream",
     "text": [
      "+--------------+\n",
      "|   Descripcion|\n",
      "+--------------+\n",
      "|Copay per Stay|\n",
      "+--------------+\n",
      "\n",
      "+---------------------+\n",
      "|IdCondicionesDePago_T|\n",
      "+---------------------+\n",
      "|                  221|\n",
      "+---------------------+\n",
      "\n"
     ]
    }
   ],
   "source": [
    "fuentes.select(\"Descripcion\").where(fuentes[\"Tipo\"]==\"NaN\").distinct().show()\n",
    "fuentes.select(\"IdCondicionesDePago_T\").where(fuentes[\"Tipo\"]==\"NaN\").distinct().show()"
   ]
  },
  {
   "cell_type": "markdown",
   "metadata": {
    "id": "M48A5DanPn3X"
   },
   "source": [
    "Existe un caso de tipo Nan que corresponde a la descripción ***Copay per Stay*** con ID de condiciones ***221***. Este caso puede ser planteado al cliente para indagar si se trata de un error y corresponde a la categoria Copago - lo que podrian completar las 15 condiciones expuestas por el cliente"
   ]
  },
  {
   "cell_type": "markdown",
   "metadata": {
    "id": "55FLtckZPn3W"
   },
   "source": [
    "Como resultado de la comprobación de la regla de negocio: ***Existen 15 y 5 diferentes condiciones de copago y coseguro respectivamente*** se encuentra que existen diferencias entre lo reportado por el negocio y lo entregado en la tabla. En Copagos se podrían considerar 14 tipos y en Coseguros se encuentran 4 tipos, aunque puede tratarse de un error de asignación de categorias y no de faltantes en la base de datos"
   ]
  },
  {
   "cell_type": "markdown",
   "metadata": {
    "id": "UuZspay3Pn3Z"
   },
   "source": [
    "### Análisis descriptivo\n",
    "Una vez cubierto lo básico de reglas de negocio, pasamos a perfilamiento estadístico. Para ver estadisticos generales como conteo, mínimo, máximo, desviación estandar y percentiles utilice summary()"
   ]
  },
  {
   "cell_type": "code",
   "execution_count": 44,
   "metadata": {
    "id": "TkWrIdDhPn3Z",
    "outputId": "7d37ef91-452e-49d9-8282-f1676c2b5ea9"
   },
   "outputs": [
    {
     "name": "stdout",
     "output_type": "stream",
     "text": [
      "+-------+---------------------+--------------+-------------+\n",
      "|summary|IdCondicionesDePago_T|   Descripcion|         Tipo|\n",
      "+-------+---------------------+--------------+-------------+\n",
      "|  count|                   31|            31|           31|\n",
      "|   mean|   152.16129032258064|          null|          NaN|\n",
      "| stddev|   161.75312398306122|          null|          NaN|\n",
      "|    min|                    9|   Coinsurance|     Copagado|\n",
      "|    25%|                   45|          null|          NaN|\n",
      "|    50%|                  119|          null|          NaN|\n",
      "|    75%|                  204|          null|          NaN|\n",
      "|    max|                  714|Not Applicable|SinTipoCopago|\n",
      "+-------+---------------------+--------------+-------------+\n",
      "\n"
     ]
    }
   ],
   "source": [
    "fuentes.summary().show()"
   ]
  },
  {
   "cell_type": "code",
   "execution_count": 54,
   "metadata": {
    "id": "jTU_GHMIPn3e",
    "outputId": "d5c71e84-8815-4723-c916-d9b7ee138952"
   },
   "outputs": [
    {
     "name": "stdout",
     "output_type": "stream",
     "text": [
      "+--------------------+--------+------+-----------+--------+----+-------------+\n",
      "|         Descripcion|Copagado|Copago|Coseguridad|Coseguro| NaN|SinTipoCopago|\n",
      "+--------------------+--------+------+-----------+--------+----+-------------+\n",
      "|      Copay per Stay|    null|     1|       null|    null|   2|         null|\n",
      "|No Charge after d...|    null|     2|       null|       1|null|         null|\n",
      "|Coinsurance after...|    null|  null|       null|       2|null|         null|\n",
      "|           No Charge|    null|     2|          1|    null|null|         null|\n",
      "|Copay before dedu...|    null|     1|       null|    null|null|         null|\n",
      "|Copay per Stay wi...|    null|     1|       null|    null|null|         null|\n",
      "|Copay per Stay af...|    null|     2|       null|    null|null|            1|\n",
      "|Copay per Day aft...|    null|     1|       null|    null|null|         null|\n",
      "|Copay with deduct...|    null|     1|       null|    null|null|         null|\n",
      "|         Coinsurance|    null|  null|       null|       3|null|         null|\n",
      "|Copay after deduc...|    null|     1|       null|    null|null|         null|\n",
      "|Copay per Day bef...|    null|     1|       null|    null|null|         null|\n",
      "|Copay per Stay be...|    null|     1|       null|    null|null|         null|\n",
      "|Copay per Day wit...|    null|     2|       null|    null|null|         null|\n",
      "|               Copay|    null|     2|       null|    null|null|         null|\n",
      "|       Copay per Day|    null|     1|       null|    null|null|         null|\n",
      "|      Not Applicable|       1|  null|       null|       1|null|         null|\n",
      "+--------------------+--------+------+-----------+--------+----+-------------+\n",
      "\n"
     ]
    }
   ],
   "source": [
    "fuentes.groupBy('Descripcion').pivot('Tipo').count().show()"
   ]
  },
  {
   "cell_type": "markdown",
   "metadata": {
    "id": "0zEoTVtOPn3Z"
   },
   "source": [
    "En las estadísticas anteriores ve"
   ]
  },
  {
   "cell_type": "markdown",
   "metadata": {
    "id": "K5ZlLb22Pn3a"
   },
   "source": [
    "En las estadíticas de orden podemos observar que el valor promedio de precio unitario es 44.54, la cantidad promedio es 213 unidades y el promedio de cantidad seleccionada es 39.74\n"
   ]
  },
  {
   "cell_type": "code",
   "execution_count": 49,
   "metadata": {
    "id": "dn8Ez79LPn3a",
    "outputId": "4fdf9370-9987-46a8-80c0-8b4c79655534"
   },
   "outputs": [
    {
     "data": {
      "text/plain": [
       "([0, 1, 2, 3, 4, 5],\n",
       " [Text(0, 0, ''),\n",
       "  Text(0, 0, ''),\n",
       "  Text(0, 0, ''),\n",
       "  Text(0, 0, ''),\n",
       "  Text(0, 0, ''),\n",
       "  Text(0, 0, '')])"
      ]
     },
     "execution_count": 49,
     "metadata": {},
     "output_type": "execute_result"
    },
    {
     "data": {
      "image/png": "[encoded data removed]",
      "text/plain": [
       "<Figure size 432x288 with 1 Axes>"
      ]
     },
     "metadata": {
      "needs_background": "light"
     },
     "output_type": "display_data"
    }
   ],
   "source": [
    "%matplotlib inline\n",
    "import matplotlib.pyplot as plt\n",
    "\n",
    "fig1, ax1 = plt.subplots()\n",
    "ax1.set_title('Tipo Fuentes Condiciones de Pago')\n",
    "ax1.hist(np.array(fuentes.select('Tipo').collect()))\n",
    "plt.xticks(rotation=90)"
   ]
  },
  {
   "cell_type": "markdown",
   "metadata": {
    "id": "c0_4fokYPn3a"
   },
   "source": [
    "El análisis anterior es muy útil para variables de tipo numérico, sin embargo es incompleto para las variables de tipo caracter o las variables categoricas, por ende es necesario implementar nuestro propio código par obtener estadisticos como la moda y la mediana. A continuación obtenemos la moda para la variable Descripcion:"
   ]
  },
  {
   "cell_type": "markdown",
   "metadata": {
    "id": "9bG1x9gWPn3b",
    "tags": []
   },
   "source": [
    "## Análisis de calidad de datos\n",
    "La calidad de los datos consiste en validar la idoneidad de los datos analizando varias dimensiones, entre las cuales resaltamos:\n",
    "- Completitud: Datos que no existen o no se conocen\n",
    "- Unicidad (Duplicidad): Datos que son idénticos en diferentes registros o registros con valores idénticos en atributos en los que no debería ocurrir\n",
    "- Consistencia: Esta medida se define por la validez o integridad del dato, en la definición de su estructura, al interior de una fila o entre diferentes filas de la misma fuente o de diferentes fuentes. El manejo de unidades en los datos y el significado del dato son generadores de inconsistencias.\n",
    "- Validez: a nivel de formato y de sentido de los datos más alla de sus valores\n",
    "\n",
    "Para asegurar una calidad mínima de los datos en estas dimensiones hay que entender su origen y posteriormente realizar un proceso de validación de cada una de las dimensiones de perfilamiento que llevará a un entendimiento de los datos disponibles.\n"
   ]
  },
  {
   "cell_type": "markdown",
   "metadata": {
    "id": "WKPFuI9uPn3b"
   },
   "source": [
    "A continuación se definen dos funciones, la primera cuenta los valores vacios por columna de dataframe, la segunda retorna un diccionario de columnas con cardinalidad superior al 50%\n",
    "\n",
    "Te invito a revisar los recursos de calidad de datos que hemos visto en el curso, a continuacion ejemplos daremos algunos ejemplos por cada dimensión para el caso del tutorial"
   ]
  },
  {
   "cell_type": "markdown",
   "metadata": {
    "id": "ZHLs1H0hPn3b"
   },
   "source": [
    "### Unicidad y validez\n",
    "\n",
    "La unicidad se revisó en la segunda regla de negocio y la validez se reviso en el perfilamiento general, en la regla de negocio 3 y en el análisis de la descripción al final de la sección de revisión de reglas de negocio"
   ]
  },
  {
   "cell_type": "markdown",
   "metadata": {
    "id": "QgkzeSm4Pn3b"
   },
   "source": [
    "### Completitud y validez"
   ]
  },
  {
   "cell_type": "code",
   "execution_count": 50,
   "metadata": {
    "id": "mIWH-vVoPn3b"
   },
   "outputs": [],
   "source": [
    "def contar_vacios(df):\n",
    "    resultados = []\n",
    "    for c in df.columns:\n",
    "        vacios_1 = df.filter(df[c].isNull()).count()\n",
    "        vacios_2 = df.filter(df[c] == \"NaN\").count()\n",
    "        vacios = vacios_1 + vacios_2\n",
    "        if vacios!=0:\n",
    "            print('número de vacíos para columna '+c+': '+str( vacios ))\n",
    "            resultados.append(vacios)\n",
    "    return resultados\n",
    "\n",
    "def cardinalidad(df):\n",
    "    resultado = {}\n",
    "    for c in df.columns:\n",
    "        cardinalidad = df.select(col(c)).distinct().count()\n",
    "        if cardinalidad>=df.count()*0.5:\n",
    "            resultado[c] = cardinalidad\n",
    "    return resultado"
   ]
  },
  {
   "cell_type": "code",
   "execution_count": 52,
   "metadata": {
    "id": "da_z_ti-Pn3b",
    "outputId": "ecac9b39-d97a-422a-a579-698c5733ab7b"
   },
   "outputs": [
    {
     "name": "stdout",
     "output_type": "stream",
     "text": [
      "número de vacíos para columna Tipo: 2\n"
     ]
    }
   ],
   "source": [
    "columnas_vacias_ordenes = contar_vacios(fuentes)"
   ]
  },
  {
   "cell_type": "code",
   "execution_count": 53,
   "metadata": {
    "id": "NxXQm_KEPn3c",
    "outputId": "419b9709-25fe-43dd-d63a-a9be645d11f7"
   },
   "outputs": [],
   "source": [
    "columnas_alta_cardinalidad = cardinalidad(fuentes)"
   ]
  },
  {
   "cell_type": "markdown",
   "metadata": {
    "id": "vDX10qmfPn3c"
   },
   "source": [
    "Como podemos observar para las ordenes las columnas Tipo tiene 2 vacios, definidos como NaN \n",
    "Respecto a cardinalidad, Ninguna columna tiene una cardinalidad superior al 50%."
   ]
  }
 ],
 "metadata": {
  "colab": {
   "collapsed_sections": [
    "qxN27II0Pn3T",
    "GnAScmClPn3W",
    "UuZspay3Pn3Z",
    "ZHLs1H0hPn3b",
    "QgkzeSm4Pn3b",
    "LZyQcqCvPn3c",
    "eDf54JyKPn3d",
    "ltTluhtIPn3e",
    "IPhtXcD1Pn3g",
    "-axExLnhPn3g",
    "YfSMeXZQPn3g"
   ],
   "name": "MISW-ETL-Entendimiento.ipynb",
   "provenance": []
  },
  "kernelspec": {
   "display_name": "Python 3 (ipykernel)",
   "language": "python",
   "name": "python3"
  },
  "language_info": {
   "codemirror_mode": {
    "name": "ipython",
    "version": 3
   },
   "file_extension": ".py",
   "mimetype": "text/x-python",
   "name": "python",
   "nbconvert_exporter": "python",
   "pygments_lexer": "ipython3",
   "version": "3.7.13"
  },
  "toc-autonumbering": false,
  "toc-showcode": true
 },
 "nbformat": 4,
 "nbformat_minor": 4
}
