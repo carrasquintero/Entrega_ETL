{
 "cells": [
  {
   "cell_type": "markdown",
   "metadata": {
    "id": "YLE3Y7VOPn3G"
   },
   "source": [
    "# Tutorial: Entendimiento de los datos RaSa"
   ]
  },
  {
   "cell_type": "markdown",
   "metadata": {
    "id": "V3leWyj9Pn3L"
   },
   "source": [
    "Continuando con el proyecto de consultoria de Wide World Importers, el primer paso para iniciar la comprensión de los datos es explorar y entender las fuentes de datos disponibles. Note que esto también nos ayuda a comprender mejor la organización."
   ]
  },
  {
   "cell_type": "markdown",
   "metadata": {
    "id": "dm33nuYTPn3L"
   },
   "source": [
    "## Configuración e importe de paquetes\n",
    "Se utilizará el paquete de pandas profiling para apoyar el análisis estadístico, y se importan los paquetes de python\n",
    "necesarios"
   ]
  },
  {
   "cell_type": "code",
   "execution_count": 1,
   "metadata": {
    "id": "gGiDdRBNPn3M"
   },
   "outputs": [
    {
     "name": "stderr",
     "output_type": "stream",
     "text": [
      "C:\\Users\\estudiante\\anaconda3\\envs\\Tutoriales\\lib\\site-packages\\tqdm\\auto.py:22: TqdmWarning: IProgress not found. Please update jupyter and ipywidgets. See https://ipywidgets.readthedocs.io/en/stable/user_install.html\n",
      "  from .autonotebook import tqdm as notebook_tqdm\n"
     ]
    }
   ],
   "source": [
    "from pyspark.sql import SparkSession\n",
    "from pyspark.sql import functions\n",
    "from pyspark.sql.types import StructType\n",
    "from pyspark import SparkContext, SparkConf, SQLContext\n",
    "from pyspark.sql.types import FloatType, StringType, IntegerType, DateType\n",
    "from pyspark.sql.functions import udf, col, length, isnan, when, count\n",
    "import pyspark.sql.functions as f\n",
    "import os \n",
    "from datetime import datetime\n",
    "from pyspark.sql import types as t\n",
    "from pandas_profiling import ProfileReport\n",
    "import matplotlib.pyplot as plt\n",
    "import numpy as np"
   ]
  },
  {
   "cell_type": "markdown",
   "metadata": {
    "id": "Tyk0YmZRPn3N"
   },
   "source": [
    "Configuración del controlador e inicio de sesion Spark"
   ]
  },
  {
   "cell_type": "code",
   "execution_count": 2,
   "metadata": {
    "id": "0r-yix1rPn3O"
   },
   "outputs": [],
   "source": [
    "path_jar_driver = 'C:\\Program Files (x86)\\MySQL\\Connector J 8.0\\mysql-connector-java-8.0.28.jar'"
   ]
  },
  {
   "cell_type": "code",
   "execution_count": 3,
   "metadata": {
    "id": "0-m3Q2MtPn3O",
    "outputId": "459f0ec2-9a36-4a36-edac-427852524d95"
   },
   "outputs": [
    {
     "name": "stderr",
     "output_type": "stream",
     "text": [
      "C:\\Users\\estudiante\\anaconda3\\envs\\Tutoriales\\lib\\site-packages\\pyspark\\sql\\context.py:79: FutureWarning: Deprecated in 3.0.0. Use SparkSession.builder.getOrCreate() instead.\n",
      "  FutureWarning\n"
     ]
    }
   ],
   "source": [
    "#Configuración de la sesión\n",
    "conf=SparkConf() \\\n",
    "    .set('spark.driver.extraClassPath', path_jar_driver)\n",
    "\n",
    "spark_context = SparkContext(conf=conf)\n",
    "sql_context = SQLContext(spark_context)\n",
    "spark = sql_context.sparkSession"
   ]
  },
  {
   "cell_type": "code",
   "execution_count": 4,
   "metadata": {
    "id": "0eQw66SIPn3P"
   },
   "outputs": [],
   "source": [
    "# Si quiere practicar la conexion con el servidor de base de datos:\n",
    "db_connection_string = 'jdbc:mysql://157.253.236.120:8080/RaSaTransaccional'\n",
    "# El usuario es su estudiante _i asignado y su contraseña la encontrará en el archivo excel de Coursera \n",
    "db_user = 'Estudiante_22_202415'\n",
    "db_psswd = 'Estudiante_201117125'\n",
    "\n",
    "PATH='./'"
   ]
  },
  {
   "cell_type": "markdown",
   "metadata": {
    "id": "P1nkSAn5Pn3Q"
   },
   "source": [
    "## Perfilamiento de los datos\n",
    "El perfilamiento se basa en varios aspectos: **entendimiento general** de los datos compartidos, validación de **reglas de negocio**, **análisis descriptivo** utilizando estadística descriptiva y diagramas para la visualización de los datos y **análisis de calidad**. El primero hace referencia a tener una comprensiòn global antes de entrar en los detalles, la segunda sobre las reglas, corresponden a especificaciones dadas por el negocio en relación con los datos, un ejemplo de regla de negocio dada es: \"Todo producto de la canasta familiar debe tener un precio de IVA equivalente a 19%\", dada esta regla de negocio, se debe revisar en los datos suministrados que no hayan valores de IVA menores a 19%. En el tercer aspecto, relacionado con el análisis descriptivo, se revisan estadísticas: mínimo, máximo, media, mediana, distribuciones de los datos, valores nulos, cardinalidad con el fin de comprender en mayor nivel de profundidad los datos compartidos.\n"
   ]
  },
  {
   "cell_type": "markdown",
   "metadata": {
    "id": "p6KvbuvpPn3Q"
   },
   "source": [
    "### Información dada por la organización relacionada con los datos\n",
    "RaSA de forma conjunta con un grupo de consultores de inteligencia de negocios, ha trabajado en una especificación de los primeros análisis que quiere que usted realice. En esta primera fase, a partir de estos análisis propuestos, la empresa le ha entregado una serie de fuentes de datos y requiere que usted realice los siguientes entregables relacionados con la etapa de entendimiento de datos:\n",
    "\n",
    "Dichos datos pueden tener errores ya que no han sido utilizados previamente para ser analizados. La empresa nos da información adicional sobre los datos:\n",
    "\n",
    "- Las áreas de servicios reportadas cubren todos los condados del país\n",
    "- Los tipos de beneficios con límite cuantitativo deben tener una cantidad límite diferente de cero en los planes que los ofrecen.\n",
    "- Las fuentes FuenteAreasDeServicio_Copia_E y FuenteTiposBeneficio_Copia_E comparten información de los años 2017 al 2019\n",
    "- La empresa comparte 5409 áreas de servicios y 170 tipos de beneficios.\n",
    "- El valor máximo Copago y Coseguro para el año 2018 es respectivamente 3300 y 100.\n",
    "- Además, les comparte información de 301 planes para 2017 y de 422 para el año 2018.\n",
    "- Existen 15 y 5 diferentes condiciones de copago y coseguro respectivamente.\n"
   ]
  },
  {
   "cell_type": "markdown",
   "metadata": {
    "id": "Xw96w3ywPn3R"
   },
   "source": [
    "### Conexión a fuente de datos y acceso a los datos"
   ]
  },
  {
   "cell_type": "markdown",
   "metadata": {
    "id": "LKHpN3nzPn3R"
   },
   "source": [
    "#### Conexión a fuente de datos\n",
    "A continuación encuentra las funciones para conectarse a la fuente de datos (archivo csv o base de datos) y retornar un dataframe que es el que se utilizará posteriormente para manipular los datos."
   ]
  },
  {
   "cell_type": "code",
   "execution_count": 5,
   "metadata": {
    "id": "SsdwInchPn3R"
   },
   "outputs": [],
   "source": [
    "def obtener_dataframe_de_bd(db_connection_string, sql, db_user, db_psswd):\n",
    "    df_bd = spark.read.format('jdbc')\\\n",
    "        .option('url', db_connection_string) \\\n",
    "        .option('dbtable', sql) \\\n",
    "        .option('user', db_user) \\\n",
    "        .option('password', db_psswd) \\\n",
    "        .option('driver', 'com.mysql.cj.jdbc.Driver') \\\n",
    "        .load()\n",
    "    return df_bd"
   ]
  },
  {
   "cell_type": "markdown",
   "metadata": {
    "id": "0JxEJmKnPn3h"
   },
   "source": [
    "### Entendimiento general de datos \"Fuente Condiciones de Pago\""
   ]
  },
  {
   "cell_type": "markdown",
   "metadata": {
    "id": "3HZloEq5Pn3S"
   },
   "source": [
    "#### Cargue de datos\n",
    "Para consultar desde la base de datos se puede acceder directamente a la tabla dado su nombre o se puede especificar la sentencia SQL de un \"SELECT\" completo para traer la información total o parcial de la tabla que se requiere. A continuación un ejemplo de cada uno de estos usos. \n",
    "Acceso directo para el caso de órdenes y acceso con sentencia SQL para el caso de detallesOrdenes."
   ]
  },
  {
   "cell_type": "code",
   "execution_count": 6,
   "metadata": {
    "id": "xMaQViPnPn3S"
   },
   "outputs": [],
   "source": [
    "sql_areas = 'FuenteAreasDeServicio_Copia_E'\n"
   ]
  },
  {
   "cell_type": "code",
   "execution_count": 7,
   "metadata": {
    "id": "Ajy_XMshPn3T"
   },
   "outputs": [],
   "source": [
    "#Se cargan los dataframes desde la base de datos\n",
    "areas = obtener_dataframe_de_bd(db_connection_string, sql_areas, db_user, db_psswd)\n"
   ]
  },
  {
   "cell_type": "markdown",
   "metadata": {
    "id": "qxN27II0Pn3T"
   },
   "source": [
    "### Entendimiento general de datos \"Fuente Condiciones de Pago\""
   ]
  },
  {
   "cell_type": "markdown",
   "metadata": {
    "id": "BMULJYE2Pn3T"
   },
   "source": [
    "Para ver una muestra de los datos, utilice el comando <i>show</i> ingresando el número de filas que quiere ver"
   ]
  },
  {
   "cell_type": "code",
   "execution_count": 8,
   "metadata": {
    "id": "HtrqSl0zPn3T",
    "outputId": "c20c03fc-68d4-4d2e-eb8f-91a06cdd3174"
   },
   "outputs": [
    {
     "name": "stdout",
     "output_type": "stream",
     "text": [
      "+------------------+--------------------+-------------+-----------------+----------+------------+-----+--------+-----+\n",
      "|IdAreaDeServicio_T|NombreAreaDeServicio|IdGeografia_T|          Condado|    Estado|PoblacionAct| Area|Densidad|Fecha|\n",
      "+------------------+--------------------+-------------+-----------------+----------+------------+-----+--------+-----+\n",
      "|         100622017|New Jersey - Medi...|        34005|Burlington County|New Jersey|    464269.0|805.0|   577.0| 2017|\n",
      "|         101012018|New Jersey - Medi...|        34031|   Passaic County|New Jersey|    518117.0|185.0|  2801.0| 2018|\n",
      "|          10132017|BlueOptions16842F...|        12031|     Duval County|   Florida|    999935.0|774.0|  1292.0| 2017|\n",
      "|         101982018|New Jersey - Medi...|        34003|    Bergen County|New Jersey|    953819.0|234.0|  4076.0| 2018|\n",
      "|         102012017|New Jersey - Medi...|        34021|    Mercer County|New Jersey|    385898.0|226.0|  1708.0| 2017|\n",
      "+------------------+--------------------+-------------+-----------------+----------+------------+-----+--------+-----+\n",
      "only showing top 5 rows\n",
      "\n"
     ]
    }
   ],
   "source": [
    "areas.show(5)"
   ]
  },
  {
   "cell_type": "markdown",
   "metadata": {
    "id": "Q_aZvenTPn3U"
   },
   "source": [
    "Como puede observar "
   ]
  },
  {
   "cell_type": "code",
   "execution_count": 9,
   "metadata": {
    "id": "lLV_ItLhPn3U",
    "outputId": "db9438a4-0a6d-4809-ea99-752add60ad64"
   },
   "outputs": [
    {
     "data": {
      "text/plain": [
       "StructType(List(StructField(IdAreaDeServicio_T,IntegerType,true),StructField(NombreAreaDeServicio,StringType,true),StructField(IdGeografia_T,IntegerType,true),StructField(Condado,StringType,true),StructField(Estado,StringType,true),StructField(PoblacionAct,DoubleType,true),StructField(Area,DoubleType,true),StructField(Densidad,DoubleType,true),StructField(Fecha,IntegerType,true)))"
      ]
     },
     "execution_count": 9,
     "metadata": {},
     "output_type": "execute_result"
    }
   ],
   "source": [
    "areas.schema"
   ]
  },
  {
   "cell_type": "markdown",
   "metadata": {
    "id": "seP-zo8JPn3U"
   },
   "source": [
    "Por otra parte, en lo"
   ]
  },
  {
   "cell_type": "markdown",
   "metadata": {
    "id": "uw09BODdPn3V"
   },
   "source": [
    "Una vez entendida en términos generales la estructura de los datos, es necesario conocer la cantidad de datos disponibles, esto se hace con count() y con columns, que retornan el número de filas y número de columnas respectivamente."
   ]
  },
  {
   "cell_type": "code",
   "execution_count": 10,
   "metadata": {
    "id": "g0Lvl535Pn3V",
    "outputId": "6fb3f30d-2179-4d50-ddd5-4880e28673d8"
   },
   "outputs": [
    {
     "name": "stdout",
     "output_type": "stream",
     "text": [
      "(188815, 9)\n"
     ]
    }
   ],
   "source": [
    "print((areas.count(), len(areas.columns)))"
   ]
  },
  {
   "cell_type": "markdown",
   "metadata": {
    "id": "kqwEyUFpPn3V"
   },
   "source": [
    "**¿Cuantos datos nos compartieron para el proyecto?**\n",
    "En total tenemos 188815 instancias de Fuentes de areas de servicio en un total de 9 variables a revisar de las cuales 1 es un ID que identifica el tipo de servicio y 8 variables que muestran información sobre la ubicación de las áreas y fechas."
   ]
  },
  {
   "cell_type": "markdown",
   "metadata": {
    "id": "GnAScmClPn3W"
   },
   "source": [
    "### Revisión de reglas de negocio \n",
    "\n",
    "Primero se confirman las reglas proporcionadas por el negocio, la primera que asegura que existen información desde 2017 al 2019"
   ]
  },
  {
   "cell_type": "code",
   "execution_count": 11,
   "metadata": {},
   "outputs": [
    {
     "name": "stdout",
     "output_type": "stream",
     "text": [
      "+----------+\n",
      "|max(Fecha)|\n",
      "+----------+\n",
      "|      2018|\n",
      "+----------+\n",
      "\n",
      "+----------+\n",
      "|min(Fecha)|\n",
      "+----------+\n",
      "|      1800|\n",
      "+----------+\n",
      "\n"
     ]
    }
   ],
   "source": [
    "areas.agg({\"Fecha\": \"max\"}).show()\n",
    "areas.agg({\"Fecha\": \"min\"}).show()"
   ]
  },
  {
   "cell_type": "markdown",
   "metadata": {},
   "source": [
    "Se observa que el periodo de años de la tabla de Areas de Servicio está entre 1800 y 2018 - No corresponde a lo definido por el cliente"
   ]
  },
  {
   "cell_type": "markdown",
   "metadata": {},
   "source": [
    "La siguiente regla asegura que las ***areas de servicio se distribuyen por todo el país***. Para este caso:"
   ]
  },
  {
   "cell_type": "code",
   "execution_count": 12,
   "metadata": {},
   "outputs": [
    {
     "name": "stdout",
     "output_type": "stream",
     "text": [
      "El número de estados donde se encuentran las áreas de servicio son: 35\n",
      "+--------------+\n",
      "|        Estado|\n",
      "+--------------+\n",
      "|        Hawaii|\n",
      "|          Ohio|\n",
      "|        Oregon|\n",
      "|      Arkansas|\n",
      "|         Texas|\n",
      "|  North Dakota|\n",
      "|  Pennsylvania|\n",
      "|      Illinois|\n",
      "|      Oklahoma|\n",
      "|      Delaware|\n",
      "|        Alaska|\n",
      "|    New Mexico|\n",
      "| West Virginia|\n",
      "|      Missouri|\n",
      "|       Georgia|\n",
      "|       Montana|\n",
      "|      Virginia|\n",
      "|      Michigan|\n",
      "|North Carolina|\n",
      "|       Wyoming|\n",
      "|        Kansas|\n",
      "|    New Jersey|\n",
      "|       Alabama|\n",
      "|       Arizona|\n",
      "|      Kentucky|\n",
      "|     Louisiana|\n",
      "|   Mississippi|\n",
      "| New Hampshire|\n",
      "|     Tennessee|\n",
      "|       Florida|\n",
      "|       Indiana|\n",
      "|South Carolina|\n",
      "|  South Dakota|\n",
      "|     Wisconsin|\n",
      "|         Maine|\n",
      "+--------------+\n",
      "\n"
     ]
    }
   ],
   "source": [
    "estados = areas.select(\"Estado\").distinct()\n",
    "num_estados = estados.count()\n",
    "print(f\"El número de estados donde se encuentran las áreas de servicio son: {num_estados}\")\n",
    "estados.show(35)"
   ]
  },
  {
   "cell_type": "code",
   "execution_count": 13,
   "metadata": {},
   "outputs": [
    {
     "name": "stdout",
     "output_type": "stream",
     "text": [
      "El número de condados donde se encuentran las áreas de servicio son: 1398\n",
      "+------------+\n",
      "|      Estado|\n",
      "+------------+\n",
      "|      Hawaii|\n",
      "|        Ohio|\n",
      "|      Oregon|\n",
      "|    Arkansas|\n",
      "|       Texas|\n",
      "|North Dakota|\n",
      "|Pennsylvania|\n",
      "|    Illinois|\n",
      "|    Oklahoma|\n",
      "|    Delaware|\n",
      "+------------+\n",
      "only showing top 10 rows\n",
      "\n"
     ]
    }
   ],
   "source": [
    "condados = areas.select(\"Condado\").distinct()\n",
    "num_condados = condados.count()\n",
    "print(f\"El número de condados donde se encuentran las áreas de servicio son: {num_condados}\")\n",
    "estados.show(10)"
   ]
  },
  {
   "cell_type": "markdown",
   "metadata": {},
   "source": [
    "Como resultado se observa que se definen áreas de servicio solo para ***35 estados*** y ***1398*** condados"
   ]
  },
  {
   "cell_type": "code",
   "execution_count": 14,
   "metadata": {
    "id": "ssjlV5xbPn3W",
    "outputId": "2ab69e67-fcc0-42c0-bf32-425d65c5118b"
   },
   "outputs": [
    {
     "name": "stdout",
     "output_type": "stream",
     "text": [
      "+--------------------+-----+\n",
      "|             Condado|count|\n",
      "+--------------------+-----+\n",
      "|         Owen County|    2|\n",
      "|   Williamson County|    3|\n",
      "|Lewis and Clark C...|    1|\n",
      "|     Canadian County|    1|\n",
      "|     McLennan County|    1|\n",
      "|         Rock County|    1|\n",
      "|       Unicoi County|    1|\n",
      "|     Woodward County|    1|\n",
      "|   Cumberland County|    8|\n",
      "|      Webster County|    5|\n",
      "|     Muskegon County|    1|\n",
      "|    Hempstead County|    1|\n",
      "|      Wexford County|    1|\n",
      "|      Kingman County|    1|\n",
      "|         Cole County|    1|\n",
      "|      Rosebud County|    1|\n",
      "|       DuPage County|    1|\n",
      "|      El Paso County|    1|\n",
      "|    Robertson County|    2|\n",
      "|     Montcalm County|    1|\n",
      "+--------------------+-----+\n",
      "only showing top 20 rows\n",
      "\n"
     ]
    }
   ],
   "source": [
    "descripcion = areas.select(\"Condado\", \"Estado\").distinct().groupBy(\"Condado\").count()\n",
    "descripcion.show()"
   ]
  },
  {
   "cell_type": "markdown",
   "metadata": {
    "id": "M48A5DanPn3X"
   },
   "source": [
    "##### Duplicados en Condados:\n",
    "\n",
    "Se observa que algunos condados aparecen múltiples veces con diferentes estados, lo cual puede ser inconsistente ya que un condado generalmente pertenece a un solo estado. Por ejemplo:\n",
    "\n",
    "Owen County aparece 2 veces.\n",
    "\n",
    "Williamson County aparece 3 veces.\n",
    "\n",
    "Cumberland County aparece 8 veces.\n",
    "\n",
    "Webster County aparece 5 veces.\n",
    "\n",
    "##### Inconsistencias en los Datos:\n",
    "\n",
    "La presencia de múltiples estados asociados a un mismo condado puede indicar un error de datos, posiblemente debido a:\n",
    "\n",
    "Duplicación de datos.\n",
    "\n",
    "Errores en la entrada de datos.\n",
    "\n",
    "Asociación incorrecta de estados a condados."
   ]
  },
  {
   "cell_type": "markdown",
   "metadata": {
    "id": "UuZspay3Pn3Z"
   },
   "source": [
    "### Análisis descriptivo\n",
    "Una vez cubierto lo básico de reglas de negocio, pasamos a perfilamiento estadístico. Para ver estadisticos generales como conteo, mínimo, máximo, desviación estandar y percentiles utilice summary()"
   ]
  },
  {
   "cell_type": "code",
   "execution_count": 15,
   "metadata": {
    "id": "TkWrIdDhPn3Z",
    "outputId": "7d37ef91-452e-49d9-8282-f1676c2b5ea9"
   },
   "outputs": [
    {
     "name": "stdout",
     "output_type": "stream",
     "text": [
      "+-------+--------------------+--------------------+------------------+----------------+-------+-------------------+------------------+-----------------+------------------+\n",
      "|summary|  IdAreaDeServicio_T|NombreAreaDeServicio|     IdGeografia_T|         Condado| Estado|       PoblacionAct|              Area|         Densidad|             Fecha|\n",
      "+-------+--------------------+--------------------+------------------+----------------+-------+-------------------+------------------+-----------------+------------------+\n",
      "|  count|              182527|              188815|            182437|          188815| 188815|             188815|            186408|           186408|            188815|\n",
      "|   mean|5.5661602010935366E7|                null| 42946.06266820875|            null|   null|4.147959051463602E7| 770.9518851122269|276.0979410754903|2010.2215554908244|\n",
      "| stddev|3.0402410466496132E7|                null|32489.478070072095|            null|   null|5.943835931334065E8|1263.4887340485252|851.3219978151402| 39.00236181529916|\n",
      "|    min|               12018|AZ Statewide12303...|              1001|Abbeville County|Alabama|               82.0|          -24707.0|              0.0|              1800|\n",
      "|    25%|            33432017|                null|             21035|            null|   null|            12538.0|             400.0|             20.0|              2017|\n",
      "|    50%|            50762018|                null|             35051|            null|   null|            30885.0|             575.0|             51.0|              2017|\n",
      "|    75%|            82702018|                null|             51149|            null|   null|           110686.0|             870.0|            170.0|              2018|\n",
      "|    max|           117872018|Wyoming11269WY008...|            168135|  Ziebach County|Wyoming|         4.72803E10|           88824.0|          14946.0|              2018|\n",
      "+-------+--------------------+--------------------+------------------+----------------+-------+-------------------+------------------+-----------------+------------------+\n",
      "\n"
     ]
    }
   ],
   "source": [
    "areas.summary().show()"
   ]
  },
  {
   "cell_type": "code",
   "execution_count": 16,
   "metadata": {
    "id": "dn8Ez79LPn3a",
    "outputId": "4fdf9370-9987-46a8-80c0-8b4c79655534"
   },
   "outputs": [
    {
     "name": "stderr",
     "output_type": "stream",
     "text": [
      "C:\\Users\\estudiante\\anaconda3\\envs\\Tutoriales\\lib\\site-packages\\ipykernel_launcher.py:9: UserWarning: Matplotlib is currently using agg, which is a non-GUI backend, so cannot show the figure.\n",
      "  if __name__ == '__main__':\n"
     ]
    }
   ],
   "source": [
    "poblacion = [row['PoblacionAct'] for row in areas.select('PoblacionAct').collect()]\n",
    "densidad = [row['Densidad'] for row in areas.select('Densidad').collect()]\n",
    "\n",
    "plt.figure(figsize=(10, 6))\n",
    "plt.scatter(poblacion, densidad, color='green', alpha=0.5)\n",
    "plt.title('Relación entre Población Activa y Densidad')\n",
    "plt.xlabel('Población Activa')\n",
    "plt.ylabel('Densidad')\n",
    "plt.show()\n"
   ]
  },
  {
   "cell_type": "markdown",
   "metadata": {},
   "source": [
    "Concentración de Datos:\n",
    "\n",
    "La mayoría de los puntos de datos están concentrados cerca del origen (valores bajos tanto en población activa como en densidad), lo que indica que hay muchas áreas con baja población activa y baja densidad.\n",
    "\n",
    "Distribución de Datos:\n",
    "\n",
    "A medida que se incrementan los valores de población activa, la densidad también tiende a incrementarse, aunque en menor cantidad.\n",
    "\n",
    "Hay algunos puntos de datos aislados (outliers) en la parte superior del gráfico, que representan áreas con densidades muy altas en relación con la población activa."
   ]
  },
  {
   "cell_type": "code",
   "execution_count": 17,
   "metadata": {},
   "outputs": [
    {
     "name": "stderr",
     "output_type": "stream",
     "text": [
      "C:\\Users\\estudiante\\anaconda3\\envs\\Tutoriales\\lib\\site-packages\\ipykernel_launcher.py:9: UserWarning: Matplotlib is currently using agg, which is a non-GUI backend, so cannot show the figure.\n",
      "  if __name__ == '__main__':\n"
     ]
    }
   ],
   "source": [
    "import seaborn as sns\n",
    "estado_counts = areas.groupBy(\"Estado\").count().toPandas()\n",
    "plt.figure(figsize=(12, 6))\n",
    "sns.barplot(x='Estado', y='count', data=estado_counts, palette='viridis')\n",
    "plt.title('Cantidad de Registros por Estado')\n",
    "plt.xlabel('Estado')\n",
    "plt.ylabel('Cantidad de Registros')\n",
    "plt.xticks(rotation=45)\n",
    "plt.show()\n"
   ]
  },
  {
   "cell_type": "markdown",
   "metadata": {},
   "source": [
    "Estados con mayor cantidad de registros:\n",
    "\n",
    "Texas, Virginia y South Carolina destacan con más de 12,000 registros cada uno, situándose como los estados con la mayor cantidad de registros.\n",
    "\n",
    "Otros estados como Pennsylvania, Oklahoma, Georgia, y Florida también tienen una cantidad significativa de registros, superando los 8,000.\n",
    "\n",
    "Estados con menor cantidad de registros:\n",
    "\n",
    "Hay estados que muestran una cantidad menor de registros en comparación, lo que puede reflejar variaciones en la población, la actividad económica o la implementación de políticas públicas que afectan los registros en esos estados."
   ]
  },
  {
   "cell_type": "markdown",
   "metadata": {},
   "source": [
    "###### Conclusion del analisis descriptivo "
   ]
  },
  {
   "cell_type": "markdown",
   "metadata": {
    "id": "c0_4fokYPn3a"
   },
   "source": [
    "El análisis revela que los datos presentan una amplia variabilidad en términos de población activa, área y densidad. La alta desviación estándar en varias columnas sugiere una gran diversidad en los datos, lo cual es importante para la toma de decisiones y la planificación estratégica. Sin embargo, algunas estadísticas parecen no tener sentido, especialmente considerando la cantidad de estados y condados en Estados Unidos. Por ejemplo:\n",
    "\n",
    "La PoblacionAct presenta un valor máximo extremadamente alto (47,280,300,000), lo cual no es coherente con la población real de ningún estado o condado en Estados Unidos.\n",
    "\n",
    "El Área tiene un valor mínimo negativo (-24,707), lo cual es imposible ya que el área no puede ser negativa.\n",
    "\n",
    "Estas inconsistencias indican la necesidad de una revisión y corrección de los datos para asegurar la precisión y relevancia de los análisis futuros. Identificar y corregir estos outliers es crucial para mantener la integridad del conjunto de datos y tomar decisiones informadas."
   ]
  },
  {
   "cell_type": "markdown",
   "metadata": {
    "id": "9bG1x9gWPn3b",
    "tags": []
   },
   "source": [
    "## Análisis de calidad de datos\n",
    "La calidad de los datos consiste en validar la idoneidad de los datos analizando varias dimensiones, entre las cuales resaltamos:\n",
    "- Completitud: Datos que no existen o no se conocen\n",
    "- Unicidad (Duplicidad): Datos que son idénticos en diferentes registros o registros con valores idénticos en atributos en los que no debería ocurrir\n",
    "- Consistencia: Esta medida se define por la validez o integridad del dato, en la definición de su estructura, al interior de una fila o entre diferentes filas de la misma fuente o de diferentes fuentes. El manejo de unidades en los datos y el significado del dato son generadores de inconsistencias.\n",
    "- Validez: a nivel de formato y de sentido de los datos más alla de sus valores\n",
    "\n",
    "Para asegurar una calidad mínima de los datos en estas dimensiones hay que entender su origen y posteriormente realizar un proceso de validación de cada una de las dimensiones de perfilamiento que llevará a un entendimiento de los datos disponibles.\n"
   ]
  },
  {
   "cell_type": "markdown",
   "metadata": {
    "id": "WKPFuI9uPn3b"
   },
   "source": [
    "A continuación se definen dos funciones, la primera cuenta los valores vacios por columna de dataframe, la segunda retorna un diccionario de columnas con cardinalidad superior al 50%\n",
    "\n",
    "Te invito a revisar los recursos de calidad de datos que hemos visto en el curso, a continuacion ejemplos daremos algunos ejemplos por cada dimensión para el caso del tutorial"
   ]
  },
  {
   "cell_type": "markdown",
   "metadata": {
    "id": "ZHLs1H0hPn3b"
   },
   "source": [
    "### Unicidad y validez\n",
    "\n",
    "La unicidad se revisó en la segunda regla de negocio y la validez se reviso en el perfilamiento general, en la regla de negocio 3 y en el análisis de la descripción al final de la sección de revisión de reglas de negocio"
   ]
  },
  {
   "cell_type": "markdown",
   "metadata": {
    "id": "QgkzeSm4Pn3b"
   },
   "source": [
    "### Completitud y validez"
   ]
  },
  {
   "cell_type": "code",
   "execution_count": 26,
   "metadata": {
    "id": "mIWH-vVoPn3b"
   },
   "outputs": [
    {
     "name": "stdout",
     "output_type": "stream",
     "text": [
      "++\n",
      "||\n",
      "++\n",
      "||\n",
      "++\n",
      "\n"
     ]
    }
   ],
   "source": [
    "# Validar completitud en la tabla areas\n",
    "areas_faltantes = areas.select([col(c).isNull().alias(c) for c in areas.columns]).groupBy().sum()\n",
    "areas_faltantes.show()\n"
   ]
  },
  {
   "cell_type": "code",
   "execution_count": 28,
   "metadata": {
    "id": "NxXQm_KEPn3c",
    "outputId": "419b9709-25fe-43dd-d63a-a9be645d11f7"
   },
   "outputs": [
    {
     "name": "stdout",
     "output_type": "stream",
     "text": [
      "Cantidad de registros duplicados: 43573\n"
     ]
    }
   ],
   "source": [
    "# Contar duplicados en la tabla areas\n",
    "areas_duplicados = areas.groupBy(areas.columns).count().filter(\"count > 1\")\n",
    "numero_duplicados = areas_duplicados.count()\n",
    "print(f\"Cantidad de registros duplicados: {numero_duplicados}\")\n"
   ]
  },
  {
   "cell_type": "markdown",
   "metadata": {
    "id": "vDX10qmfPn3c"
   },
   "source": [
    "La tabla presenta 43,573 registros duplicados y 0 problemas de comletitud.\n",
    "\n",
    "Identificar estos registros duplicados es crucial para asegurar la integridad y precisión de los datos."
   ]
  },
  {
   "cell_type": "markdown",
   "metadata": {},
   "source": [
    "### Consistencia"
   ]
  },
  {
   "cell_type": "code",
   "execution_count": 24,
   "metadata": {},
   "outputs": [
    {
     "name": "stdout",
     "output_type": "stream",
     "text": [
      "Hay duplicados en IdAreaDeServicio_T:\n",
      "+------------------+-----+\n",
      "|IdAreaDeServicio_T|count|\n",
      "+------------------+-----+\n",
      "|          35462018|   79|\n",
      "|          10222017|   87|\n",
      "|         111392017|    8|\n",
      "|          24642018|   56|\n",
      "|          85952018|   85|\n",
      "|          48692018|   35|\n",
      "|          99002017|   73|\n",
      "|          75512018|   62|\n",
      "|           2942018|   42|\n",
      "|           1482017|   21|\n",
      "|          38822017|   10|\n",
      "|          39412017|   14|\n",
      "|         109842017|    9|\n",
      "|         111512017|   14|\n",
      "|          56982018|   14|\n",
      "|          57862018|   10|\n",
      "|         109402017|   14|\n",
      "|          33932017|   12|\n",
      "|         108582018|   15|\n",
      "|          40312018|    5|\n",
      "+------------------+-----+\n",
      "only showing top 20 rows\n",
      "\n"
     ]
    },
    {
     "data": {
      "text/plain": [
       "5384"
      ]
     },
     "execution_count": 24,
     "metadata": {},
     "output_type": "execute_result"
    }
   ],
   "source": [
    "from pyspark.sql import functions as F\n",
    "\n",
    "duplicados_id = areas.groupBy(\"IdAreaDeServicio_T\").count().filter(\"count > 1\")\n",
    "if duplicados_id.count() == 0:\n",
    "    print(\"No hay duplicados en IdAreaDeServicio_T.\")\n",
    "else:\n",
    "    print(\"Hay duplicados en IdAreaDeServicio_T:\")\n",
    "    duplicados_id.show()\n",
    "duplicados_id.count()"
   ]
  },
  {
   "cell_type": "code",
   "execution_count": 25,
   "metadata": {},
   "outputs": [
    {
     "name": "stdout",
     "output_type": "stream",
     "text": [
      "+--------------------------+\n",
      "|NombreAreaDeServicio_nulos|\n",
      "+--------------------------+\n",
      "|                         0|\n",
      "+--------------------------+\n",
      "\n"
     ]
    }
   ],
   "source": [
    "# Completitud de NombreAreaDeServicio\n",
    "areas.select([F.count(F.when(F.col(\"NombreAreaDeServicio\").isNull(), 1)).alias(\"NombreAreaDeServicio_nulos\")]).show()\n"
   ]
  },
  {
   "cell_type": "code",
   "execution_count": null,
   "metadata": {},
   "outputs": [],
   "source": [
    "# Duplicados de IdGeografia_T en combinación con Condado y Estado\n",
    "duplicados_geografia = areas.groupBy(\"IdGeografia_T\", \"Condado\", \"Estado\").count().filter(\"count > 1\")\n",
    "if duplicados_geografia.count() == 0:\n",
    "    print(\"IdGeografia_T es único por Condado y Estado.\")\n",
    "else:\n",
    "    print(\"Hay duplicados en IdGeografia_T para ciertas combinaciones de Condado y Estado:\")\n",
    "    duplicados_geografia.show()\n",
    "duplicados_geografia.count()"
   ]
  },
  {
   "cell_type": "code",
   "execution_count": null,
   "metadata": {},
   "outputs": [],
   "source": [
    "areas.filter(F.col(\"PoblacionAct\") <= 0).show()"
   ]
  },
  {
   "cell_type": "code",
   "execution_count": null,
   "metadata": {},
   "outputs": [],
   "source": [
    "a = areas.filter(F.col(\"Area\") <= 0).show()\n",
    "count_area_inusual = areas.filter(F.col(\"Area\") <= 0).count()\n",
    "\n",
    "print(f\"Cantidad de registros con valores negativos en 'Area': {count_area_inusual}\")"
   ]
  },
  {
   "cell_type": "code",
   "execution_count": null,
   "metadata": {},
   "outputs": [],
   "source": [
    "from datetime import datetime\n",
    "\n",
    "año_actual = datetime.now().year\n",
    "areas.filter((F.col(\"Fecha\") < 1700) | (F.col(\"Fecha\") > año_actual)).show()\n"
   ]
  },
  {
   "cell_type": "markdown",
   "metadata": {},
   "source": [
    "##### Unicidad y validez:\n",
    "\n",
    "La unicidad fue revisada en la segunda regla de negocio y se verificó que existen 5384 duplicados en la columna IdAreaDeServicio_T. La validez fue comprobada mediante el perfilamiento general y las reglas de negocio 3, de tal manera que los datos no cumplen con las condiciones esperadas.\n",
    "\n",
    "##### Completitud y validez:\n",
    "\n",
    "Se identificó que la columna Tipo presenta 2 valores faltantes (NaN), lo que podría requerir una intervención para garantizar la calidad del dataset.\n",
    "En cuanto a la cardinalidad, ninguna de las columnas tiene más del 50% de valores distintos en comparación con el total de registros, lo que sugiere que las columnas tienen una variedad razonable de valores sin ser excesivamente heterogéneas.\n",
    "\n",
    "##### Consistencia:\n",
    "\n",
    "Se encontraron duplicados en la columna IdAreaDeServicio_T. Algunos valores, como el IdAreaDeServicio_T con valor 35462018, se repiten 79 veces. Esto indica un posible error en el registro de datos o una inconsistencia en la asignación de identificadores, lo que debe ser revisado y corregido.\n",
    "No se encontraron valores nulos en la columna NombreAreaDeServicio, lo que asegura que la información está completa en esta área.\n",
    "Se identificaron duplicados en la combinación de IdGeografia_T, Condado y Estado, lo que sugiere que para ciertas combinaciones geográficas hay registros repetidos. Este aspecto también debe ser revisado para garantizar la unicidad en la base de datos.\n",
    "\n",
    "##### Valores negativos o inusuales:\n",
    "\n",
    "Se encontraron 6177 registros con valores negativos en la columna Area, lo cual es una inconsistencia significativa, ya que no es lógico que el área de una geografía tenga un valor negativo. Esto debe ser investigado más a fondo para determinar si es un error de entrada de datos o si tiene algún significado específico que deba ser considerado.\n",
    "En cuanto a la columna PoblacionAct, no se encontraron registros con valores negativos, lo que es una señal positiva de consistencia en esa variable.\n",
    "\n",
    "##### Fechas en un rango razonable:\n",
    "\n",
    "Las fechas en la columna Fecha se encuentran dentro del rango esperado. No se encontraron fechas que estuvieran fuera del intervalo entre el año 1700 y el año actual, se encontró que el valor mínimo es 1800, lo que indica que las fechas están correctamente formateadas y son razonables."
   ]
  },
  {
   "cell_type": "code",
   "execution_count": null,
   "metadata": {},
   "outputs": [],
   "source": []
  },
  {
   "cell_type": "code",
   "execution_count": null,
   "metadata": {},
   "outputs": [],
   "source": []
  },
  {
   "cell_type": "code",
   "execution_count": null,
   "metadata": {},
   "outputs": [],
   "source": []
  }
 ],
 "metadata": {
  "colab": {
   "collapsed_sections": [
    "qxN27II0Pn3T",
    "GnAScmClPn3W",
    "UuZspay3Pn3Z",
    "ZHLs1H0hPn3b",
    "QgkzeSm4Pn3b",
    "LZyQcqCvPn3c",
    "eDf54JyKPn3d",
    "ltTluhtIPn3e",
    "IPhtXcD1Pn3g",
    "-axExLnhPn3g",
    "YfSMeXZQPn3g"
   ],
   "name": "MISW-ETL-Entendimiento.ipynb",
   "provenance": []
  },
  "kernelspec": {
   "display_name": "Python 3 (ipykernel)",
   "language": "python",
   "name": "python3"
  },
  "language_info": {
   "codemirror_mode": {
    "name": "ipython",
    "version": 3
   },
   "file_extension": ".py",
   "mimetype": "text/x-python",
   "name": "python",
   "nbconvert_exporter": "python",
   "pygments_lexer": "ipython3",
   "version": "3.7.13"
  },
  "toc-autonumbering": false,
  "toc-showcode": true
 },
 "nbformat": 4,
 "nbformat_minor": 4
}
