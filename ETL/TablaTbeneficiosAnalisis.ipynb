{
 "cells": [
  {
   "cell_type": "markdown",
   "id": "cb5b6169-ba33-441d-8f09-ed890abc13f4",
   "metadata": {},
   "source": [
    "## Configuración e importe de paquetes\n",
    "Se utilizará el paquete de pandas profiling para apoyar el análisis estadístico, y se importan los paquetes de python necesarios"
   ]
  },
  {
   "cell_type": "code",
   "execution_count": 41,
   "id": "1b1672d8-7ba5-42cb-9a81-c796770435a7",
   "metadata": {},
   "outputs": [
    {
     "name": "stdout",
     "output_type": "stream",
     "text": [
      "Requirement already satisfied: plotly in c:\\users\\estudiante\\anaconda3\\envs\\tutoriales\\lib\\site-packages (5.18.0)\n",
      "Requirement already satisfied: tenacity>=6.2.0 in c:\\users\\estudiante\\anaconda3\\envs\\tutoriales\\lib\\site-packages (from plotly) (8.2.3)\n",
      "Requirement already satisfied: packaging in c:\\users\\estudiante\\anaconda3\\envs\\tutoriales\\lib\\site-packages (from plotly) (21.3)\n",
      "Requirement already satisfied: pyparsing!=3.0.5,>=2.0.2 in c:\\users\\estudiante\\anaconda3\\envs\\tutoriales\\lib\\site-packages (from packaging->plotly) (3.0.4)\n",
      "Note: you may need to restart the kernel to use updated packages.\n"
     ]
    }
   ],
   "source": [
    "pip install plotly"
   ]
  },
  {
   "cell_type": "code",
   "execution_count": 3,
   "id": "8f86edb1-fe46-4136-9c2a-41203f71841b",
   "metadata": {},
   "outputs": [
    {
     "name": "stdout",
     "output_type": "stream",
     "text": [
      "Collecting ipywidgets\n",
      "  Downloading ipywidgets-8.1.5-py3-none-any.whl (139 kB)\n",
      "Requirement already satisfied: ipython>=6.1.0 in c:\\users\\estudiante\\anaconda3\\envs\\tutoriales\\lib\\site-packages (from ipywidgets) (7.31.1)\n",
      "Collecting widgetsnbextension~=4.0.12\n",
      "  Downloading widgetsnbextension-4.0.13-py3-none-any.whl (2.3 MB)\n",
      "Collecting jupyterlab-widgets~=3.0.12\n",
      "  Downloading jupyterlab_widgets-3.0.13-py3-none-any.whl (214 kB)\n",
      "Collecting comm>=0.1.3\n",
      "  Downloading comm-0.1.4-py3-none-any.whl (6.6 kB)\n",
      "Requirement already satisfied: traitlets>=4.3.1 in c:\\users\\estudiante\\anaconda3\\envs\\tutoriales\\lib\\site-packages (from ipywidgets) (5.1.1)\n",
      "Requirement already satisfied: jedi>=0.16 in c:\\users\\estudiante\\anaconda3\\envs\\tutoriales\\lib\\site-packages (from ipython>=6.1.0->ipywidgets) (0.18.1)\n",
      "Requirement already satisfied: colorama in c:\\users\\estudiante\\anaconda3\\envs\\tutoriales\\lib\\site-packages (from ipython>=6.1.0->ipywidgets) (0.4.4)\n",
      "Requirement already satisfied: matplotlib-inline in c:\\users\\estudiante\\anaconda3\\envs\\tutoriales\\lib\\site-packages (from ipython>=6.1.0->ipywidgets) (0.1.2)\n",
      "Requirement already satisfied: decorator in c:\\users\\estudiante\\anaconda3\\envs\\tutoriales\\lib\\site-packages (from ipython>=6.1.0->ipywidgets) (5.1.1)\n",
      "Requirement already satisfied: pygments in c:\\users\\estudiante\\anaconda3\\envs\\tutoriales\\lib\\site-packages (from ipython>=6.1.0->ipywidgets) (2.11.2)\n",
      "Requirement already satisfied: pickleshare in c:\\users\\estudiante\\anaconda3\\envs\\tutoriales\\lib\\site-packages (from ipython>=6.1.0->ipywidgets) (0.7.5)\n",
      "Requirement already satisfied: backcall in c:\\users\\estudiante\\anaconda3\\envs\\tutoriales\\lib\\site-packages (from ipython>=6.1.0->ipywidgets) (0.2.0)\n",
      "Requirement already satisfied: setuptools>=18.5 in c:\\users\\estudiante\\anaconda3\\envs\\tutoriales\\lib\\site-packages (from ipython>=6.1.0->ipywidgets) (61.2.0)\n",
      "Requirement already satisfied: prompt-toolkit!=3.0.0,!=3.0.1,<3.1.0,>=2.0.0 in c:\\users\\estudiante\\anaconda3\\envs\\tutoriales\\lib\\site-packages (from ipython>=6.1.0->ipywidgets) (3.0.20)\n",
      "Requirement already satisfied: parso<0.9.0,>=0.8.0 in c:\\users\\estudiante\\anaconda3\\envs\\tutoriales\\lib\\site-packages (from jedi>=0.16->ipython>=6.1.0->ipywidgets) (0.8.3)\n",
      "Requirement already satisfied: wcwidth in c:\\users\\estudiante\\anaconda3\\envs\\tutoriales\\lib\\site-packages (from prompt-toolkit!=3.0.0,!=3.0.1,<3.1.0,>=2.0.0->ipython>=6.1.0->ipywidgets) (0.2.5)\n",
      "Installing collected packages: widgetsnbextension, jupyterlab-widgets, comm, ipywidgets\n",
      "Successfully installed comm-0.1.4 ipywidgets-8.1.5 jupyterlab-widgets-3.0.13 widgetsnbextension-4.0.13\n",
      "Note: you may need to restart the kernel to use updated packages.\n"
     ]
    }
   ],
   "source": [
    "pip install ipywidgets"
   ]
  },
  {
   "cell_type": "code",
   "execution_count": 1,
   "id": "5b616c20-48d6-4efe-b047-655ba372f2d8",
   "metadata": {},
   "outputs": [],
   "source": [
    "from pyspark.sql import SparkSession\n",
    "from pyspark.sql import functions\n",
    "from pyspark.sql.types import StructType\n",
    "from pyspark import SparkContext, SparkConf, SQLContext\n",
    "from pyspark.sql.types import FloatType, StringType, IntegerType, DateType\n",
    "from pyspark.sql.functions import udf, col, length, isnan, when, count\n",
    "import pyspark.sql.functions as f\n",
    "import os \n",
    "from datetime import datetime\n",
    "from pyspark.sql import types as t\n",
    "from pandas_profiling import ProfileReport\n",
    "import matplotlib.pyplot as plt\n",
    "import numpy as np"
   ]
  },
  {
   "cell_type": "markdown",
   "id": "74fb80ec-d295-4542-992e-74e4369b708b",
   "metadata": {},
   "source": [
    "Configuración del controlador e inicio de sesion Spark"
   ]
  },
  {
   "cell_type": "code",
   "execution_count": 7,
   "id": "c2f97842-c134-41d6-ab38-a52f7a20f97b",
   "metadata": {},
   "outputs": [],
   "source": [
    "path_jar_driver = 'C:\\Program Files (x86)\\MySQL\\Connector J 8.0\\mysql-connector-java-8.0.28.jar'"
   ]
  },
  {
   "cell_type": "code",
   "execution_count": 8,
   "id": "cd4662da-3a6e-411a-9541-b439a46cc4a1",
   "metadata": {},
   "outputs": [
    {
     "ename": "ValueError",
     "evalue": "Cannot run multiple SparkContexts at once; existing SparkContext(app=pyspark-shell, master=local[*]) created by __init__ at C:\\Users\\estudiante\\AppData\\Local\\Temp\\ipykernel_16932\\1218200805.py:5 ",
     "output_type": "error",
     "traceback": [
      "\u001b[1;31m---------------------------------------------------------------------------\u001b[0m",
      "\u001b[1;31mValueError\u001b[0m                                Traceback (most recent call last)",
      "\u001b[1;32m~\\AppData\\Local\\Temp\\ipykernel_16932\\1218200805.py\u001b[0m in \u001b[0;36m<module>\u001b[1;34m\u001b[0m\n\u001b[0;32m      3\u001b[0m     \u001b[1;33m.\u001b[0m\u001b[0mset\u001b[0m\u001b[1;33m(\u001b[0m\u001b[1;34m'spark.driver.extraClassPath'\u001b[0m\u001b[1;33m,\u001b[0m \u001b[0mpath_jar_driver\u001b[0m\u001b[1;33m)\u001b[0m\u001b[1;33m\u001b[0m\u001b[1;33m\u001b[0m\u001b[0m\n\u001b[0;32m      4\u001b[0m \u001b[1;33m\u001b[0m\u001b[0m\n\u001b[1;32m----> 5\u001b[1;33m \u001b[0mspark_context\u001b[0m \u001b[1;33m=\u001b[0m \u001b[0mSparkContext\u001b[0m\u001b[1;33m(\u001b[0m\u001b[0mconf\u001b[0m\u001b[1;33m=\u001b[0m\u001b[0mconf\u001b[0m\u001b[1;33m)\u001b[0m\u001b[1;33m\u001b[0m\u001b[1;33m\u001b[0m\u001b[0m\n\u001b[0m\u001b[0;32m      6\u001b[0m \u001b[0msql_context\u001b[0m \u001b[1;33m=\u001b[0m \u001b[0mSQLContext\u001b[0m\u001b[1;33m(\u001b[0m\u001b[0mspark_context\u001b[0m\u001b[1;33m)\u001b[0m\u001b[1;33m\u001b[0m\u001b[1;33m\u001b[0m\u001b[0m\n\u001b[0;32m      7\u001b[0m \u001b[0mspark\u001b[0m \u001b[1;33m=\u001b[0m \u001b[0msql_context\u001b[0m\u001b[1;33m.\u001b[0m\u001b[0msparkSession\u001b[0m\u001b[1;33m\u001b[0m\u001b[1;33m\u001b[0m\u001b[0m\n",
      "\u001b[1;32m~\\anaconda3\\envs\\Tutoriales\\lib\\site-packages\\pyspark\\context.py\u001b[0m in \u001b[0;36m__init__\u001b[1;34m(self, master, appName, sparkHome, pyFiles, environment, batchSize, serializer, conf, gateway, jsc, profiler_cls)\u001b[0m\n\u001b[0;32m    142\u001b[0m                 \" is not allowed as it is a security risk.\")\n\u001b[0;32m    143\u001b[0m \u001b[1;33m\u001b[0m\u001b[0m\n\u001b[1;32m--> 144\u001b[1;33m         \u001b[0mSparkContext\u001b[0m\u001b[1;33m.\u001b[0m\u001b[0m_ensure_initialized\u001b[0m\u001b[1;33m(\u001b[0m\u001b[0mself\u001b[0m\u001b[1;33m,\u001b[0m \u001b[0mgateway\u001b[0m\u001b[1;33m=\u001b[0m\u001b[0mgateway\u001b[0m\u001b[1;33m,\u001b[0m \u001b[0mconf\u001b[0m\u001b[1;33m=\u001b[0m\u001b[0mconf\u001b[0m\u001b[1;33m)\u001b[0m\u001b[1;33m\u001b[0m\u001b[1;33m\u001b[0m\u001b[0m\n\u001b[0m\u001b[0;32m    145\u001b[0m         \u001b[1;32mtry\u001b[0m\u001b[1;33m:\u001b[0m\u001b[1;33m\u001b[0m\u001b[1;33m\u001b[0m\u001b[0m\n\u001b[0;32m    146\u001b[0m             self._do_init(master, appName, sparkHome, pyFiles, environment, batchSize, serializer,\n",
      "\u001b[1;32m~\\anaconda3\\envs\\Tutoriales\\lib\\site-packages\\pyspark\\context.py\u001b[0m in \u001b[0;36m_ensure_initialized\u001b[1;34m(cls, instance, gateway, conf)\u001b[0m\n\u001b[0;32m    353\u001b[0m                         \u001b[1;34m\" created by %s at %s:%s \"\u001b[0m\u001b[1;33m\u001b[0m\u001b[1;33m\u001b[0m\u001b[0m\n\u001b[0;32m    354\u001b[0m                         % (currentAppName, currentMaster,\n\u001b[1;32m--> 355\u001b[1;33m                             callsite.function, callsite.file, callsite.linenum))\n\u001b[0m\u001b[0;32m    356\u001b[0m                 \u001b[1;32melse\u001b[0m\u001b[1;33m:\u001b[0m\u001b[1;33m\u001b[0m\u001b[1;33m\u001b[0m\u001b[0m\n\u001b[0;32m    357\u001b[0m                     \u001b[0mSparkContext\u001b[0m\u001b[1;33m.\u001b[0m\u001b[0m_active_spark_context\u001b[0m \u001b[1;33m=\u001b[0m \u001b[0minstance\u001b[0m\u001b[1;33m\u001b[0m\u001b[1;33m\u001b[0m\u001b[0m\n",
      "\u001b[1;31mValueError\u001b[0m: Cannot run multiple SparkContexts at once; existing SparkContext(app=pyspark-shell, master=local[*]) created by __init__ at C:\\Users\\estudiante\\AppData\\Local\\Temp\\ipykernel_16932\\1218200805.py:5 "
     ]
    }
   ],
   "source": [
    "#Configuración de la sesión\n",
    "conf=SparkConf() \\\n",
    "    .set('spark.driver.extraClassPath', path_jar_driver)\n",
    "\n",
    "spark_context = SparkContext(conf=conf)\n",
    "sql_context = SQLContext(spark_context)\n",
    "spark = sql_context.sparkSession"
   ]
  },
  {
   "cell_type": "code",
   "execution_count": 9,
   "id": "8d34b4ae-a8f4-4c9c-ad68-200543b4ef6a",
   "metadata": {},
   "outputs": [],
   "source": [
    "db_connection_string = 'jdbc:mysql://157.253.236.120:8080/RaSaTransaccional'\n",
    "# El usuario es su estudiante _i asignado y su contraseña la encontrará en el archivo excel de Coursera \n",
    "db_user = 'Estudiante_71_202415'\n",
    "db_psswd = 'Estudiante_202422629'\n",
    "\n",
    "PATH='./'"
   ]
  },
  {
   "cell_type": "markdown",
   "id": "c55d6ab5-6e9d-4619-b0a2-8344365b3c6f",
   "metadata": {},
   "source": [
    "## Perfilamiento de los datos"
   ]
  },
  {
   "cell_type": "markdown",
   "id": "76aaf946-ff8f-4bf4-af83-e7219f142b49",
   "metadata": {},
   "source": [
    "### Conexión a fuente de datos y acceso a los datos"
   ]
  },
  {
   "cell_type": "code",
   "execution_count": 10,
   "id": "331b7047-9129-4d84-8256-c6201ca960fb",
   "metadata": {},
   "outputs": [],
   "source": [
    "def obtener_dataframe_de_bd(db_connection_string, sql, db_user, db_psswd):\n",
    "    df_bd = spark.read.format('jdbc')\\\n",
    "        .option('url', db_connection_string) \\\n",
    "        .option('dbtable', sql) \\\n",
    "        .option('user', db_user) \\\n",
    "        .option('password', db_psswd) \\\n",
    "        .option('driver', 'com.mysql.cj.jdbc.Driver') \\\n",
    "        .load()\n",
    "    return df_bd"
   ]
  },
  {
   "cell_type": "markdown",
   "id": "3661791d-f3cd-478b-9240-78795e02ca17",
   "metadata": {},
   "source": [
    "#### Cargue de datos"
   ]
  },
  {
   "cell_type": "code",
   "execution_count": 11,
   "id": "d0472c8c-75ae-4ba5-b140-f425ad378404",
   "metadata": {},
   "outputs": [],
   "source": [
    "sql_Tbeneficios = 'RaSaTransaccional.FuenteTiposBeneficio_Copia_E'"
   ]
  },
  {
   "cell_type": "code",
   "execution_count": 12,
   "id": "ef445e26-b612-4923-ae40-78092a4d0865",
   "metadata": {},
   "outputs": [],
   "source": [
    "#Se cargan los dataframes desde la base de datos\n",
    "Tbeneficios = obtener_dataframe_de_bd(db_connection_string, sql_Tbeneficios, db_user, db_psswd)"
   ]
  },
  {
   "cell_type": "markdown",
   "id": "bfb0637a-d0c9-46c8-a563-b0966c96374b",
   "metadata": {},
   "source": [
    "### Entendimiento general de datos"
   ]
  },
  {
   "cell_type": "code",
   "execution_count": 51,
   "id": "2e9c1e72-5a8d-4e0b-a3d4-d7566f62ce21",
   "metadata": {},
   "outputs": [
    {
     "name": "stdout",
     "output_type": "stream",
     "text": [
      "+-----------------+--------------------+--------------------+-----+---------------------+-----------------------+----------------------------------------+---------------------------------------+-----+\n",
      "|IdTipoBeneficio_T|              Nombre|     UnidadDelLimite|EsEHB|EstaCubiertaPorSeguro|TieneLimiteCuantitativo|ExcluidoDelDesembolsoMaximoDentroDeLaRed|ExcluidoDelDesembolsoMaximoFueraDeLaRed|Fecha|\n",
      "+-----------------+--------------------+--------------------+-----+---------------------+-----------------------+----------------------------------------+---------------------------------------+-----+\n",
      "|              565|Nutritional Couns...|                    |   No|                  Yes|                     No|                                      No|                                    Yes| 2017|\n",
      "|              795|Rehabilitative Sp...|Days per Benefit ...|  Yes|                  Yes|                    Yes|                                      No|                                    Yes| 2017|\n",
      "|              200| Denture Adjustments|                    |   No|                  Yes|                     No|                                      No|                                    Yes| 2017|\n",
      "|              335|        Hearing Aids| Item(s) per 3 Years|  Yes|                  Yes|                    Yes|                                      No|                                    Yes| 2017|\n",
      "|              570|Occlusal Adjustments|Procedure(s) per ...|   No|                  Yes|                    Yes|                                      No|                                    Yes| 2017|\n",
      "+-----------------+--------------------+--------------------+-----+---------------------+-----------------------+----------------------------------------+---------------------------------------+-----+\n",
      "only showing top 5 rows\n",
      "\n"
     ]
    }
   ],
   "source": [
    "Tbeneficios.show(5)"
   ]
  },
  {
   "cell_type": "code",
   "execution_count": 20,
   "id": "5bb97af7-6489-4c44-9387-09330866680e",
   "metadata": {},
   "outputs": [
    {
     "data": {
      "text/plain": [
       "StructType(List(StructField(IdTipoBeneficio_T,IntegerType,true),StructField(Nombre,StringType,true),StructField(UnidadDelLimite,StringType,true),StructField(EsEHB,StringType,true),StructField(EstaCubiertaPorSeguro,StringType,true),StructField(TieneLimiteCuantitativo,StringType,true),StructField(ExcluidoDelDesembolsoMaximoDentroDeLaRed,StringType,true),StructField(ExcluidoDelDesembolsoMaximoFueraDeLaRed,StringType,true),StructField(Fecha,IntegerType,true)))"
      ]
     },
     "execution_count": 20,
     "metadata": {},
     "output_type": "execute_result"
    }
   ],
   "source": [
    "Tbeneficios.schema"
   ]
  },
  {
   "cell_type": "markdown",
   "id": "9cd1048d-9d9e-4ba8-ae8c-5924990f2433",
   "metadata": {},
   "source": [
    "En esta tabla se encuentra informacion escencial del cliente en cuanto a tipos de beneficio se refiere, donde encontramos informacion acerca del nombre id tipo beneficio, si se encuetra cubierta por seguros o no, si tiene limitaciones cantitativas ademas de exclusiones dentro y fuera de la red ademas del año en un formato YYYY"
   ]
  },
  {
   "cell_type": "markdown",
   "id": "e4ff0587-a88d-4d69-8ed7-7fdb0dabc8be",
   "metadata": {},
   "source": [
    "**IdTipoBeneficio_T**= identificacion del tipo de beneficio\n",
    "\n",
    "**Nombre**= nombre del cliente del beneficio\n",
    "\n",
    "**UnidadDelLimite**= cada registro representa el límite o la frecuencia con la que se puede acceder a un beneficio en un período de tiempo dado o bajo ciertas condiciones.\n",
    "\n",
    "**EsEHB**= del inglés \"EssentialHealthBenefits\" si el beneficio es obligatorio por el estado o si es un beneficio esencial\n",
    "\n",
    "**EstaCubiertaPorSeguro**= si en ese año el beneficio era obligatorio o no por el estado\n",
    "\n",
    "**TieneLimiteCuantitativo**=\n",
    "\n",
    "**ExcluidoDelDesembolsoMaximoDentroDeLaRed**=\n",
    "\n",
    "**ExcluidoDelDesembolsoMaximoFueraDeLaRed**=\n",
    "\n",
    "**Fecha**="
   ]
  },
  {
   "cell_type": "code",
   "execution_count": 21,
   "id": "a55781a8-1a9c-42e4-b48c-cb69cf6c8c43",
   "metadata": {},
   "outputs": [
    {
     "name": "stdout",
     "output_type": "stream",
     "text": [
      "(849, 9)\n"
     ]
    }
   ],
   "source": [
    "print((Tbeneficios.count(), len(Tbeneficios.columns)))"
   ]
  },
  {
   "cell_type": "markdown",
   "id": "a5d36481-8306-4ea6-8559-cde29196cedb",
   "metadata": {},
   "source": [
    "**¿Cuantos datos nos compartieron para el proyecto?**\n",
    "En total tenemos 849 tipos de beneficio y tenemos en total 9 variables a revisar de las cuales 2 son nùmericas y las demás son cadenas de caracteres."
   ]
  },
  {
   "cell_type": "markdown",
   "id": "52413117-dd9a-46b2-bb95-dce632fda129",
   "metadata": {},
   "source": [
    "## Estadísticas descriptivas por columna"
   ]
  },
  {
   "cell_type": "code",
   "execution_count": 26,
   "id": "1fe5f4cf-a0a3-455a-a8cc-4ff0f510d44b",
   "metadata": {},
   "outputs": [
    {
     "name": "stdout",
     "output_type": "stream",
     "text": [
      "Duplicados en IdTipoBeneficio_T:\n",
      "+-----------------+-----+\n",
      "|IdTipoBeneficio_T|count|\n",
      "+-----------------+-----+\n",
      "|              540|    5|\n",
      "|               85|   13|\n",
      "|              580|    2|\n",
      "|               65|    2|\n",
      "|              255|    3|\n",
      "|              970|    3|\n",
      "|              375|    2|\n",
      "|              115|    2|\n",
      "|              830|   19|\n",
      "|             1030|   14|\n",
      "|              460|    4|\n",
      "|              350|   11|\n",
      "|              860|    2|\n",
      "|              875|    2|\n",
      "|              330|   14|\n",
      "|              625|    5|\n",
      "|              190|   29|\n",
      "|              225|    2|\n",
      "|              360|    9|\n",
      "|              725|    8|\n",
      "+-----------------+-----+\n",
      "only showing top 20 rows\n",
      "\n",
      "\n",
      "Duplicados en Nombre:\n",
      "+--------------------+-----+\n",
      "|              Nombre|count|\n",
      "+--------------------+-----+\n",
      "|Eye Refractive Su...|    2|\n",
      "| Orthodontia - Adult|    6|\n",
      "|Prenatal and Post...|    2|\n",
      "|Human Leukocyte A...|    2|\n",
      "|Outpatient Observ...|    2|\n",
      "|Primary Care Visi...|    2|\n",
      "|Post-cochlear imp...|    2|\n",
      "|Family Planning S...|    2|\n",
      "|   Cancer Treatments|    2|\n",
      "|      Second Opinion|    2|\n",
      "|Nutritional Couns...|   17|\n",
      "|    Cosmetic Surgery|    7|\n",
      "|Abortion for Whic...|   12|\n",
      "| Mental Health Other|    4|\n",
      "|        Brain Injury|    3|\n",
      "|            Dialysis|    2|\n",
      "|          Anesthesia|    2|\n",
      "|         Acupuncture|    9|\n",
      "|Prescription Drug...|    8|\n",
      "|Dental Check-Up f...|   29|\n",
      "+--------------------+-----+\n",
      "only showing top 20 rows\n",
      "\n",
      "\n",
      "Duplicados en UnidadDelLimite:\n",
      "+--------------------+-----+\n",
      "|     UnidadDelLimite|count|\n",
      "+--------------------+-----+\n",
      "|   Visit(s) per year|    6|\n",
      "|Visit(s) per 3 Years|    2|\n",
      "|Item(s) per Benef...|    6|\n",
      "| Dollars per Episode|    2|\n",
      "|   Visit(s) per Year|   64|\n",
      "|Visit(s) per Year...|   11|\n",
      "|Months per Procedure|    3|\n",
      "|Months per Proced...|    3|\n",
      "|Visit(s) per 2 Ye...|    2|\n",
      "|Visit(s) per Bene...|    7|\n",
      "|       Days per Stay|    3|\n",
      "|      Hours per Year|    3|\n",
      "|Dollars per Benef...|    3|\n",
      "|    Item(s) per Year|   10|\n",
      "|Treatment(s) per ...|    3|\n",
      "|Days per Benefit ...|   13|\n",
      "|Procedure(s) per ...|    5|\n",
      "|Treatment(s) per ...|    4|\n",
      "|Procedure(s) per ...|    5|\n",
      "|Visit(s) per Episode|    2|\n",
      "+--------------------+-----+\n",
      "only showing top 20 rows\n",
      "\n"
     ]
    }
   ],
   "source": [
    "# Verificar duplicados en 'IdTipoBeneficio_T'\n",
    "duplicados_id = (\n",
    "    Tbeneficios.groupBy(\"IdTipoBeneficio_T\")\n",
    "    .count()\n",
    "    .filter(col(\"count\") > 1)\n",
    ")\n",
    "\n",
    "# Verificar duplicados en 'Nombre'\n",
    "duplicados_nombre = (\n",
    "    Tbeneficios.groupBy(\"Nombre\")\n",
    "    .count()\n",
    "    .filter(col(\"count\") > 1)\n",
    ")\n",
    "\n",
    "# Verificar duplicados en 'Nombre'\n",
    "duplicados_unidadDelLimite = (\n",
    "    Tbeneficios.groupBy(\"UnidadDelLimite\")\n",
    "    .count()\n",
    "    .filter(col(\"count\") > 1)\n",
    ")\n",
    "\n",
    "# Mostrar resultados\n",
    "print(\"Duplicados en IdTipoBeneficio_T:\")\n",
    "duplicados_id.show()\n",
    "\n",
    "print(\"\\nDuplicados en Nombre:\")\n",
    "duplicados_nombre.show()\n",
    "\n",
    "print(\"\\nDuplicados en UnidadDelLimite:\")\n",
    "duplicados_unidadDelLimite.show()"
   ]
  },
  {
   "cell_type": "markdown",
   "id": "0a837f31-2842-46bb-b17f-48cf762fdb34",
   "metadata": {},
   "source": [
    "Se identica apoyado con **SQL workbench** que los id repetidos corresponden a un unico tipo de beneficio lo cual es un problema de unicidad, consistencia y validez de datos que se abordara mas adelante.\n",
    "\n",
    "Algunos de los hallazgos encontrados en estas tablas son:\n",
    "\n",
    "1. el id del '190'que corresponde al beneficio 'Dental Check-Up for Children' es el servicio mas usado '29'\n",
    "2. UnidadDelLimite que mas frecuente Visit(s) per Year\n"
   ]
  },
  {
   "cell_type": "code",
   "execution_count": 18,
   "id": "333fcc85-b309-4796-bd01-65d25765dc6f",
   "metadata": {},
   "outputs": [
    {
     "name": "stdout",
     "output_type": "stream",
     "text": [
      "+--------------------+---+---+\n",
      "|              Column|Yes| No|\n",
      "+--------------------+---+---+\n",
      "|               EsEHB|430|399|\n",
      "|EstaCubiertaPorSe...|743| 98|\n",
      "|TieneLimiteCuanti...|271|542|\n",
      "|ExcluidoDelDesemb...| 60|787|\n",
      "|ExcluidoDelDesemb...|333|516|\n",
      "+--------------------+---+---+\n",
      "\n"
     ]
    },
    {
     "data": {
      "image/png": "[encoded data removed]",
      "text/plain": [
       "<Figure size 432x432 with 1 Axes>"
      ]
     },
     "metadata": {},
     "output_type": "display_data"
    },
    {
     "data": {
      "image/png": "[encoded data removed]",
      "text/plain": [
       "<Figure size 432x432 with 1 Axes>"
      ]
     },
     "metadata": {},
     "output_type": "display_data"
    },
    {
     "data": {
      "image/png": "[encoded data removed]",
      "text/plain": [
       "<Figure size 432x432 with 1 Axes>"
      ]
     },
     "metadata": {},
     "output_type": "display_data"
    },
    {
     "data": {
      "image/png": "[encoded data removed]",
      "text/plain": [
       "<Figure size 432x432 with 1 Axes>"
      ]
     },
     "metadata": {},
     "output_type": "display_data"
    },
    {
     "data": {
      "image/png": "[encoded data removed]",
      "text/plain": [
       "<Figure size 432x432 with 1 Axes>"
      ]
     },
     "metadata": {},
     "output_type": "display_data"
    }
   ],
   "source": [
    "%matplotlib inline\n",
    "columns_to_count = [\n",
    "    \"EsEHB\", \n",
    "    \"EstaCubiertaPorSeguro\", \n",
    "    \"TieneLimiteCuantitativo\", \n",
    "    \"ExcluidoDelDesembolsoMaximoDentroDeLaRed\", \n",
    "    \"ExcluidoDelDesembolsoMaximoFueraDeLaRed\"\n",
    "]\n",
    "\n",
    "# Crear un DataFrame con las cuentas de \"Yes\" y \"No\" por cada columna\n",
    "yes_no_counts = []\n",
    "\n",
    "for col_name in columns_to_count:\n",
    "    yes_count = Tbeneficios.filter(col(col_name) == \"Yes\").count()\n",
    "    no_count = Tbeneficios.filter(col(col_name) == \"No\").count()\n",
    "    yes_no_counts.append((col_name, yes_count, no_count))\n",
    "\n",
    "# Convertir a un DataFrame con las columnas especificadas\n",
    "yes_no_df = spark.createDataFrame(yes_no_counts, [\"Column\", \"Yes\", \"No\"])\n",
    "\n",
    "# Mostrar el resultado\n",
    "yes_no_df.show()\n",
    "\n",
    "yes_no_df = pd.DataFrame(yes_no_counts, columns=[\"Column\", \"Yes\", \"No\"])\n",
    "for index, row in yes_no_df.iterrows():\n",
    "    plt.figure(figsize=(6, 6))\n",
    "    plt.pie(\n",
    "        [row[\"Yes\"], row[\"No\"]],\n",
    "        labels=[\"Yes\", \"No\"],\n",
    "        autopct='%1.1f%%',\n",
    "        startangle=90\n",
    "    )\n",
    "    plt.title(f\"Distribución de Yes/No en {row['Column']}\")\n",
    "    plt.show()"
   ]
  },
  {
   "cell_type": "code",
   "execution_count": 28,
   "id": "885e5e46-452b-49b5-aca0-d2664d468adf",
   "metadata": {},
   "outputs": [
    {
     "name": "stdout",
     "output_type": "stream",
     "text": [
      "La fecha con más registros es: 2017 con 672 registros.\n",
      "Total de registros en el DataFrame: 849\n"
     ]
    }
   ],
   "source": [
    "from pyspark.sql.functions import col, desc\n",
    "fecha_con_mas_registros = (\n",
    "    Tbeneficios.groupBy(\"Fecha\")\n",
    "    .count()\n",
    "    .orderBy(desc(\"count\"))\n",
    "    .first()\n",
    ")\n",
    "\n",
    "# Muestra la fecha con más registros en formato int\n",
    "print(f\"La fecha con más registros es: {fecha_con_mas_registros['Fecha']} con {fecha_con_mas_registros['count']} registros.\")\n",
    "\n",
    "total_registros = Tbeneficios.count()\n",
    "print(f\"Total de registros en el DataFrame: {total_registros}\")"
   ]
  },
  {
   "cell_type": "markdown",
   "id": "20f68448-8e8a-4b35-9ecd-2f68077c1e0e",
   "metadata": {},
   "source": [
    "Se encuentra que 0.79% de los registros corresponden al año 2017 "
   ]
  },
  {
   "cell_type": "markdown",
   "id": "282b6f2c-0b1c-43ea-b4bd-06bf01f56c2d",
   "metadata": {},
   "source": [
    "### Análisis de calidad de datos"
   ]
  },
  {
   "cell_type": "markdown",
   "id": "219d117f-ff00-409a-a1c3-a7d59733ede9",
   "metadata": {},
   "source": [
    "La calidad de los datos consiste en validar la idoneidad de los datos analizando varias dimensiones, entre las cuales resaltamos:\n",
    "- Completitud: Datos que no existen o no se conocen\n",
    "- Unicidad (Duplicidad): Datos que son idénticos en diferentes registros o registros con valores idénticos en atributos en los que no debería ocurrir\n",
    "- Consistencia: Esta medida se define por la validez o integridad del dato, en la definición de su estructura, al interior de una fila o entre diferentes filas de la misma fuente o de diferentes fuentes. El manejo de unidades en los datos y el significado del dato son generadores de inconsistencias.\n",
    "- Validez: a nivel de formato y de sentido de los datos más alla de sus valores"
   ]
  },
  {
   "cell_type": "markdown",
   "id": "7b25617d-cf27-4666-94ee-655304d61d0b",
   "metadata": {},
   "source": [
    "## UNICIDAD"
   ]
  },
  {
   "cell_type": "markdown",
   "id": "522d7ea3-4935-4908-922f-6574246bc2d8",
   "metadata": {},
   "source": [
    "Como se evidencia en las tablas generadas anteriormente no existe una buena unicidad de datos en la base de datos ya que se repite varias vaces y no se suman correatamente por errores tipograficos en los datos como por ejemplo **Visit(s) per Year** con **Visit(s) per year** lo cual evidencia una falta de limpieza en los datos en el apartado de unicidad"
   ]
  },
  {
   "cell_type": "code",
   "execution_count": 45,
   "id": "fcc41b4d-32f8-4e30-8a68-b2cefd01ce23",
   "metadata": {},
   "outputs": [
    {
     "name": "stdout",
     "output_type": "stream",
     "text": [
      "Columna: IdTipoBeneficio_T - Valores únicos: 178 - Porcentaje de unicidad: 20.97%\n",
      "Columna: Nombre - Valores únicos: 178 - Porcentaje de unicidad: 20.97%\n",
      "Columna: UnidadDelLimite - Valores únicos: 63 - Porcentaje de unicidad: 7.42%\n",
      "Columna: EsEHB - Valores únicos: 3 - Porcentaje de unicidad: 0.35%\n",
      "Columna: EstaCubiertaPorSeguro - Valores únicos: 3 - Porcentaje de unicidad: 0.35%\n",
      "Columna: TieneLimiteCuantitativo - Valores únicos: 4 - Porcentaje de unicidad: 0.47%\n",
      "Columna: ExcluidoDelDesembolsoMaximoDentroDeLaRed - Valores únicos: 3 - Porcentaje de unicidad: 0.35%\n",
      "Columna: ExcluidoDelDesembolsoMaximoFueraDeLaRed - Valores únicos: 2 - Porcentaje de unicidad: 0.24%\n",
      "Columna: Fecha - Valores únicos: 2 - Porcentaje de unicidad: 0.24%\n",
      "Número de productos duplicados: 201\n",
      "+-----------------+--------------------+--------------------+-----+\n",
      "|IdTipoBeneficio_T|     UnidadDelLimite|              Nombre|count|\n",
      "+-----------------+--------------------+--------------------+-----+\n",
      "|              125|Days per Lifetime...|Cardiac and Pulmo...|    2|\n",
      "|              360|       Days per Year|    Hospice Services|    3|\n",
      "|              190|                    |Dental Check-Up f...|    7|\n",
      "|              120|   Visit(s) per Year|Cardiac Rehabilit...|    2|\n",
      "|              865|Visit(s) per Bene...|Skilled Nursing F...|    2|\n",
      "|              190|Treatment(s) per ...|Dental Check-Up f...|    3|\n",
      "|              830|Visit(s) per Bene...|Routine Eye Exam ...|    2|\n",
      "|              125|                    |Cardiac and Pulmo...|    2|\n",
      "|               55|                    |Attention Deficit...|    2|\n",
      "|              350|                    |Home Health Care ...|    3|\n",
      "|              540|Days per Benefit ...|Non-Preferred Bra...|    2|\n",
      "|              515|                    |Newborn Services ...|    4|\n",
      "|              550|                    |Non-Preferred Gen...|    2|\n",
      "|              455|Months per Proced...|Major Dental Care...|    2|\n",
      "|              335|Visit(s) per 3 Years|        Hearing Aids|    2|\n",
      "|              765|Visit(s) per Bene...|Private-Duty Nursing|    2|\n",
      "|             1055|                    |X-rays and Diagno...|    2|\n",
      "|              135|   Visit(s) per Year|   Chiropractic Care|    5|\n",
      "|              650|                    |Partial Hospitali...|    4|\n",
      "|              755|                    |Primary Care e-Visit|    2|\n",
      "+-----------------+--------------------+--------------------+-----+\n",
      "only showing top 20 rows\n",
      "\n"
     ]
    }
   ],
   "source": [
    "for column in Tbeneficios.columns:\n",
    "    total_count = Tbeneficios.count()\n",
    "    unique_count = Tbeneficios.select(column).distinct().count()\n",
    "    uniqueness_percentage = (unique_count / total_count) * 100\n",
    "\n",
    "    print(f\"Columna: {column} - Valores únicos: {unique_count} - Porcentaje de unicidad: {uniqueness_percentage:.2f}%\")\n",
    "\n",
    "# Identificar duplicados en una columna específica (por ejemplo, 'ProductoID')\n",
    "duplicados = Tbeneficios.groupBy(\"IdTipoBeneficio_T\",\"UnidadDelLimite\", \"Nombre\").count().filter(col(\"count\") > 1)\n",
    "duplicados_count = duplicados.count()\n",
    "\n",
    "print(f\"Número de productos duplicados: {duplicados_count}\")\n",
    "\n",
    "duplicados.show()"
   ]
  },
  {
   "cell_type": "markdown",
   "id": "f0f131ed-8493-4892-992c-63f2951f0a4d",
   "metadata": {},
   "source": [
    "para las columnas de tipo binario endonde se tienen valores Yes/No se es evidente el bajo % de unicidad , mientras que para las columnas como los son **IdTipoBeneficio_T**, **UnidadDelLimite** y **Nombre** se esperarian mejores valores"
   ]
  },
  {
   "cell_type": "markdown",
   "id": "5c508a38-0f44-47ad-90c0-50bf6351852f",
   "metadata": {},
   "source": [
    "## COMPLETIDUD"
   ]
  },
  {
   "cell_type": "markdown",
   "id": "be9f7edf-223b-4cc4-add5-5fae31a37026",
   "metadata": {},
   "source": [
    "Contar vacios"
   ]
  },
  {
   "cell_type": "code",
   "execution_count": 40,
   "id": "c5cae952-2368-4b3f-a421-e44d59b02d2f",
   "metadata": {},
   "outputs": [],
   "source": [
    "def contar_vacios(df):\n",
    "    resultados = []\n",
    "    for c in df.columns:\n",
    "        # Contar valores nulos y cadenas vacías\n",
    "        vacios_nulos = df.filter(df[c].isNull()).count()\n",
    "        vacios_cadenas = df.filter(df[c] == '').count()\n",
    "        total_vacios = vacios_nulos + vacios_cadenas\n",
    "        \n",
    "        if total_vacios != 0:\n",
    "            print(f'Número de vacíos para la columna {c}: {total_vacios} (Nulos: {vacios_nulos}, Cadenas vacías: {vacios_cadenas})')\n",
    "            resultados.append(total_vacios)\n",
    "    \n",
    "    return resultados\n",
    "\n",
    "\n",
    "def cardinalidad(df):\n",
    "    resultado = {}\n",
    "    for c in df.columns:\n",
    "        cardinalidad = df.select(col(c)).distinct().count()\n",
    "        if cardinalidad>=df.count()*0.5:\n",
    "            resultado[c] = cardinalidad\n",
    "    return resultado"
   ]
  },
  {
   "cell_type": "code",
   "execution_count": 42,
   "id": "b0d41e16-bdca-484c-b586-75112d4aa78b",
   "metadata": {},
   "outputs": [
    {
     "name": "stdout",
     "output_type": "stream",
     "text": [
      "Número de vacíos para la columna UnidadDelLimite: 559 (Nulos: 0, Cadenas vacías: 559)\n"
     ]
    }
   ],
   "source": [
    "columnas_vacias_Tbeneficios = contar_vacios(Tbeneficios)"
   ]
  },
  {
   "cell_type": "markdown",
   "id": "b912b31e-6a17-4b0a-80c5-48e55aebd949",
   "metadata": {},
   "source": [
    "Se evidencia que para la columna UnidadDelLimite se encuentran 559 cadenas vacias "
   ]
  },
  {
   "cell_type": "code",
   "execution_count": 43,
   "id": "1c2984f6-22a3-4e64-8fd3-d55e228db7f1",
   "metadata": {},
   "outputs": [
    {
     "data": {
      "text/plain": [
       "{}"
      ]
     },
     "execution_count": 43,
     "metadata": {},
     "output_type": "execute_result"
    }
   ],
   "source": [
    "columnas_alta_cardinalidad_Tbeneficios = cardinalidad(Tbeneficios)\n",
    "columnas_alta_cardinalidad_Tbeneficios"
   ]
  },
  {
   "cell_type": "code",
   "execution_count": 46,
   "id": "ff078a57-97bc-4bb7-a28f-001063642a7b",
   "metadata": {},
   "outputs": [
    {
     "name": "stdout",
     "output_type": "stream",
     "text": [
      "Columna: IdTipoBeneficio_T - Nulos: 0, Ceros: 0, Vacíos: 0\n",
      "Columna: Nombre - Nulos: 0, Ceros: 0, Vacíos: 0\n",
      "Columna: UnidadDelLimite - Nulos: 0, Ceros: 0, Vacíos: 559\n",
      "Columna: EsEHB - Nulos: 0, Ceros: 0, Vacíos: 0\n",
      "Columna: EstaCubiertaPorSeguro - Nulos: 0, Ceros: 0, Vacíos: 0\n",
      "Columna: TieneLimiteCuantitativo - Nulos: 0, Ceros: 0, Vacíos: 0\n",
      "Columna: ExcluidoDelDesembolsoMaximoDentroDeLaRed - Nulos: 0, Ceros: 0, Vacíos: 0\n",
      "Columna: ExcluidoDelDesembolsoMaximoFueraDeLaRed - Nulos: 0, Ceros: 0, Vacíos: 0\n",
      "Columna: Fecha - Nulos: 0, Ceros: 0, Vacíos: 0\n"
     ]
    }
   ],
   "source": [
    "from pyspark.sql import functions as F\n",
    "from pyspark.sql.types import IntegerType, DoubleType, LongType, FloatType, StringType\n",
    "\n",
    "# Función para contar valores nulos, ceros y vacíos en cada columna\n",
    "def contar_nulos_ceros_vacios(df, columnas):\n",
    "    for columna in columnas:\n",
    "        # Contar valores nulos\n",
    "        nulos = df.filter(F.col(columna).isNull()).count()\n",
    "        \n",
    "        # Contar valores iguales a 0 (solo si es numérico)\n",
    "        data_type = df.schema[columna].dataType\n",
    "        if isinstance(data_type, (IntegerType, DoubleType, LongType, FloatType)):\n",
    "            ceros = df.filter(F.col(columna) == 0).count()\n",
    "        else:\n",
    "            ceros = 0\n",
    "        \n",
    "        # Contar valores vacíos (solo si es de tipo string)\n",
    "        if isinstance(data_type, StringType):\n",
    "            vacios = df.filter(F.col(columna) == \"\").count()\n",
    "        else:\n",
    "            vacios = 0\n",
    "        \n",
    "        # Imprimir resultados\n",
    "        print(f\"Columna: {columna} - Nulos: {nulos}, Ceros: {ceros}, Vacíos: {vacios}\")\n",
    "\n",
    "# Lista de las columnas a verificar\n",
    "columnas = Tbeneficios.columns\n",
    "\n",
    "# Contar los valores nulos, ceros y vacíos en cada columna\n",
    "contar_nulos_ceros_vacios(Tbeneficios, columnas)"
   ]
  },
  {
   "cell_type": "markdown",
   "id": "1e634434-bb07-4049-bed3-430808e61953",
   "metadata": {},
   "source": [
    "## validez"
   ]
  },
  {
   "cell_type": "code",
   "execution_count": 49,
   "id": "dc0e427b-b193-44dd-a727-be677d1b19d5",
   "metadata": {},
   "outputs": [
    {
     "name": "stdout",
     "output_type": "stream",
     "text": [
      "La columna EsEHB tiene 20 valores diferentes de \"Yes\" o \"No\":\n",
      " - True\n",
      "La columna EstaCubiertaPorSeguro tiene 8 valores diferentes de \"Yes\" o \"No\":\n",
      " - False\n",
      "La columna TieneLimiteCuantitativo tiene 36 valores diferentes de \"Yes\" o \"No\":\n",
      " - Nein\n",
      " - Si\n",
      "La columna ExcluidoDelDesembolsoMaximoDentroDeLaRed tiene 2 valores diferentes de \"Yes\" o \"No\":\n",
      " - Algunas veces\n"
     ]
    }
   ],
   "source": [
    "def verificar_valores(df, columnas):\n",
    "    for c in columnas:\n",
    "        # Filtrar y obtener los valores diferentes de 'Yes' o 'No'\n",
    "        valores_invalidos = df.filter(~(col(c).isin('Yes', 'No')))\n",
    "        conteo_invalidos = valores_invalidos.count()\n",
    "\n",
    "        if conteo_invalidos > 0:\n",
    "            print(f'La columna {c} tiene {conteo_invalidos} valores diferentes de \"Yes\" o \"No\":')\n",
    "            # Mostrar los valores diferentes\n",
    "            valores_diferentes = valores_invalidos.select(c).distinct().collect()\n",
    "            for valor in valores_diferentes:\n",
    "                print(f' - {valor[0]}')\n",
    "\n",
    "# Lista de columnas a verificar\n",
    "columnas_a_verificar = [\n",
    "    \"EsEHB\",\n",
    "    \"EstaCubiertaPorSeguro\",\n",
    "    \"TieneLimiteCuantitativo\",\n",
    "    \"ExcluidoDelDesembolsoMaximoDentroDeLaRed\",\n",
    "    \"ExcluidoDelDesembolsoMaximoFueraDeLaRed\"\n",
    "]\n",
    "\n",
    "# Ejecutar la verificación\n",
    "verificar_valores(Tbeneficios, columnas_a_verificar)"
   ]
  },
  {
   "cell_type": "markdown",
   "id": "f11b2e90-e64f-44a0-b987-ef5796dd505d",
   "metadata": {},
   "source": [
    "Se evidencian algunos datos invalidos en las columnas descritas los cuales se imprimen para identificarlos y posteriormente hacer un tratamiento a estos datos"
   ]
  },
  {
   "cell_type": "markdown",
   "id": "6e2c1402-22c9-4950-9244-8f78691d253b",
   "metadata": {},
   "source": [
    "## Conclusión del entendimiento de datos "
   ]
  },
  {
   "cell_type": "markdown",
   "id": "2704b8a4-b2a1-4557-a52c-99d3e502eedc",
   "metadata": {},
   "source": [
    "#### Justificación de si es posible resolver los análisis basados en tableros de control propuestos"
   ]
  },
  {
   "cell_type": "markdown",
   "id": "02a4c521-b6c5-4ee9-bb78-086deeba7239",
   "metadata": {},
   "source": [
    "El modelo si es posible de resolver con analisis basado en tableros de control, solo si antes se hacen los ajustes a los hallazgos encontrados en la tabla ***Tipo de beneficios*** los cuales fueron descritos anteriormente \n"
   ]
  },
  {
   "cell_type": "code",
   "execution_count": null,
   "id": "fa427a4e-6711-4050-a718-2fe3ce39de15",
   "metadata": {},
   "outputs": [],
   "source": []
  }
 ],
 "metadata": {
  "kernelspec": {
   "display_name": "Python 3 (ipykernel)",
   "language": "python",
   "name": "python3"
  },
  "language_info": {
   "codemirror_mode": {
    "name": "ipython",
    "version": 3
   },
   "file_extension": ".py",
   "mimetype": "text/x-python",
   "name": "python",
   "nbconvert_exporter": "python",
   "pygments_lexer": "ipython3",
   "version": "3.7.13"
  }
 },
 "nbformat": 4,
 "nbformat_minor": 5
}
