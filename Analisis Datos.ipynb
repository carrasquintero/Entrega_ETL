{
 "cells": [
  {
   "cell_type": "markdown",
   "metadata": {
    "id": "YLE3Y7VOPn3G"
   },
   "source": [
    "# Entendimiento de los datos RaSa"
   ]
  },
  {
   "cell_type": "markdown",
   "metadata": {
    "id": "dm33nuYTPn3L"
   },
   "source": [
    "## Configuración e importe de paquetes\n",
    "Se utilizará el paquete de pandas profiling para apoyar el análisis estadístico, y se importan los paquetes de python\n",
    "necesarios"
   ]
  },
  {
   "cell_type": "code",
   "execution_count": 1,
   "metadata": {
    "id": "gGiDdRBNPn3M"
   },
   "outputs": [
    {
     "name": "stderr",
     "output_type": "stream",
     "text": [
      "C:\\Users\\estudiante\\anaconda3\\envs\\Tutoriales\\lib\\site-packages\\tqdm\\auto.py:22: TqdmWarning: IProgress not found. Please update jupyter and ipywidgets. See https://ipywidgets.readthedocs.io/en/stable/user_install.html\n",
      "  from .autonotebook import tqdm as notebook_tqdm\n"
     ]
    }
   ],
   "source": [
    "from pyspark.sql import SparkSession\n",
    "from pyspark.sql import functions\n",
    "from pyspark.sql.types import StructType\n",
    "from pyspark import SparkContext, SparkConf, SQLContext\n",
    "from pyspark.sql.types import FloatType, StringType, IntegerType, DateType\n",
    "from pyspark.sql.functions import udf, col, length, isnan, when, count\n",
    "import pyspark.sql.functions as f\n",
    "import os \n",
    "from datetime import datetime\n",
    "from pyspark.sql import types as t\n",
    "from pandas_profiling import ProfileReport\n",
    "import matplotlib.pyplot as plt\n",
    "import numpy as np"
   ]
  },
  {
   "cell_type": "markdown",
   "metadata": {
    "id": "Tyk0YmZRPn3N"
   },
   "source": [
    "Configuración del controlador e inicio de sesion Spark"
   ]
  },
  {
   "cell_type": "code",
   "execution_count": 2,
   "metadata": {
    "id": "0r-yix1rPn3O"
   },
   "outputs": [],
   "source": [
    "path_jar_driver = 'C:\\Program Files (x86)\\MySQL\\Connector J 8.0\\mysql-connector-java-8.0.28.jar'"
   ]
  },
  {
   "cell_type": "code",
   "execution_count": 3,
   "metadata": {
    "id": "0-m3Q2MtPn3O",
    "outputId": "459f0ec2-9a36-4a36-edac-427852524d95"
   },
   "outputs": [
    {
     "name": "stderr",
     "output_type": "stream",
     "text": [
      "C:\\Users\\estudiante\\anaconda3\\envs\\Tutoriales\\lib\\site-packages\\pyspark\\sql\\context.py:79: FutureWarning: Deprecated in 3.0.0. Use SparkSession.builder.getOrCreate() instead.\n",
      "  FutureWarning\n"
     ]
    }
   ],
   "source": [
    "#Configuración de la sesión\n",
    "conf=SparkConf() \\\n",
    "    .set('spark.driver.extraClassPath', path_jar_driver)\n",
    "\n",
    "spark_context = SparkContext(conf=conf)\n",
    "sql_context = SQLContext(spark_context)\n",
    "spark = sql_context.sparkSession"
   ]
  },
  {
   "cell_type": "code",
   "execution_count": 4,
   "metadata": {
    "id": "0eQw66SIPn3P"
   },
   "outputs": [],
   "source": [
    "# Si quiere practicar la conexion con el servidor de base de datos:\n",
    "db_connection_string = 'jdbc:mysql://157.253.236.120:8080/RaSaTransaccional'\n",
    "# El usuario es su estudiante _i asignado y su contraseña la encontrará en el archivo excel de Coursera \n",
    "db_user = 'Estudiante_22_202415'\n",
    "db_psswd = 'Estudiante_201117125'\n",
    "\n",
    "PATH='./'"
   ]
  },
  {
   "cell_type": "markdown",
   "metadata": {
    "id": "p6KvbuvpPn3Q"
   },
   "source": [
    "### Información dada por la organización relacionada con los datos\n",
    "RaSA de forma conjunta con un grupo de consultores de inteligencia de negocios, ha trabajado en una especificación de los primeros análisis que quiere que usted realice. En esta primera fase, a partir de estos análisis propuestos, la empresa le ha entregado una serie de fuentes de datos y requiere que usted realice los siguientes entregables relacionados con la etapa de entendimiento de datos:\n",
    "\n",
    "Dichos datos pueden tener errores ya que no han sido utilizados previamente para ser analizados. La empresa nos da información adicional sobre los datos:\n",
    "\n",
    "- Las áreas de servicios reportadas cubren todos los condados del país\n",
    "- Los tipos de beneficios con límite cuantitativo deben tener una cantidad límite diferente de cero en los planes que los ofrecen.\n",
    "- Las fuentes FuenteAreasDeServicio_Copia_E y FuenteTiposBeneficio_Copia_E comparten información de los años 2017 al 2019\n",
    "- La empresa comparte 5409 áreas de servicios y 170 tipos de beneficios.\n",
    "- El valor máximo Copago y Coseguro para el año 2018 es respectivamente 3300 y 100.\n",
    "- Además, les comparte información de 301 planes para 2017 y de 422 para el año 2018.\n",
    "- Existen 15 y 5 diferentes condiciones de copago y coseguro respectivamente.\n"
   ]
  },
  {
   "cell_type": "markdown",
   "metadata": {
    "id": "Xw96w3ywPn3R"
   },
   "source": [
    "### Conexión a fuente de datos y acceso a los datos"
   ]
  },
  {
   "cell_type": "markdown",
   "metadata": {
    "id": "LKHpN3nzPn3R"
   },
   "source": [
    "#### Conexión a fuente de datos\n",
    "A continuación encuentra las funciones para conectarse a la fuente de datos (archivo csv o base de datos) y retornar un dataframe que es el que se utilizará posteriormente para manipular los datos."
   ]
  },
  {
   "cell_type": "code",
   "execution_count": 5,
   "metadata": {
    "id": "SsdwInchPn3R"
   },
   "outputs": [],
   "source": [
    "def obtener_dataframe_de_bd(db_connection_string, sql, db_user, db_psswd):\n",
    "    df_bd = spark.read.format('jdbc')\\\n",
    "        .option('url', db_connection_string) \\\n",
    "        .option('dbtable', sql) \\\n",
    "        .option('user', db_user) \\\n",
    "        .option('password', db_psswd) \\\n",
    "        .option('driver', 'com.mysql.cj.jdbc.Driver') \\\n",
    "        .load()\n",
    "    return df_bd"
   ]
  },
  {
   "cell_type": "markdown",
   "metadata": {
    "id": "3HZloEq5Pn3S"
   },
   "source": [
    "#### Cargue de datos\n",
    "Para consultar desde la base de datos se puede acceder directamente a la tabla dado su nombre o se puede especificar la sentencia SQL de un \"SELECT\" completo para traer la información total o parcial de la tabla que se requiere. A continuación un ejemplo de cada uno de estos usos. \n",
    "Acceso directo para el caso de órdenes y acceso con sentencia SQL para el caso de detallesOrdenes."
   ]
  },
  {
   "cell_type": "code",
   "execution_count": 30,
   "metadata": {
    "id": "xMaQViPnPn3S",
    "tags": []
   },
   "outputs": [],
   "source": [
    "sql_fuentes = 'FuenteCondicionesDePago_Copia_E'"
   ]
  },
  {
   "cell_type": "code",
   "execution_count": 31,
   "metadata": {
    "id": "Ajy_XMshPn3T",
    "tags": []
   },
   "outputs": [],
   "source": [
    "#Se cargan los dataframes desde la base de datos\n",
    "fuentes = obtener_dataframe_de_bd(db_connection_string, sql_fuentes, db_user, db_psswd)"
   ]
  },
  {
   "cell_type": "markdown",
   "metadata": {
    "id": "qxN27II0Pn3T"
   },
   "source": [
    "### Entendimiento general de datos \"Fuente Condiciones de Pago\""
   ]
  },
  {
   "cell_type": "markdown",
   "metadata": {
    "id": "BMULJYE2Pn3T"
   },
   "source": [
    "Para ver una muestra de los datos, utilice el comando <i>show</i> ingresando el número de filas que quiere ver"
   ]
  },
  {
   "cell_type": "code",
   "execution_count": 32,
   "metadata": {
    "id": "HtrqSl0zPn3T",
    "outputId": "c20c03fc-68d4-4d2e-eb8f-91a06cdd3174"
   },
   "outputs": [
    {
     "name": "stdout",
     "output_type": "stream",
     "text": [
      "+---------------------+--------------------+-------------+\n",
      "|IdCondicionesDePago_T|         Descripcion|         Tipo|\n",
      "+---------------------+--------------------+-------------+\n",
      "|                  187|Copay with deduct...|       Copago|\n",
      "|                  204|       Copay per Day|       Copago|\n",
      "|                   45|         Coinsurance|     Coseguro|\n",
      "|                   85|Copay per Day bef...|       Copago|\n",
      "|                   18|No Charge after d...|     Coseguro|\n",
      "|                  136|Copay per Stay wi...|       Copago|\n",
      "|                   27|Coinsurance after...|     Coseguro|\n",
      "|                  238|               Copay|       Copago|\n",
      "|                  207|No Charge after d...|       Copago|\n",
      "|                  153|Copay after deduc...|       Copago|\n",
      "|                   36|      Not Applicable|     Coseguro|\n",
      "|                   17|Copay per Day aft...|       Copago|\n",
      "|                  119|Copay per Day wit...|       Copago|\n",
      "|                  170|Copay before dedu...|       Copago|\n",
      "|                   51|           No Charge|       Copago|\n",
      "|                  102|Copay per Stay be...|       Copago|\n",
      "|                   34|      Not Applicable|     Copagado|\n",
      "|                   68|Copay per Stay af...|SinTipoCopago|\n",
      "|                  221|      Copay per Stay|          NaN|\n",
      "|                    9|           No Charge|  Coseguridad|\n",
      "|                  714|               Copay|       Copago|\n",
      "|                  135|         Coinsurance|     Coseguro|\n",
      "|                  663|      Copay per Stay|       Copago|\n",
      "|                  204|Copay per Stay af...|       Copago|\n",
      "|                   27|Coinsurance after...|     Coseguro|\n",
      "|                  221|      Copay per Stay|          NaN|\n",
      "|                  207|No Charge after d...|       Copago|\n",
      "|                   45|         Coinsurance|     Coseguro|\n",
      "|                  204|Copay per Stay af...|       Copago|\n",
      "|                  119|Copay per Day wit...|       Copago|\n",
      "|                   51|           No Charge|       Copago|\n",
      "+---------------------+--------------------+-------------+\n",
      "\n"
     ]
    }
   ],
   "source": [
    "fuentes.show(31)"
   ]
  },
  {
   "cell_type": "markdown",
   "metadata": {
    "id": "Q_aZvenTPn3U"
   },
   "source": [
    "Como puede observar en la tabla de ordenes tenemos información **relacionada con el cliente, el empleado y con la órden**. La información del cliente es su identificador <i>ID_de_cliente</i>, el identificador de la persona que eligió la órden <i>eleccionado_por_ID_de_persona</i>, el identificador de la persona de contacto <i>ID_de_persona_de_contacto</i>, el <i>Número_de_pedido_de_compra_del_cliente</i>. La información del empleado es su identificador <i>ID_de_vendedor</i>. La información de la órden es: el identificador de la órden <i>ID_de_pedido</i>, el identificador que indica si es un pedido pendiente <i>ID_de_pedido_pendiente</i>, la fecha en la que se realizó el pedido <i>Fecha_de_pedido</i>, la fecha de entrega esperada del pedido <i>Fecha_de_entrega_esperada</i> y <i>Pedido_pendiente_de_suministro_insuficiente</i> que indica si es un pedido pendiente o no.\n",
    "El esquema de un DataFrame incluye los nombres de las columnas asi como el tipo de dato. Recuerde que tipo de dato (e.g., booleano, caracteres, enteros, flotantes, colecciones) es diferente a tipo de variable (numérica y categórica)."
   ]
  },
  {
   "cell_type": "code",
   "execution_count": 33,
   "metadata": {
    "id": "lLV_ItLhPn3U",
    "outputId": "db9438a4-0a6d-4809-ea99-752add60ad64"
   },
   "outputs": [
    {
     "data": {
      "text/plain": [
       "StructType(List(StructField(IdCondicionesDePago_T,IntegerType,true),StructField(Descripcion,StringType,true),StructField(Tipo,StringType,true)))"
      ]
     },
     "execution_count": 33,
     "metadata": {},
     "output_type": "execute_result"
    }
   ],
   "source": [
    "fuentes.schema"
   ]
  },
  {
   "cell_type": "markdown",
   "metadata": {
    "id": "seP-zo8JPn3U"
   },
   "source": [
    "Por otra parte, en los detalles de ordenes se tiene **información del pedido y del producto**. Del pedido se tiene el identificador del detalle <i>Detalle_orden_ID</i>, el identificador de la orden a la que está relacionado cada detalle <i>ID_de_pedido</i>, la <i>Cantidad_seleccionada</i> del producto para la orden, la fecha de selección <i>Seleccion_completada_cuando</i>. Del producto tenemos el <i>ID_Producto</i>, su <i>Descripcion</i>, el tipo de paquete <i>ID_Tipo_Paquete</i> (Ej. 1.Bolsa, 4. Caja), la <i>Cantidad</i>, el <i>Precio_unitario</i>, y la <i>Tasa_impuesto</i> asociada a ese producto. Una primera aclaración a solicitar por parte del negocio es cuál es la diferencia entre cantidad y cantidad seleccionada"
   ]
  },
  {
   "cell_type": "markdown",
   "metadata": {
    "id": "GJDrzRVHPn3V"
   },
   "source": [
    "**¿Qué es una fila de cada fuente compartida?**\n",
    "Con estos análisis podemos concluir que una fila de órdenes representa la órden realizada por un cliente y atendida por un empleado. Mientras que el detalle de órden coincide con su nombre y contiene el detalle de cada producto solicitado en una órden."
   ]
  },
  {
   "cell_type": "markdown",
   "metadata": {
    "id": "uw09BODdPn3V"
   },
   "source": [
    "Una vez entendida en términos generales la estructura de los datos, es necesario conocer la cantidad de datos disponibles, esto se hace con count() y con columns, que retornan el número de filas y número de columnas respectivamente."
   ]
  },
  {
   "cell_type": "code",
   "execution_count": 34,
   "metadata": {
    "id": "g0Lvl535Pn3V",
    "outputId": "6fb3f30d-2179-4d50-ddd5-4880e28673d8"
   },
   "outputs": [
    {
     "name": "stdout",
     "output_type": "stream",
     "text": [
      "(31, 3)\n"
     ]
    }
   ],
   "source": [
    "print((fuentes.count(), len(fuentes.columns)))"
   ]
  },
  {
   "cell_type": "markdown",
   "metadata": {
    "id": "kqwEyUFpPn3V"
   },
   "source": [
    "**¿Cuantos datos nos compartieron para el proyecto?**\n",
    "En total tenemos 31 tipos de Fuentes de Condiciones de Pago en un total de 3 variables a revisar de las cuales 1 es un ID que identifica el tipo de condición de pago y 2 variables string que relacionan los tipos de pago (copagos y coseguros)."
   ]
  },
  {
   "cell_type": "markdown",
   "metadata": {
    "id": "GnAScmClPn3W"
   },
   "source": [
    "### Revisión de reglas de negocio \n",
    "\n",
    "Primero se confirman las reglas proporcionadas por el negocio, la primera que asegura que existen 15 tipos de copago y 5 de coseguro"
   ]
  },
  {
   "cell_type": "code",
   "execution_count": 35,
   "metadata": {
    "id": "ssjlV5xbPn3W",
    "outputId": "2ab69e67-fcc0-42c0-bf32-425d65c5118b"
   },
   "outputs": [
    {
     "name": "stdout",
     "output_type": "stream",
     "text": [
      "+-------------+-----+\n",
      "|         Tipo|count|\n",
      "+-------------+-----+\n",
      "|     Copagado|    1|\n",
      "|  Coseguridad|    1|\n",
      "|       Copago|   19|\n",
      "|SinTipoCopago|    1|\n",
      "|          NaN|    2|\n",
      "|     Coseguro|    7|\n",
      "+-------------+-----+\n",
      "\n"
     ]
    }
   ],
   "source": [
    "descripcion = fuentes.select(\"Tipo\", \"Descripcion\").groupBy(\"Tipo\").count()\n",
    "descripcion.show()"
   ]
  },
  {
   "cell_type": "markdown",
   "metadata": {},
   "source": [
    "Revisamos las categorias de Descripción cuando nos enfocamos en el ***\"Tipo\" == \"Copago\"***. Encontramos 14 diferentes categorias, pero en la tabla general encontramos el tipo Copagado podría considerarse dentro de \"Copago\". Haciendo este ajuste en el select encontramos que solo existen 14 descripciones de este tipo. Existen dos descripciones ***No Charge after d*** y ***No Charge*** que pueden referirse al tipo Coseguro y que están incorrectamente asignadas"
   ]
  },
  {
   "cell_type": "code",
   "execution_count": 38,
   "metadata": {},
   "outputs": [
    {
     "name": "stdout",
     "output_type": "stream",
     "text": [
      "+--------------------+\n",
      "|         Descripcion|\n",
      "+--------------------+\n",
      "|      Copay per Stay|\n",
      "|No Charge after d...|\n",
      "|           No Charge|\n",
      "|Copay before dedu...|\n",
      "|Copay per Stay wi...|\n",
      "|Copay per Stay af...|\n",
      "|Copay per Day aft...|\n",
      "|Copay with deduct...|\n",
      "|Copay after deduc...|\n",
      "|Copay per Day bef...|\n",
      "|Copay per Stay be...|\n",
      "|Copay per Day wit...|\n",
      "|               Copay|\n",
      "|       Copay per Day|\n",
      "+--------------------+\n",
      "\n"
     ]
    }
   ],
   "source": [
    "fuentes.select(\"Descripcion\").where(fuentes[\"Tipo\"].isin(\"Copago\", \"pago\")).distinct().show()"
   ]
  },
  {
   "cell_type": "markdown",
   "metadata": {},
   "source": [
    "Revisamos las categorias de Descripción cuando nos enfocamos en el ***\"Tipo\" == \"Coseguro\"***. Encontramos 4 diferentes categorias. Exite una categoria en el tipo Copago llamada ***No Charge*** que puede referirse al 5 grupo de copago"
   ]
  },
  {
   "cell_type": "code",
   "execution_count": 39,
   "metadata": {},
   "outputs": [
    {
     "name": "stdout",
     "output_type": "stream",
     "text": [
      "+--------------------+\n",
      "|         Descripcion|\n",
      "+--------------------+\n",
      "|No Charge after d...|\n",
      "|Coinsurance after...|\n",
      "|         Coinsurance|\n",
      "|      Not Applicable|\n",
      "+--------------------+\n",
      "\n"
     ]
    }
   ],
   "source": [
    "fuentes.select(\"Descripcion\").where(fuentes[\"Tipo\"]==\"Coseguro\").distinct().show()"
   ]
  },
  {
   "cell_type": "code",
   "execution_count": 43,
   "metadata": {},
   "outputs": [
    {
     "name": "stdout",
     "output_type": "stream",
     "text": [
      "+--------------+\n",
      "|   Descripcion|\n",
      "+--------------+\n",
      "|Copay per Stay|\n",
      "+--------------+\n",
      "\n",
      "+---------------------+\n",
      "|IdCondicionesDePago_T|\n",
      "+---------------------+\n",
      "|                  221|\n",
      "+---------------------+\n",
      "\n"
     ]
    }
   ],
   "source": [
    "fuentes.select(\"Descripcion\").where(fuentes[\"Tipo\"]==\"NaN\").distinct().show()\n",
    "fuentes.select(\"IdCondicionesDePago_T\").where(fuentes[\"Tipo\"]==\"NaN\").distinct().show()"
   ]
  },
  {
   "cell_type": "markdown",
   "metadata": {
    "id": "M48A5DanPn3X"
   },
   "source": [
    "Existe un caso de tipo Nan que corresponde a la descripción ***Copay per Stay*** con ID de condiciones ***221***. Este caso puede ser planteado al cliente para indagar si se trata de un error y corresponde a la categoria Copago - lo que podrian completar las 15 condiciones expuestas por el cliente"
   ]
  },
  {
   "cell_type": "markdown",
   "metadata": {
    "id": "55FLtckZPn3W"
   },
   "source": [
    "Como resultado de la comprobación de la regla de negocio: ***Existen 15 y 5 diferentes condiciones de copago y coseguro respectivamente*** se encuentra que existen diferencias entre lo reportado por el negocio y lo entregado en la tabla. En Copagos se podrían considerar 14 tipos y en Coseguros se encuentran 4 tipos, aunque puede tratarse de un error de asignación de categorias y no de faltantes en la base de datos"
   ]
  },
  {
   "cell_type": "markdown",
   "metadata": {
    "id": "UuZspay3Pn3Z"
   },
   "source": [
    "### Análisis descriptivo\n",
    "Una vez cubierto lo básico de reglas de negocio, pasamos a perfilamiento estadístico. Para ver estadisticos generales como conteo, mínimo, máximo, desviación estandar y percentiles utilice summary()"
   ]
  },
  {
   "cell_type": "code",
   "execution_count": 44,
   "metadata": {
    "id": "TkWrIdDhPn3Z",
    "outputId": "7d37ef91-452e-49d9-8282-f1676c2b5ea9"
   },
   "outputs": [
    {
     "name": "stdout",
     "output_type": "stream",
     "text": [
      "+-------+---------------------+--------------+-------------+\n",
      "|summary|IdCondicionesDePago_T|   Descripcion|         Tipo|\n",
      "+-------+---------------------+--------------+-------------+\n",
      "|  count|                   31|            31|           31|\n",
      "|   mean|   152.16129032258064|          null|          NaN|\n",
      "| stddev|   161.75312398306122|          null|          NaN|\n",
      "|    min|                    9|   Coinsurance|     Copagado|\n",
      "|    25%|                   45|          null|          NaN|\n",
      "|    50%|                  119|          null|          NaN|\n",
      "|    75%|                  204|          null|          NaN|\n",
      "|    max|                  714|Not Applicable|SinTipoCopago|\n",
      "+-------+---------------------+--------------+-------------+\n",
      "\n"
     ]
    }
   ],
   "source": [
    "fuentes.summary().show()"
   ]
  },
  {
   "cell_type": "code",
   "execution_count": 54,
   "metadata": {
    "id": "jTU_GHMIPn3e",
    "outputId": "d5c71e84-8815-4723-c916-d9b7ee138952"
   },
   "outputs": [
    {
     "name": "stdout",
     "output_type": "stream",
     "text": [
      "+--------------------+--------+------+-----------+--------+----+-------------+\n",
      "|         Descripcion|Copagado|Copago|Coseguridad|Coseguro| NaN|SinTipoCopago|\n",
      "+--------------------+--------+------+-----------+--------+----+-------------+\n",
      "|      Copay per Stay|    null|     1|       null|    null|   2|         null|\n",
      "|No Charge after d...|    null|     2|       null|       1|null|         null|\n",
      "|Coinsurance after...|    null|  null|       null|       2|null|         null|\n",
      "|           No Charge|    null|     2|          1|    null|null|         null|\n",
      "|Copay before dedu...|    null|     1|       null|    null|null|         null|\n",
      "|Copay per Stay wi...|    null|     1|       null|    null|null|         null|\n",
      "|Copay per Stay af...|    null|     2|       null|    null|null|            1|\n",
      "|Copay per Day aft...|    null|     1|       null|    null|null|         null|\n",
      "|Copay with deduct...|    null|     1|       null|    null|null|         null|\n",
      "|         Coinsurance|    null|  null|       null|       3|null|         null|\n",
      "|Copay after deduc...|    null|     1|       null|    null|null|         null|\n",
      "|Copay per Day bef...|    null|     1|       null|    null|null|         null|\n",
      "|Copay per Stay be...|    null|     1|       null|    null|null|         null|\n",
      "|Copay per Day wit...|    null|     2|       null|    null|null|         null|\n",
      "|               Copay|    null|     2|       null|    null|null|         null|\n",
      "|       Copay per Day|    null|     1|       null|    null|null|         null|\n",
      "|      Not Applicable|       1|  null|       null|       1|null|         null|\n",
      "+--------------------+--------+------+-----------+--------+----+-------------+\n",
      "\n"
     ]
    }
   ],
   "source": [
    "fuentes.groupBy('Descripcion').pivot('Tipo').count().show()"
   ]
  },
  {
   "cell_type": "markdown",
   "metadata": {
    "id": "0zEoTVtOPn3Z"
   },
   "source": [
    "En las estadísticas anteriores ve"
   ]
  },
  {
   "cell_type": "markdown",
   "metadata": {
    "id": "K5ZlLb22Pn3a"
   },
   "source": [
    "En las estadíticas de orden podemos observar que el valor promedio de precio unitario es 44.54, la cantidad promedio es 213 unidades y el promedio de cantidad seleccionada es 39.74\n"
   ]
  },
  {
   "cell_type": "code",
   "execution_count": 49,
   "metadata": {
    "id": "dn8Ez79LPn3a",
    "outputId": "4fdf9370-9987-46a8-80c0-8b4c79655534"
   },
   "outputs": [
    {
     "data": {
      "text/plain": [
       "([0, 1, 2, 3, 4, 5],\n",
       " [Text(0, 0, ''),\n",
       "  Text(0, 0, ''),\n",
       "  Text(0, 0, ''),\n",
       "  Text(0, 0, ''),\n",
       "  Text(0, 0, ''),\n",
       "  Text(0, 0, '')])"
      ]
     },
     "execution_count": 49,
     "metadata": {},
     "output_type": "execute_result"
    },
    {
     "data": {
      "image/png": "[encoded data removed]",
      "text/plain": [
       "<Figure size 432x288 with 1 Axes>"
      ]
     },
     "metadata": {
      "needs_background": "light"
     },
     "output_type": "display_data"
    }
   ],
   "source": [
    "%matplotlib inline\n",
    "import matplotlib.pyplot as plt\n",
    "\n",
    "fig1, ax1 = plt.subplots()\n",
    "ax1.set_title('Tipo Fuentes Condiciones de Pago')\n",
    "ax1.hist(np.array(fuentes.select('Tipo').collect()))\n",
    "plt.xticks(rotation=90)"
   ]
  },
  {
   "cell_type": "markdown",
   "metadata": {
    "id": "c0_4fokYPn3a"
   },
   "source": [
    "El análisis anterior es muy útil para variables de tipo numérico, sin embargo es incompleto para las variables de tipo caracter o las variables categoricas, por ende es necesario implementar nuestro propio código par obtener estadisticos como la moda y la mediana. A continuación obtenemos la moda para la variable Descripcion:"
   ]
  },
  {
   "cell_type": "markdown",
   "metadata": {
    "id": "9bG1x9gWPn3b",
    "tags": []
   },
   "source": [
    "## Análisis de calidad de datos\n",
    "La calidad de los datos consiste en validar la idoneidad de los datos analizando varias dimensiones, entre las cuales resaltamos:\n",
    "- Completitud: Datos que no existen o no se conocen\n",
    "- Unicidad (Duplicidad): Datos que son idénticos en diferentes registros o registros con valores idénticos en atributos en los que no debería ocurrir\n",
    "- Consistencia: Esta medida se define por la validez o integridad del dato, en la definición de su estructura, al interior de una fila o entre diferentes filas de la misma fuente o de diferentes fuentes. El manejo de unidades en los datos y el significado del dato son generadores de inconsistencias.\n",
    "- Validez: a nivel de formato y de sentido de los datos más alla de sus valores\n",
    "\n",
    "Para asegurar una calidad mínima de los datos en estas dimensiones hay que entender su origen y posteriormente realizar un proceso de validación de cada una de las dimensiones de perfilamiento que llevará a un entendimiento de los datos disponibles.\n"
   ]
  },
  {
   "cell_type": "markdown",
   "metadata": {
    "id": "WKPFuI9uPn3b"
   },
   "source": [
    "A continuación se definen dos funciones, la primera cuenta los valores vacios por columna de dataframe, la segunda retorna un diccionario de columnas con cardinalidad superior al 50%\n",
    "\n",
    "Te invito a revisar los recursos de calidad de datos que hemos visto en el curso, a continuacion ejemplos daremos algunos ejemplos por cada dimensión para el caso del tutorial"
   ]
  },
  {
   "cell_type": "markdown",
   "metadata": {
    "id": "ZHLs1H0hPn3b"
   },
   "source": [
    "### Unicidad y validez\n",
    "\n",
    "La unicidad se revisó en la segunda regla de negocio y la validez se reviso en el perfilamiento general, en la regla de negocio 3 y en el análisis de la descripción al final de la sección de revisión de reglas de negocio"
   ]
  },
  {
   "cell_type": "markdown",
   "metadata": {
    "id": "QgkzeSm4Pn3b"
   },
   "source": [
    "### Completitud y validez"
   ]
  },
  {
   "cell_type": "code",
   "execution_count": 50,
   "metadata": {
    "id": "mIWH-vVoPn3b"
   },
   "outputs": [],
   "source": [
    "def contar_vacios(df):\n",
    "    resultados = []\n",
    "    for c in df.columns:\n",
    "        vacios_1 = df.filter(df[c].isNull()).count()\n",
    "        vacios_2 = df.filter(df[c] == \"NaN\").count()\n",
    "        vacios = vacios_1 + vacios_2\n",
    "        if vacios!=0:\n",
    "            print('número de vacíos para columna '+c+': '+str( vacios ))\n",
    "            resultados.append(vacios)\n",
    "    return resultados\n",
    "\n",
    "def cardinalidad(df):\n",
    "    resultado = {}\n",
    "    for c in df.columns:\n",
    "        cardinalidad = df.select(col(c)).distinct().count()\n",
    "        if cardinalidad>=df.count()*0.5:\n",
    "            resultado[c] = cardinalidad\n",
    "    return resultado"
   ]
  },
  {
   "cell_type": "code",
   "execution_count": 52,
   "metadata": {
    "id": "da_z_ti-Pn3b",
    "outputId": "ecac9b39-d97a-422a-a579-698c5733ab7b"
   },
   "outputs": [
    {
     "name": "stdout",
     "output_type": "stream",
     "text": [
      "número de vacíos para columna Tipo: 2\n"
     ]
    }
   ],
   "source": [
    "columnas_vacias_ordenes = contar_vacios(fuentes)"
   ]
  },
  {
   "cell_type": "code",
   "execution_count": 53,
   "metadata": {
    "id": "NxXQm_KEPn3c",
    "outputId": "419b9709-25fe-43dd-d63a-a9be645d11f7"
   },
   "outputs": [],
   "source": [
    "columnas_alta_cardinalidad = cardinalidad(fuentes)"
   ]
  },
  {
   "cell_type": "markdown",
   "metadata": {
    "id": "vDX10qmfPn3c"
   },
   "source": [
    "Como podemos observar para las ordenes las columnas Tipo tiene 2 vacios, definidos como NaN \n",
    "Respecto a cardinalidad, Ninguna columna tiene una cardinalidad superior al 50%."
   ]
  },
  {
   "cell_type": "markdown",
   "metadata": {
    "id": "LZyQcqCvPn3c"
   },
   "source": [
    "### Consistencia\n",
    "A nivel de consistencia algunos ejemplos de revisión son precios negativos, productos que aparecen en las ordenes pero que no esten registrados en la tabla de produtos. En nuestro caso vamos a verificar que todas las ordenes tengan detalle de orden y viceversa"
   ]
  },
  {
   "cell_type": "code",
   "execution_count": 34,
   "metadata": {
    "id": "uHEz7IylPn3c",
    "outputId": "0f987de9-4b5e-4532-e42a-a547d3207985"
   },
   "outputs": [
    {
     "data": {
      "text/plain": [
       "(44359, 28956)"
      ]
     },
     "execution_count": 34,
     "metadata": {},
     "output_type": "execute_result"
    }
   ],
   "source": [
    "#consistencia: revisar genially: definicion de consistencia\n",
    "ids_ordenes = set([x.ID_de_pedido for x in ordenes.select('ID_de_pedido').collect()])\n",
    "ids_detalles = set([x.ID_de_pedido for x in detallesOrdenes.select('ID_de_pedido').collect()])\n",
    "\n",
    "len(ids_ordenes-ids_detalles), len(ids_detalles-ids_ordenes)"
   ]
  },
  {
   "cell_type": "markdown",
   "metadata": {
    "id": "oU6a547APn3c"
   },
   "source": [
    "Como se puede observar hay una diferencia de 44.359 ordenes que no tienen detalles y hay 28.956 detalles que no tienen orden. Ninguno de los casos tiene sentido en el contexto de WideWorldImporters. Esta inconsistencia se notifica al negocio dado que no hay forma de conocer cuáles son los registros que pueden tener ids que no existen"
   ]
  },
  {
   "cell_type": "markdown",
   "metadata": {
    "id": "0JxEJmKnPn3h"
   },
   "source": [
    "### Entendimiento general de datos \"Fuente Condiciones de Pago\""
   ]
  },
  {
   "cell_type": "markdown",
   "metadata": {
    "id": "3HZloEq5Pn3S"
   },
   "source": [
    "#### Cargue de datos\n",
    "Para consultar desde la base de datos se puede acceder directamente a la tabla dado su nombre o se puede especificar la sentencia SQL de un \"SELECT\" completo para traer la información total o parcial de la tabla que se requiere. A continuación un ejemplo de cada uno de estos usos. \n",
    "Acceso directo para el caso de órdenes y acceso con sentencia SQL para el caso de detallesOrdenes."
   ]
  },
  {
   "cell_type": "code",
   "execution_count": 59,
   "metadata": {
    "id": "xMaQViPnPn3S"
   },
   "outputs": [],
   "source": [
    "sql_areas = 'FuenteAreasDeServicio_Copia_E'"
   ]
  },
  {
   "cell_type": "code",
   "execution_count": 61,
   "metadata": {
    "id": "Ajy_XMshPn3T"
   },
   "outputs": [],
   "source": [
    "#Se cargan los dataframes desde la base de datos\n",
    "areas = obtener_dataframe_de_bd(db_connection_string, sql_areas, db_user, db_psswd)"
   ]
  },
  {
   "cell_type": "markdown",
   "metadata": {
    "id": "qxN27II0Pn3T"
   },
   "source": [
    "### Entendimiento general de datos \"Fuente Condiciones de Pago\""
   ]
  },
  {
   "cell_type": "markdown",
   "metadata": {
    "id": "BMULJYE2Pn3T"
   },
   "source": [
    "Para ver una muestra de los datos, utilice el comando <i>show</i> ingresando el número de filas que quiere ver"
   ]
  },
  {
   "cell_type": "code",
   "execution_count": 62,
   "metadata": {
    "id": "HtrqSl0zPn3T",
    "outputId": "c20c03fc-68d4-4d2e-eb8f-91a06cdd3174"
   },
   "outputs": [
    {
     "name": "stdout",
     "output_type": "stream",
     "text": [
      "+------------------+--------------------+-------------+-----------------+----------+------------+-----+--------+-----+\n",
      "|IdAreaDeServicio_T|NombreAreaDeServicio|IdGeografia_T|          Condado|    Estado|PoblacionAct| Area|Densidad|Fecha|\n",
      "+------------------+--------------------+-------------+-----------------+----------+------------+-----+--------+-----+\n",
      "|         100622017|New Jersey - Medi...|        34005|Burlington County|New Jersey|    464269.0|805.0|   577.0| 2017|\n",
      "|         101012018|New Jersey - Medi...|        34031|   Passaic County|New Jersey|    518117.0|185.0|  2801.0| 2018|\n",
      "|          10132017|BlueOptions16842F...|        12031|     Duval County|   Florida|    999935.0|774.0|  1292.0| 2017|\n",
      "|         101982018|New Jersey - Medi...|        34003|    Bergen County|New Jersey|    953819.0|234.0|  4076.0| 2018|\n",
      "|         102012017|New Jersey - Medi...|        34021|    Mercer County|New Jersey|    385898.0|226.0|  1708.0| 2017|\n",
      "+------------------+--------------------+-------------+-----------------+----------+------------+-----+--------+-----+\n",
      "only showing top 5 rows\n",
      "\n"
     ]
    }
   ],
   "source": [
    "areas.show(5)"
   ]
  },
  {
   "cell_type": "markdown",
   "metadata": {
    "id": "Q_aZvenTPn3U"
   },
   "source": [
    "Como puede observar "
   ]
  },
  {
   "cell_type": "code",
   "execution_count": 63,
   "metadata": {
    "id": "lLV_ItLhPn3U",
    "outputId": "db9438a4-0a6d-4809-ea99-752add60ad64"
   },
   "outputs": [
    {
     "data": {
      "text/plain": [
       "StructType(List(StructField(IdAreaDeServicio_T,IntegerType,true),StructField(NombreAreaDeServicio,StringType,true),StructField(IdGeografia_T,IntegerType,true),StructField(Condado,StringType,true),StructField(Estado,StringType,true),StructField(PoblacionAct,DoubleType,true),StructField(Area,DoubleType,true),StructField(Densidad,DoubleType,true),StructField(Fecha,IntegerType,true)))"
      ]
     },
     "execution_count": 63,
     "metadata": {},
     "output_type": "execute_result"
    }
   ],
   "source": [
    "areas.schema"
   ]
  },
  {
   "cell_type": "markdown",
   "metadata": {
    "id": "seP-zo8JPn3U"
   },
   "source": [
    "Por otra parte, en lo"
   ]
  },
  {
   "cell_type": "markdown",
   "metadata": {
    "id": "uw09BODdPn3V"
   },
   "source": [
    "Una vez entendida en términos generales la estructura de los datos, es necesario conocer la cantidad de datos disponibles, esto se hace con count() y con columns, que retornan el número de filas y número de columnas respectivamente."
   ]
  },
  {
   "cell_type": "code",
   "execution_count": 64,
   "metadata": {
    "id": "g0Lvl535Pn3V",
    "outputId": "6fb3f30d-2179-4d50-ddd5-4880e28673d8"
   },
   "outputs": [
    {
     "name": "stdout",
     "output_type": "stream",
     "text": [
      "(188815, 9)\n"
     ]
    }
   ],
   "source": [
    "print((areas.count(), len(areas.columns)))"
   ]
  },
  {
   "cell_type": "markdown",
   "metadata": {
    "id": "kqwEyUFpPn3V"
   },
   "source": [
    "**¿Cuantos datos nos compartieron para el proyecto?**\n",
    "En total tenemos 188815 instancias de Fuentes de areas de servicio en un total de 9 variables a revisar de las cuales 1 es un ID que identifica el tipo de servicio y 8 variables que muestran información sobre la ubicación de las áreas y fechas."
   ]
  },
  {
   "cell_type": "markdown",
   "metadata": {
    "id": "GnAScmClPn3W"
   },
   "source": [
    "### Revisión de reglas de negocio \n",
    "\n",
    "Primero se confirman las reglas proporcionadas por el negocio, la primera que asegura que existen información desde 2017 al 2019"
   ]
  },
  {
   "cell_type": "code",
   "execution_count": 71,
   "metadata": {},
   "outputs": [
    {
     "name": "stdout",
     "output_type": "stream",
     "text": [
      "+----------+\n",
      "|max(Fecha)|\n",
      "+----------+\n",
      "|      2018|\n",
      "+----------+\n",
      "\n",
      "+----------+\n",
      "|min(Fecha)|\n",
      "+----------+\n",
      "|      1800|\n",
      "+----------+\n",
      "\n"
     ]
    }
   ],
   "source": [
    "areas.agg({\"Fecha\": \"max\"}).show()\n",
    "areas.agg({\"Fecha\": \"min\"}).show()"
   ]
  },
  {
   "cell_type": "markdown",
   "metadata": {},
   "source": [
    "Se observa que el periodo de años de la tabla de Areas de Servicio está entre 1800 y 2018 - No corresponde a lo definido por el cliente"
   ]
  },
  {
   "cell_type": "markdown",
   "metadata": {},
   "source": [
    "La siguiente regla asegura que las ***areas de servicio se distribuyen por todo el país***. Para este caso:"
   ]
  },
  {
   "cell_type": "code",
   "execution_count": 78,
   "metadata": {},
   "outputs": [
    {
     "name": "stdout",
     "output_type": "stream",
     "text": [
      "El número de estados donde se encuentran las áreas de servicio son: 35\n",
      "+--------------+\n",
      "|        Estado|\n",
      "+--------------+\n",
      "|        Hawaii|\n",
      "|          Ohio|\n",
      "|        Oregon|\n",
      "|      Arkansas|\n",
      "|         Texas|\n",
      "|  North Dakota|\n",
      "|  Pennsylvania|\n",
      "|      Illinois|\n",
      "|      Oklahoma|\n",
      "|      Delaware|\n",
      "|        Alaska|\n",
      "|    New Mexico|\n",
      "| West Virginia|\n",
      "|      Missouri|\n",
      "|       Georgia|\n",
      "|       Montana|\n",
      "|      Virginia|\n",
      "|      Michigan|\n",
      "|North Carolina|\n",
      "|       Wyoming|\n",
      "|        Kansas|\n",
      "|    New Jersey|\n",
      "|       Alabama|\n",
      "|       Arizona|\n",
      "|      Kentucky|\n",
      "|     Louisiana|\n",
      "|   Mississippi|\n",
      "| New Hampshire|\n",
      "|     Tennessee|\n",
      "|       Florida|\n",
      "|       Indiana|\n",
      "|South Carolina|\n",
      "|  South Dakota|\n",
      "|     Wisconsin|\n",
      "|         Maine|\n",
      "+--------------+\n",
      "\n"
     ]
    }
   ],
   "source": [
    "estados = areas.select(\"Estado\").distinct()\n",
    "num_estados = estados.count()\n",
    "print(f\"El número de estados donde se encuentran las áreas de servicio son: {num_estados}\")\n",
    "estados.show(35)"
   ]
  },
  {
   "cell_type": "code",
   "execution_count": 79,
   "metadata": {},
   "outputs": [
    {
     "name": "stdout",
     "output_type": "stream",
     "text": [
      "El número de condados donde se encuentran las áreas de servicio son: 1398\n",
      "+------------+\n",
      "|      Estado|\n",
      "+------------+\n",
      "|      Hawaii|\n",
      "|        Ohio|\n",
      "|      Oregon|\n",
      "|    Arkansas|\n",
      "|       Texas|\n",
      "|North Dakota|\n",
      "|Pennsylvania|\n",
      "|    Illinois|\n",
      "|    Oklahoma|\n",
      "|    Delaware|\n",
      "+------------+\n",
      "only showing top 10 rows\n",
      "\n"
     ]
    }
   ],
   "source": [
    "condados = areas.select(\"Condado\").distinct()\n",
    "num_condados = condados.count()\n",
    "print(f\"El número de condados donde se encuentran las áreas de servicio son: {num_condados}\")\n",
    "estados.show(10)"
   ]
  },
  {
   "cell_type": "markdown",
   "metadata": {},
   "source": [
    "Como resultado se observa que se definen áreas de servicio solo para ***35 estados*** y ***1398*** condados"
   ]
  },
  {
   "cell_type": "code",
   "execution_count": 83,
   "metadata": {
    "id": "ssjlV5xbPn3W",
    "outputId": "2ab69e67-fcc0-42c0-bf32-425d65c5118b"
   },
   "outputs": [
    {
     "name": "stdout",
     "output_type": "stream",
     "text": [
      "+--------------------+-----+\n",
      "|             Condado|count|\n",
      "+--------------------+-----+\n",
      "|         Owen County|    2|\n",
      "|   Williamson County|    3|\n",
      "|Lewis and Clark C...|    1|\n",
      "|     Canadian County|    1|\n",
      "|     McLennan County|    1|\n",
      "|         Rock County|    1|\n",
      "|       Unicoi County|    1|\n",
      "|     Woodward County|    1|\n",
      "|   Cumberland County|    8|\n",
      "|      Webster County|    5|\n",
      "|     Muskegon County|    1|\n",
      "|    Hempstead County|    1|\n",
      "|      Wexford County|    1|\n",
      "|      Kingman County|    1|\n",
      "|         Cole County|    1|\n",
      "|      Rosebud County|    1|\n",
      "|       DuPage County|    1|\n",
      "|      El Paso County|    1|\n",
      "|    Robertson County|    2|\n",
      "|     Montcalm County|    1|\n",
      "+--------------------+-----+\n",
      "only showing top 20 rows\n",
      "\n"
     ]
    }
   ],
   "source": [
    "descripcion = areas.select(\"Condado\", \"Estado\").distinct().groupBy(\"Condado\").count()\n",
    "descripcion.show()"
   ]
  },
  {
   "cell_type": "code",
   "execution_count": 39,
   "metadata": {},
   "outputs": [
    {
     "name": "stdout",
     "output_type": "stream",
     "text": [
      "+--------------------+\n",
      "|         Descripcion|\n",
      "+--------------------+\n",
      "|No Charge after d...|\n",
      "|Coinsurance after...|\n",
      "|         Coinsurance|\n",
      "|      Not Applicable|\n",
      "+--------------------+\n",
      "\n"
     ]
    }
   ],
   "source": [
    "fuentes.select(\"Descripcion\").where(fuentes[\"Tipo\"]==\"Coseguro\").distinct().show()"
   ]
  },
  {
   "cell_type": "code",
   "execution_count": 43,
   "metadata": {},
   "outputs": [
    {
     "name": "stdout",
     "output_type": "stream",
     "text": [
      "+--------------+\n",
      "|   Descripcion|\n",
      "+--------------+\n",
      "|Copay per Stay|\n",
      "+--------------+\n",
      "\n",
      "+---------------------+\n",
      "|IdCondicionesDePago_T|\n",
      "+---------------------+\n",
      "|                  221|\n",
      "+---------------------+\n",
      "\n"
     ]
    }
   ],
   "source": [
    "fuentes.select(\"Descripcion\").where(fuentes[\"Tipo\"]==\"NaN\").distinct().show()\n",
    "fuentes.select(\"IdCondicionesDePago_T\").where(fuentes[\"Tipo\"]==\"NaN\").distinct().show()"
   ]
  },
  {
   "cell_type": "markdown",
   "metadata": {
    "id": "M48A5DanPn3X"
   },
   "source": [
    "Existe un caso de tipo Nan que corresponde a la descripción ***Copay per Stay*** con ID de condiciones ***221***. Este caso puede ser planteado al cliente para indagar si se trata de un error y corresponde a la categoria Copago - lo que podrian completar las 15 condiciones expuestas por el cliente"
   ]
  },
  {
   "cell_type": "markdown",
   "metadata": {
    "id": "55FLtckZPn3W"
   },
   "source": [
    "Como resultado de la comprobación de la regla de negocio: ***Existen 15 y 5 diferentes condiciones de copago y coseguro respectivamente*** se encuentra que existen diferencias entre lo reportado por el negocio y lo entregado en la tabla. En Copagos se podrían considerar 14 tipos y en Coseguros se encuentran 4 tipos, aunque puede tratarse de un error de asignación de categorias y no de faltantes en la base de datos"
   ]
  },
  {
   "cell_type": "markdown",
   "metadata": {
    "id": "UuZspay3Pn3Z"
   },
   "source": [
    "### Análisis descriptivo\n",
    "Una vez cubierto lo básico de reglas de negocio, pasamos a perfilamiento estadístico. Para ver estadisticos generales como conteo, mínimo, máximo, desviación estandar y percentiles utilice summary()"
   ]
  },
  {
   "cell_type": "code",
   "execution_count": 44,
   "metadata": {
    "id": "TkWrIdDhPn3Z",
    "outputId": "7d37ef91-452e-49d9-8282-f1676c2b5ea9"
   },
   "outputs": [
    {
     "name": "stdout",
     "output_type": "stream",
     "text": [
      "+-------+---------------------+--------------+-------------+\n",
      "|summary|IdCondicionesDePago_T|   Descripcion|         Tipo|\n",
      "+-------+---------------------+--------------+-------------+\n",
      "|  count|                   31|            31|           31|\n",
      "|   mean|   152.16129032258064|          null|          NaN|\n",
      "| stddev|   161.75312398306122|          null|          NaN|\n",
      "|    min|                    9|   Coinsurance|     Copagado|\n",
      "|    25%|                   45|          null|          NaN|\n",
      "|    50%|                  119|          null|          NaN|\n",
      "|    75%|                  204|          null|          NaN|\n",
      "|    max|                  714|Not Applicable|SinTipoCopago|\n",
      "+-------+---------------------+--------------+-------------+\n",
      "\n"
     ]
    }
   ],
   "source": [
    "fuentes.summary().show()"
   ]
  },
  {
   "cell_type": "code",
   "execution_count": 54,
   "metadata": {
    "id": "jTU_GHMIPn3e",
    "outputId": "d5c71e84-8815-4723-c916-d9b7ee138952"
   },
   "outputs": [
    {
     "name": "stdout",
     "output_type": "stream",
     "text": [
      "+--------------------+--------+------+-----------+--------+----+-------------+\n",
      "|         Descripcion|Copagado|Copago|Coseguridad|Coseguro| NaN|SinTipoCopago|\n",
      "+--------------------+--------+------+-----------+--------+----+-------------+\n",
      "|      Copay per Stay|    null|     1|       null|    null|   2|         null|\n",
      "|No Charge after d...|    null|     2|       null|       1|null|         null|\n",
      "|Coinsurance after...|    null|  null|       null|       2|null|         null|\n",
      "|           No Charge|    null|     2|          1|    null|null|         null|\n",
      "|Copay before dedu...|    null|     1|       null|    null|null|         null|\n",
      "|Copay per Stay wi...|    null|     1|       null|    null|null|         null|\n",
      "|Copay per Stay af...|    null|     2|       null|    null|null|            1|\n",
      "|Copay per Day aft...|    null|     1|       null|    null|null|         null|\n",
      "|Copay with deduct...|    null|     1|       null|    null|null|         null|\n",
      "|         Coinsurance|    null|  null|       null|       3|null|         null|\n",
      "|Copay after deduc...|    null|     1|       null|    null|null|         null|\n",
      "|Copay per Day bef...|    null|     1|       null|    null|null|         null|\n",
      "|Copay per Stay be...|    null|     1|       null|    null|null|         null|\n",
      "|Copay per Day wit...|    null|     2|       null|    null|null|         null|\n",
      "|               Copay|    null|     2|       null|    null|null|         null|\n",
      "|       Copay per Day|    null|     1|       null|    null|null|         null|\n",
      "|      Not Applicable|       1|  null|       null|       1|null|         null|\n",
      "+--------------------+--------+------+-----------+--------+----+-------------+\n",
      "\n"
     ]
    }
   ],
   "source": [
    "fuentes.groupBy('Descripcion').pivot('Tipo').count().show()"
   ]
  },
  {
   "cell_type": "markdown",
   "metadata": {
    "id": "0zEoTVtOPn3Z"
   },
   "source": [
    "En las estadísticas anteriores ve"
   ]
  },
  {
   "cell_type": "markdown",
   "metadata": {
    "id": "K5ZlLb22Pn3a"
   },
   "source": [
    "En las estadíticas de orden podemos observar que el valor promedio de precio unitario es 44.54, la cantidad promedio es 213 unidades y el promedio de cantidad seleccionada es 39.74\n"
   ]
  },
  {
   "cell_type": "code",
   "execution_count": 49,
   "metadata": {
    "id": "dn8Ez79LPn3a",
    "outputId": "4fdf9370-9987-46a8-80c0-8b4c79655534"
   },
   "outputs": [
    {
     "data": {
      "text/plain": [
       "([0, 1, 2, 3, 4, 5],\n",
       " [Text(0, 0, ''),\n",
       "  Text(0, 0, ''),\n",
       "  Text(0, 0, ''),\n",
       "  Text(0, 0, ''),\n",
       "  Text(0, 0, ''),\n",
       "  Text(0, 0, '')])"
      ]
     },
     "execution_count": 49,
     "metadata": {},
     "output_type": "execute_result"
    },
    {
     "data": {
      "image/png": "[encoded data removed]",
      "text/plain": [
       "<Figure size 432x288 with 1 Axes>"
      ]
     },
     "metadata": {
      "needs_background": "light"
     },
     "output_type": "display_data"
    }
   ],
   "source": [
    "%matplotlib inline\n",
    "import matplotlib.pyplot as plt\n",
    "\n",
    "fig1, ax1 = plt.subplots()\n",
    "ax1.set_title('Tipo Fuentes Condiciones de Pago')\n",
    "ax1.hist(np.array(fuentes.select('Tipo').collect()))\n",
    "plt.xticks(rotation=90)"
   ]
  },
  {
   "cell_type": "markdown",
   "metadata": {
    "id": "c0_4fokYPn3a"
   },
   "source": [
    "El análisis anterior es muy útil para variables de tipo numérico, sin embargo es incompleto para las variables de tipo caracter o las variables categoricas, por ende es necesario implementar nuestro propio código par obtener estadisticos como la moda y la mediana. A continuación obtenemos la moda para la variable Descripcion:"
   ]
  },
  {
   "cell_type": "markdown",
   "metadata": {
    "id": "9bG1x9gWPn3b",
    "tags": []
   },
   "source": [
    "## Análisis de calidad de datos\n",
    "La calidad de los datos consiste en validar la idoneidad de los datos analizando varias dimensiones, entre las cuales resaltamos:\n",
    "- Completitud: Datos que no existen o no se conocen\n",
    "- Unicidad (Duplicidad): Datos que son idénticos en diferentes registros o registros con valores idénticos en atributos en los que no debería ocurrir\n",
    "- Consistencia: Esta medida se define por la validez o integridad del dato, en la definición de su estructura, al interior de una fila o entre diferentes filas de la misma fuente o de diferentes fuentes. El manejo de unidades en los datos y el significado del dato son generadores de inconsistencias.\n",
    "- Validez: a nivel de formato y de sentido de los datos más alla de sus valores\n",
    "\n",
    "Para asegurar una calidad mínima de los datos en estas dimensiones hay que entender su origen y posteriormente realizar un proceso de validación de cada una de las dimensiones de perfilamiento que llevará a un entendimiento de los datos disponibles.\n"
   ]
  },
  {
   "cell_type": "markdown",
   "metadata": {
    "id": "WKPFuI9uPn3b"
   },
   "source": [
    "A continuación se definen dos funciones, la primera cuenta los valores vacios por columna de dataframe, la segunda retorna un diccionario de columnas con cardinalidad superior al 50%\n",
    "\n",
    "Te invito a revisar los recursos de calidad de datos que hemos visto en el curso, a continuacion ejemplos daremos algunos ejemplos por cada dimensión para el caso del tutorial"
   ]
  },
  {
   "cell_type": "markdown",
   "metadata": {
    "id": "ZHLs1H0hPn3b"
   },
   "source": [
    "### Unicidad y validez\n",
    "\n",
    "La unicidad se revisó en la segunda regla de negocio y la validez se reviso en el perfilamiento general, en la regla de negocio 3 y en el análisis de la descripción al final de la sección de revisión de reglas de negocio"
   ]
  },
  {
   "cell_type": "markdown",
   "metadata": {
    "id": "QgkzeSm4Pn3b"
   },
   "source": [
    "### Completitud y validez"
   ]
  },
  {
   "cell_type": "code",
   "execution_count": 50,
   "metadata": {
    "id": "mIWH-vVoPn3b"
   },
   "outputs": [],
   "source": [
    "def contar_vacios(df):\n",
    "    resultados = []\n",
    "    for c in df.columns:\n",
    "        vacios_1 = df.filter(df[c].isNull()).count()\n",
    "        vacios_2 = df.filter(df[c] == \"NaN\").count()\n",
    "        vacios = vacios_1 + vacios_2\n",
    "        if vacios!=0:\n",
    "            print('número de vacíos para columna '+c+': '+str( vacios ))\n",
    "            resultados.append(vacios)\n",
    "    return resultados\n",
    "\n",
    "def cardinalidad(df):\n",
    "    resultado = {}\n",
    "    for c in df.columns:\n",
    "        cardinalidad = df.select(col(c)).distinct().count()\n",
    "        if cardinalidad>=df.count()*0.5:\n",
    "            resultado[c] = cardinalidad\n",
    "    return resultado"
   ]
  },
  {
   "cell_type": "code",
   "execution_count": 52,
   "metadata": {
    "id": "da_z_ti-Pn3b",
    "outputId": "ecac9b39-d97a-422a-a579-698c5733ab7b"
   },
   "outputs": [
    {
     "name": "stdout",
     "output_type": "stream",
     "text": [
      "número de vacíos para columna Tipo: 2\n"
     ]
    }
   ],
   "source": [
    "columnas_vacias_ordenes = contar_vacios(fuentes)"
   ]
  },
  {
   "cell_type": "code",
   "execution_count": 53,
   "metadata": {
    "id": "NxXQm_KEPn3c",
    "outputId": "419b9709-25fe-43dd-d63a-a9be645d11f7"
   },
   "outputs": [],
   "source": [
    "columnas_alta_cardinalidad = cardinalidad(fuentes)"
   ]
  },
  {
   "cell_type": "markdown",
   "metadata": {
    "id": "qxN27II0Pn3T"
   },
   "source": [
    "### Entendimiento general de datos \"Planes Beneficio\""
   ]
  },
  {
   "cell_type": "code",
   "execution_count": 84,
   "metadata": {
    "id": "xMaQViPnPn3S",
    "tags": []
   },
   "outputs": [],
   "source": [
    "sql_fuentes = 'FuentePlanesBeneficio_Copia_E'"
   ]
  },
  {
   "cell_type": "code",
   "execution_count": 86,
   "metadata": {
    "id": "Ajy_XMshPn3T",
    "tags": []
   },
   "outputs": [
    {
     "name": "stdout",
     "output_type": "stream",
     "text": [
      "+-----------------+------------------+-------------------------+---------------------------+-----------------+-----------------+----------+-------------+-----------+-------------+--------------+\n",
      "|IdTipoBeneficio_T|IdAreaDeServicio_T|IdCondicionDePagoCopago_T|IdCondicionDePagoCoseguro_T|IdNivelServicio_T|         IdPlan_T|     Fecha|IdProveedor_T|valorCopago|valorCoseguro|cantidadLimite|\n",
      "+-----------------+------------------+-------------------------+---------------------------+-----------------+-----------------+----------+-------------+-----------+-------------+--------------+\n",
      "|              640|          10382017|                       34|                         27|                3|16842FL0070128-03|2017-12-31|        16842|          0|           50|            35|\n",
      "|              225|          31512017|                      238|                         45|                2|29418TX0140002-04|2017-12-31|        29418|          0|            0|          null|\n",
      "|              190|          66252017|                      238|                         45|                1|52697WI0010002-00|2017-12-31|        52697|          0|            0|          null|\n",
      "|              620|          49492017|                       34|                         45|                3|38166WI0180012-06|2017-12-31|        38166|          0|          100|          null|\n",
      "|              795|          37872017|                       34|                         45|                3|33602TX0460322-03|2017-12-31|        33602|          0|          100|          null|\n",
      "|              450|          46922017|                      238|                         45|                1|37833WI0540010-01|2017-12-31|        37833|          0|            0|          null|\n",
      "|              250|          19802017|                       34|                         18|                3|21663FL0130009-01|2017-12-31|        21663|          0|            0|          null|\n",
      "|               80|          46912018|                      238|                         45|                1|37833WI0540010-01|2018-12-31|        37833|          0|            0|          null|\n",
      "|               80|          72032017|                      238|                         45|                1|56503FL2570001-04|2017-12-31|        56503|          0|            0|          null|\n",
      "|              165|          44812017|                      238|                         45|                3|36239KY1130005-05|2017-12-31|        36239|          0|            0|          null|\n",
      "|              225|          95592017|                      238|                         45|                3|87571OK0350035-02|2017-12-31|        87571|          0|            0|          null|\n",
      "|              335|          72002017|                      238|                         45|                3|56503FL2570001-04|2017-12-31|        56503|          0|            0|          null|\n",
      "|              825|         109612017|                       34|                         45|                3|96667ME0260012-03|2017-12-31|        96667|          0|          100|             1|\n",
      "|              480|          59132018|                       34|                         45|                3|41921VA0020003-03|2018-12-31|        41921|          0|          100|          null|\n",
      "|              645|         102702018|                       34|                         45|                3|91661NJ2340003-05|2018-12-31|        91661|          0|          100|          null|\n",
      "|              190|          52082017|                      238|                         45|                2|40047MI0070001-00|2017-12-31|        40047|          0|            0|          null|\n",
      "|              900|          67552018|                      238|                         45|                2|53901AZ1420020-00|2018-12-31|        53901|          0|            0|          null|\n",
      "|              750|         102402017|                      153|                         36|                1|91661NJ2340003-05|2017-12-31|        91661|          5|            0|          null|\n",
      "|              350|          65842017|                       34|                         27|                1|49046GA0420043-01|2017-12-31|        49046|          0|           30|           120|\n",
      "|              400|          38522017|                      238|                         45|                3|33602TX0770078-02|2017-12-31|        33602|          0|            0|          null|\n",
      "+-----------------+------------------+-------------------------+---------------------------+-----------------+-----------------+----------+-------------+-----------+-------------+--------------+\n",
      "only showing top 20 rows\n",
      "\n"
     ]
    }
   ],
   "source": [
    "#Se cargan los dataframes desde la base de datos\n",
    "df_spark = obtener_dataframe_de_bd(db_connection_string, sql_fuentes, db_user, db_psswd)\n",
    "df_spark.show()"
   ]
  },
  {
   "cell_type": "code",
   "execution_count": 114,
   "metadata": {},
   "outputs": [
    {
     "data": {
      "text/plain": [
       "StructType(List(StructField(IdTipoBeneficio_T,LongType,true),StructField(IdAreaDeServicio_T,LongType,true),StructField(IdCondicionDePagoCopago_T,IntegerType,true),StructField(IdCondicionDePagoCoseguro_T,IntegerType,true),StructField(IdNivelServicio_T,IntegerType,true),StructField(IdPlan_T,StringType,true),StructField(Fecha,StringType,true),StructField(IdProveedor_T,IntegerType,true),StructField(valorCopago,IntegerType,true),StructField(valorCoseguro,IntegerType,true),StructField(cantidadLimite,IntegerType,true)))"
      ]
     },
     "execution_count": 114,
     "metadata": {},
     "output_type": "execute_result"
    }
   ],
   "source": [
    "df_spark.schema"
   ]
  },
  {
   "cell_type": "code",
   "execution_count": 116,
   "metadata": {},
   "outputs": [
    {
     "name": "stdout",
     "output_type": "stream",
     "text": [
      "(36036, 11)\n"
     ]
    }
   ],
   "source": [
    "print((df_spark.count(), len(df_spark.columns)))"
   ]
  },
  {
   "cell_type": "markdown",
   "metadata": {},
   "source": [
    "La tabla Planes Beneficio se compone de 11 columnas y 36036 instancias. "
   ]
  },
  {
   "cell_type": "code",
   "execution_count": 118,
   "metadata": {},
   "outputs": [
    {
     "name": "stdout",
     "output_type": "stream",
     "text": [
      "Número de datos distintos en columna IdTipoBeneficio_T es 286\n",
      "Número de datos distintos en columna IdAreaDeServicio_T es 6497\n",
      "Número de datos distintos en columna IdCondicionDePagoCopago_T es 14\n",
      "Número de datos distintos en columna IdCondicionDePagoCoseguro_T es 5\n",
      "Número de datos distintos en columna IdNivelServicio_T es 3\n",
      "Número de datos distintos en columna IdPlan_T es 393\n",
      "Número de datos distintos en columna Fecha es 5\n",
      "Número de datos distintos en columna IdProveedor_T es 125\n",
      "Número de datos distintos en columna valorCopago es 49\n",
      "Número de datos distintos en columna valorCoseguro es 25\n",
      "Número de datos distintos en columna cantidadLimite es 42\n"
     ]
    }
   ],
   "source": [
    "for column in df_spark.columns:\n",
    "    numero = df_spark.select(column).distinct().count()\n",
    "    print(f\"Número de datos distintos en columna {column} es {numero}\")"
   ]
  },
  {
   "cell_type": "code",
   "execution_count": 88,
   "metadata": {},
   "outputs": [
    {
     "name": "stdout",
     "output_type": "stream",
     "text": [
      "Número de filas: 36036\n",
      "Número de filas distintas: 27543\n"
     ]
    }
   ],
   "source": [
    "print('Número de filas: {0}'.format(df_spark.count()))\n",
    "print('Número de filas distintas: {0}'.format(df_spark.distinct().count()))"
   ]
  },
  {
   "cell_type": "code",
   "execution_count": 89,
   "metadata": {},
   "outputs": [],
   "source": [
    "df = df_spark.dropDuplicates()"
   ]
  },
  {
   "cell_type": "code",
   "execution_count": 90,
   "metadata": {},
   "outputs": [
    {
     "name": "stdout",
     "output_type": "stream",
     "text": [
      "COnteo: 27498\n"
     ]
    }
   ],
   "source": [
    "print('COnteo: {0}'.format(df.select([c for c in df.columns if c != 'IdPlan_T']).distinct().count()))\n",
    "#Como hay 27,543 filas, quiere decir que sí hay filas con ids diferentes que tienen la misma información en la fila"
   ]
  },
  {
   "cell_type": "code",
   "execution_count": 91,
   "metadata": {},
   "outputs": [],
   "source": [
    "df = df.dropDuplicates(subset = [c for c in df.columns if c != 'IdPlan_T'])"
   ]
  },
  {
   "cell_type": "code",
   "execution_count": 93,
   "metadata": {},
   "outputs": [],
   "source": [
    "import pyspark.sql.functions as fn"
   ]
  },
  {
   "cell_type": "code",
   "execution_count": 94,
   "metadata": {},
   "outputs": [
    {
     "name": "stdout",
     "output_type": "stream",
     "text": [
      "+------+---------+\n",
      "|conteo|distintos|\n",
      "+------+---------+\n",
      "| 27498|      393|\n",
      "+------+---------+\n",
      "\n"
     ]
    }
   ],
   "source": [
    "df.agg(\n",
    "    fn.count('IdPlan_T').alias('conteo'),\n",
    "    fn.countDistinct('IdPlan_T').alias('distintos')\n",
    ").show()"
   ]
  },
  {
   "cell_type": "markdown",
   "metadata": {
    "id": "qxN27II0Pn3T"
   },
   "source": [
    "### Entendimiento general de datos \"Fuente Tipo Beneficio\""
   ]
  },
  {
   "cell_type": "markdown",
   "metadata": {},
   "source": [
    "#### Cargue de datos"
   ]
  },
  {
   "cell_type": "code",
   "execution_count": 95,
   "metadata": {
    "tags": []
   },
   "outputs": [],
   "source": [
    "sql_Tbeneficios = 'RaSaTransaccional.FuenteTiposBeneficio_Copia_E'"
   ]
  },
  {
   "cell_type": "code",
   "execution_count": 96,
   "metadata": {
    "tags": []
   },
   "outputs": [],
   "source": [
    "#Se cargan los dataframes desde la base de datos\n",
    "Tbeneficios = obtener_dataframe_de_bd(db_connection_string, sql_Tbeneficios, db_user, db_psswd)"
   ]
  },
  {
   "cell_type": "markdown",
   "metadata": {
    "tags": []
   },
   "source": [
    "### Entendimiento general de datos"
   ]
  },
  {
   "cell_type": "code",
   "execution_count": 97,
   "metadata": {
    "tags": []
   },
   "outputs": [
    {
     "name": "stdout",
     "output_type": "stream",
     "text": [
      "+-----------------+--------------------+--------------------+-----+---------------------+-----------------------+----------------------------------------+---------------------------------------+-----+\n",
      "|IdTipoBeneficio_T|              Nombre|     UnidadDelLimite|EsEHB|EstaCubiertaPorSeguro|TieneLimiteCuantitativo|ExcluidoDelDesembolsoMaximoDentroDeLaRed|ExcluidoDelDesembolsoMaximoFueraDeLaRed|Fecha|\n",
      "+-----------------+--------------------+--------------------+-----+---------------------+-----------------------+----------------------------------------+---------------------------------------+-----+\n",
      "|              565|Nutritional Couns...|                    |   No|                  Yes|                     No|                                      No|                                    Yes| 2017|\n",
      "|              795|Rehabilitative Sp...|Days per Benefit ...|  Yes|                  Yes|                    Yes|                                      No|                                    Yes| 2017|\n",
      "|              200| Denture Adjustments|                    |   No|                  Yes|                     No|                                      No|                                    Yes| 2017|\n",
      "|              335|        Hearing Aids| Item(s) per 3 Years|  Yes|                  Yes|                    Yes|                                      No|                                    Yes| 2017|\n",
      "|              570|Occlusal Adjustments|Procedure(s) per ...|   No|                  Yes|                    Yes|                                      No|                                    Yes| 2017|\n",
      "+-----------------+--------------------+--------------------+-----+---------------------+-----------------------+----------------------------------------+---------------------------------------+-----+\n",
      "only showing top 5 rows\n",
      "\n"
     ]
    }
   ],
   "source": [
    "Tbeneficios.show(5)"
   ]
  },
  {
   "cell_type": "code",
   "execution_count": 100,
   "metadata": {
    "tags": []
   },
   "outputs": [
    {
     "data": {
      "text/plain": [
       "StructType(List(StructField(IdTipoBeneficio_T,IntegerType,true),StructField(Nombre,StringType,true),StructField(UnidadDelLimite,StringType,true),StructField(EsEHB,StringType,true),StructField(EstaCubiertaPorSeguro,StringType,true),StructField(TieneLimiteCuantitativo,StringType,true),StructField(ExcluidoDelDesembolsoMaximoDentroDeLaRed,StringType,true),StructField(ExcluidoDelDesembolsoMaximoFueraDeLaRed,StringType,true),StructField(Fecha,IntegerType,true)))"
      ]
     },
     "execution_count": 100,
     "metadata": {},
     "output_type": "execute_result"
    }
   ],
   "source": [
    "Tbeneficios.schema"
   ]
  },
  {
   "cell_type": "markdown",
   "metadata": {
    "tags": []
   },
   "source": [
    "En esta tabla se encuentra informacion escencial del cliente en cuanto a tipos de beneficio se refiere, donde encontramos informacion acerca del nombre id tipo beneficio, si se encuetra cubierta por seguros o no, si tiene limitaciones cantitativas ademas de exclusiones dentro y fuera de la red ademas del año en un formato YYYY"
   ]
  },
  {
   "cell_type": "markdown",
   "metadata": {},
   "source": [
    "**IdTipoBeneficio_T**= identificacion del tipo de beneficio\n",
    "\n",
    "**Nombre**= nombre del cliente del beneficio\n",
    "\n",
    "**UnidadDelLimite**= cada registro representa el límite o la frecuencia con la que se puede acceder a un beneficio en un período de tiempo dado o bajo ciertas condiciones.\n",
    "\n",
    "**EsEHB**= del inglés \"EssentialHealthBenefits\" si el beneficio es obligatorio por el estado o si es un beneficio esencial\n",
    "\n",
    "**EstaCubiertaPorSeguro**= si en ese año el beneficio era obligatorio o no por el estado\n",
    "\n",
    "**TieneLimiteCuantitativo**= Indica si se cuenta con un límite \n",
    "\n",
    "**ExcluidoDelDesembolsoMaximoDentroDeLaRed**= Indica Excluido del desembolso dentro de la Red\n",
    "\n",
    "**ExcluidoDelDesembolsoMaximoFueraDeLaRed**= Indica Excluido del desembolso fuera de la Red\n",
    "\n",
    "**Fecha**= Fecha en la que se define el tipo de beneficio"
   ]
  },
  {
   "cell_type": "code",
   "execution_count": 101,
   "metadata": {
    "tags": []
   },
   "outputs": [
    {
     "name": "stdout",
     "output_type": "stream",
     "text": [
      "(849, 9)\n"
     ]
    }
   ],
   "source": [
    "print((Tbeneficios.count(), len(Tbeneficios.columns)))"
   ]
  },
  {
   "cell_type": "markdown",
   "metadata": {
    "tags": []
   },
   "source": [
    "**¿Cuantos datos nos compartieron para el proyecto?**\n",
    "En total tenemos 849 tipos de beneficio y tenemos en total 9 variables a revisar de las cuales 2 son nùmericas y las demás son cadenas de caracteres."
   ]
  },
  {
   "cell_type": "markdown",
   "metadata": {},
   "source": [
    "## Estadísticas descriptivas por columna"
   ]
  },
  {
   "cell_type": "code",
   "execution_count": 102,
   "metadata": {
    "tags": []
   },
   "outputs": [
    {
     "name": "stdout",
     "output_type": "stream",
     "text": [
      "Duplicados en IdTipoBeneficio_T:\n",
      "+-----------------+-----+\n",
      "|IdTipoBeneficio_T|count|\n",
      "+-----------------+-----+\n",
      "|              540|    5|\n",
      "|               85|   13|\n",
      "|              580|    2|\n",
      "|               65|    2|\n",
      "|              255|    3|\n",
      "|              970|    3|\n",
      "|              375|    2|\n",
      "|              115|    2|\n",
      "|              830|   19|\n",
      "|             1030|   14|\n",
      "|              460|    4|\n",
      "|              350|   11|\n",
      "|              860|    2|\n",
      "|              875|    2|\n",
      "|              330|   14|\n",
      "|              625|    5|\n",
      "|              190|   29|\n",
      "|              225|    2|\n",
      "|              360|    9|\n",
      "|              725|    8|\n",
      "+-----------------+-----+\n",
      "only showing top 20 rows\n",
      "\n",
      "\n",
      "Duplicados en Nombre:\n",
      "+--------------------+-----+\n",
      "|              Nombre|count|\n",
      "+--------------------+-----+\n",
      "|Eye Refractive Su...|    2|\n",
      "| Orthodontia - Adult|    6|\n",
      "|Prenatal and Post...|    2|\n",
      "|Human Leukocyte A...|    2|\n",
      "|Outpatient Observ...|    2|\n",
      "|Primary Care Visi...|    2|\n",
      "|Post-cochlear imp...|    2|\n",
      "|Family Planning S...|    2|\n",
      "|   Cancer Treatments|    2|\n",
      "|      Second Opinion|    2|\n",
      "|Nutritional Couns...|   17|\n",
      "|    Cosmetic Surgery|    7|\n",
      "|Abortion for Whic...|   12|\n",
      "| Mental Health Other|    4|\n",
      "|        Brain Injury|    3|\n",
      "|            Dialysis|    2|\n",
      "|          Anesthesia|    2|\n",
      "|         Acupuncture|    9|\n",
      "|Prescription Drug...|    8|\n",
      "|Dental Check-Up f...|   29|\n",
      "+--------------------+-----+\n",
      "only showing top 20 rows\n",
      "\n",
      "\n",
      "Duplicados en UnidadDelLimite:\n",
      "+--------------------+-----+\n",
      "|     UnidadDelLimite|count|\n",
      "+--------------------+-----+\n",
      "|   Visit(s) per year|    6|\n",
      "|Visit(s) per 3 Years|    2|\n",
      "|Item(s) per Benef...|    6|\n",
      "| Dollars per Episode|    2|\n",
      "|   Visit(s) per Year|   64|\n",
      "|Visit(s) per Year...|   11|\n",
      "|Months per Procedure|    3|\n",
      "|Months per Proced...|    3|\n",
      "|Visit(s) per 2 Ye...|    2|\n",
      "|Visit(s) per Bene...|    7|\n",
      "|       Days per Stay|    3|\n",
      "|      Hours per Year|    3|\n",
      "|Dollars per Benef...|    3|\n",
      "|    Item(s) per Year|   10|\n",
      "|Treatment(s) per ...|    3|\n",
      "|Days per Benefit ...|   13|\n",
      "|Procedure(s) per ...|    5|\n",
      "|Treatment(s) per ...|    4|\n",
      "|Procedure(s) per ...|    5|\n",
      "|Visit(s) per Episode|    2|\n",
      "+--------------------+-----+\n",
      "only showing top 20 rows\n",
      "\n"
     ]
    }
   ],
   "source": [
    "# Verificar duplicados en 'IdTipoBeneficio_T'\n",
    "duplicados_id = (\n",
    "    Tbeneficios.groupBy(\"IdTipoBeneficio_T\")\n",
    "    .count()\n",
    "    .filter(col(\"count\") > 1)\n",
    ")\n",
    "\n",
    "# Verificar duplicados en 'Nombre'\n",
    "duplicados_nombre = (\n",
    "    Tbeneficios.groupBy(\"Nombre\")\n",
    "    .count()\n",
    "    .filter(col(\"count\") > 1)\n",
    ")\n",
    "\n",
    "# Verificar duplicados en 'Nombre'\n",
    "duplicados_unidadDelLimite = (\n",
    "    Tbeneficios.groupBy(\"UnidadDelLimite\")\n",
    "    .count()\n",
    "    .filter(col(\"count\") > 1)\n",
    ")\n",
    "\n",
    "# Mostrar resultados\n",
    "print(\"Duplicados en IdTipoBeneficio_T:\")\n",
    "duplicados_id.show()\n",
    "\n",
    "print(\"\\nDuplicados en Nombre:\")\n",
    "duplicados_nombre.show()\n",
    "\n",
    "print(\"\\nDuplicados en UnidadDelLimite:\")\n",
    "duplicados_unidadDelLimite.show()"
   ]
  },
  {
   "cell_type": "markdown",
   "metadata": {
    "tags": []
   },
   "source": [
    "Se identica apoyado con **SQL workbench** que los id repetidos corresponden a un unico tipo de beneficio lo cual es un problema de unicidad, consistencia y validez de datos que se abordara mas adelante.\n",
    "\n",
    "Algunos de los hallazgos encontrados en estas tablas son:\n",
    "\n",
    "1. el id del '190'que corresponde al beneficio 'Dental Check-Up for Children' es el servicio mas usado '29'\n",
    "2. UnidadDelLimite que mas frecuente Visit(s) per Year\n"
   ]
  },
  {
   "cell_type": "code",
   "execution_count": 104,
   "metadata": {},
   "outputs": [
    {
     "name": "stdout",
     "output_type": "stream",
     "text": [
      "+--------------------+---+---+\n",
      "|              Column|Yes| No|\n",
      "+--------------------+---+---+\n",
      "|               EsEHB|430|399|\n",
      "|EstaCubiertaPorSe...|743| 98|\n",
      "|TieneLimiteCuanti...|271|542|\n",
      "|ExcluidoDelDesemb...| 60|787|\n",
      "|ExcluidoDelDesemb...|333|516|\n",
      "+--------------------+---+---+\n",
      "\n"
     ]
    },
    {
     "data": {
      "image/png": "[encoded data removed]",
      "text/plain": [
       "<Figure size 432x432 with 1 Axes>"
      ]
     },
     "metadata": {},
     "output_type": "display_data"
    },
    {
     "data": {
      "image/png": "[encoded data removed]",
      "text/plain": [
       "<Figure size 432x432 with 1 Axes>"
      ]
     },
     "metadata": {},
     "output_type": "display_data"
    },
    {
     "data": {
      "image/png": "[encoded data removed]",
      "text/plain": [
       "<Figure size 432x432 with 1 Axes>"
      ]
     },
     "metadata": {},
     "output_type": "display_data"
    },
    {
     "data": {
      "image/png": "[encoded data removed]",
      "text/plain": [
       "<Figure size 432x432 with 1 Axes>"
      ]
     },
     "metadata": {},
     "output_type": "display_data"
    },
    {
     "data": {
      "image/png": "[encoded data removed]",
      "text/plain": [
       "<Figure size 432x432 with 1 Axes>"
      ]
     },
     "metadata": {},
     "output_type": "display_data"
    }
   ],
   "source": [
    "import pandas as pd\n",
    "%matplotlib inline\n",
    "columns_to_count = [\n",
    "    \"EsEHB\", \n",
    "    \"EstaCubiertaPorSeguro\", \n",
    "    \"TieneLimiteCuantitativo\", \n",
    "    \"ExcluidoDelDesembolsoMaximoDentroDeLaRed\", \n",
    "    \"ExcluidoDelDesembolsoMaximoFueraDeLaRed\"\n",
    "]\n",
    "\n",
    "# Crear un DataFrame con las cuentas de \"Yes\" y \"No\" por cada columna\n",
    "yes_no_counts = []\n",
    "\n",
    "for col_name in columns_to_count:\n",
    "    yes_count = Tbeneficios.filter(col(col_name) == \"Yes\").count()\n",
    "    no_count = Tbeneficios.filter(col(col_name) == \"No\").count()\n",
    "    yes_no_counts.append((col_name, yes_count, no_count))\n",
    "\n",
    "# Convertir a un DataFrame con las columnas especificadas\n",
    "yes_no_df = spark.createDataFrame(yes_no_counts, [\"Column\", \"Yes\", \"No\"])\n",
    "\n",
    "# Mostrar el resultado\n",
    "yes_no_df.show()\n",
    "\n",
    "yes_no_df = pd.DataFrame(yes_no_counts, columns=[\"Column\", \"Yes\", \"No\"])\n",
    "for index, row in yes_no_df.iterrows():\n",
    "    plt.figure(figsize=(6, 6))\n",
    "    plt.pie(\n",
    "        [row[\"Yes\"], row[\"No\"]],\n",
    "        labels=[\"Yes\", \"No\"],\n",
    "        autopct='%1.1f%%',\n",
    "        startangle=90\n",
    "    )\n",
    "    plt.title(f\"Distribución de Yes/No en {row['Column']}\")\n",
    "    plt.show()"
   ]
  },
  {
   "cell_type": "code",
   "execution_count": 105,
   "metadata": {},
   "outputs": [
    {
     "name": "stdout",
     "output_type": "stream",
     "text": [
      "La fecha con más registros es: 2017 con 672 registros.\n",
      "Total de registros en el DataFrame: 849\n"
     ]
    }
   ],
   "source": [
    "from pyspark.sql.functions import col, desc\n",
    "fecha_con_mas_registros = (\n",
    "    Tbeneficios.groupBy(\"Fecha\")\n",
    "    .count()\n",
    "    .orderBy(desc(\"count\"))\n",
    "    .first()\n",
    ")\n",
    "\n",
    "# Muestra la fecha con más registros en formato int\n",
    "print(f\"La fecha con más registros es: {fecha_con_mas_registros['Fecha']} con {fecha_con_mas_registros['count']} registros.\")\n",
    "\n",
    "total_registros = Tbeneficios.count()\n",
    "print(f\"Total de registros en el DataFrame: {total_registros}\")"
   ]
  },
  {
   "cell_type": "markdown",
   "metadata": {},
   "source": [
    "Se encuentra que 0.79% de los registros corresponden al año 2017 "
   ]
  },
  {
   "cell_type": "markdown",
   "metadata": {},
   "source": [
    "### Análisis de calidad de datos"
   ]
  },
  {
   "cell_type": "markdown",
   "metadata": {},
   "source": [
    "La calidad de los datos consiste en validar la idoneidad de los datos analizando varias dimensiones, entre las cuales resaltamos:\n",
    "- Completitud: Datos que no existen o no se conocen\n",
    "- Unicidad (Duplicidad): Datos que son idénticos en diferentes registros o registros con valores idénticos en atributos en los que no debería ocurrir\n",
    "- Consistencia: Esta medida se define por la validez o integridad del dato, en la definición de su estructura, al interior de una fila o entre diferentes filas de la misma fuente o de diferentes fuentes. El manejo de unidades en los datos y el significado del dato son generadores de inconsistencias.\n",
    "- Validez: a nivel de formato y de sentido de los datos más alla de sus valores"
   ]
  },
  {
   "cell_type": "markdown",
   "metadata": {},
   "source": [
    "## UNICIDAD"
   ]
  },
  {
   "cell_type": "markdown",
   "metadata": {},
   "source": [
    "Como se evidencia en las tablas generadas anteriormente no existe una buena unicidad de datos en la base de datos ya que se repite varias vaces y no se suman correatamente por errores tipograficos en los datos como por ejemplo **Visit(s) per Year** con **Visit(s) per year** lo cual evidencia una falta de limpieza en los datos en el apartado de unicidad"
   ]
  },
  {
   "cell_type": "code",
   "execution_count": 106,
   "metadata": {},
   "outputs": [
    {
     "name": "stdout",
     "output_type": "stream",
     "text": [
      "Columna: IdTipoBeneficio_T - Valores únicos: 178 - Porcentaje de unicidad: 20.97%\n",
      "Columna: Nombre - Valores únicos: 178 - Porcentaje de unicidad: 20.97%\n",
      "Columna: UnidadDelLimite - Valores únicos: 63 - Porcentaje de unicidad: 7.42%\n",
      "Columna: EsEHB - Valores únicos: 3 - Porcentaje de unicidad: 0.35%\n",
      "Columna: EstaCubiertaPorSeguro - Valores únicos: 3 - Porcentaje de unicidad: 0.35%\n",
      "Columna: TieneLimiteCuantitativo - Valores únicos: 4 - Porcentaje de unicidad: 0.47%\n",
      "Columna: ExcluidoDelDesembolsoMaximoDentroDeLaRed - Valores únicos: 3 - Porcentaje de unicidad: 0.35%\n",
      "Columna: ExcluidoDelDesembolsoMaximoFueraDeLaRed - Valores únicos: 2 - Porcentaje de unicidad: 0.24%\n",
      "Columna: Fecha - Valores únicos: 2 - Porcentaje de unicidad: 0.24%\n",
      "Número de productos duplicados: 201\n",
      "+-----------------+--------------------+--------------------+-----+\n",
      "|IdTipoBeneficio_T|     UnidadDelLimite|              Nombre|count|\n",
      "+-----------------+--------------------+--------------------+-----+\n",
      "|              125|Days per Lifetime...|Cardiac and Pulmo...|    2|\n",
      "|              360|       Days per Year|    Hospice Services|    3|\n",
      "|              190|                    |Dental Check-Up f...|    7|\n",
      "|              120|   Visit(s) per Year|Cardiac Rehabilit...|    2|\n",
      "|              865|Visit(s) per Bene...|Skilled Nursing F...|    2|\n",
      "|              190|Treatment(s) per ...|Dental Check-Up f...|    3|\n",
      "|              830|Visit(s) per Bene...|Routine Eye Exam ...|    2|\n",
      "|              125|                    |Cardiac and Pulmo...|    2|\n",
      "|               55|                    |Attention Deficit...|    2|\n",
      "|              350|                    |Home Health Care ...|    3|\n",
      "|              540|Days per Benefit ...|Non-Preferred Bra...|    2|\n",
      "|              515|                    |Newborn Services ...|    4|\n",
      "|              550|                    |Non-Preferred Gen...|    2|\n",
      "|              455|Months per Proced...|Major Dental Care...|    2|\n",
      "|              335|Visit(s) per 3 Years|        Hearing Aids|    2|\n",
      "|              765|Visit(s) per Bene...|Private-Duty Nursing|    2|\n",
      "|             1055|                    |X-rays and Diagno...|    2|\n",
      "|              135|   Visit(s) per Year|   Chiropractic Care|    5|\n",
      "|              650|                    |Partial Hospitali...|    4|\n",
      "|              755|                    |Primary Care e-Visit|    2|\n",
      "+-----------------+--------------------+--------------------+-----+\n",
      "only showing top 20 rows\n",
      "\n"
     ]
    }
   ],
   "source": [
    "for column in Tbeneficios.columns:\n",
    "    total_count = Tbeneficios.count()\n",
    "    unique_count = Tbeneficios.select(column).distinct().count()\n",
    "    uniqueness_percentage = (unique_count / total_count) * 100\n",
    "\n",
    "    print(f\"Columna: {column} - Valores únicos: {unique_count} - Porcentaje de unicidad: {uniqueness_percentage:.2f}%\")\n",
    "\n",
    "# Identificar duplicados en una columna específica (por ejemplo, 'ProductoID')\n",
    "duplicados = Tbeneficios.groupBy(\"IdTipoBeneficio_T\",\"UnidadDelLimite\", \"Nombre\").count().filter(col(\"count\") > 1)\n",
    "duplicados_count = duplicados.count()\n",
    "\n",
    "print(f\"Número de productos duplicados: {duplicados_count}\")\n",
    "\n",
    "duplicados.show()"
   ]
  },
  {
   "cell_type": "markdown",
   "metadata": {},
   "source": [
    "para las columnas de tipo binario endonde se tienen valores Yes/No se es evidente el bajo % de unicidad , mientras que para las columnas como los son **IdTipoBeneficio_T**, **UnidadDelLimite** y **Nombre** se esperarian mejores valores"
   ]
  },
  {
   "cell_type": "markdown",
   "metadata": {},
   "source": [
    "## COMPLETIDUD"
   ]
  },
  {
   "cell_type": "markdown",
   "metadata": {},
   "source": [
    "Contar vacios"
   ]
  },
  {
   "cell_type": "code",
   "execution_count": 107,
   "metadata": {},
   "outputs": [],
   "source": [
    "def contar_vacios(df):\n",
    "    resultados = []\n",
    "    for c in df.columns:\n",
    "        # Contar valores nulos y cadenas vacías\n",
    "        vacios_nulos = df.filter(df[c].isNull()).count()\n",
    "        vacios_cadenas = df.filter(df[c] == '').count()\n",
    "        total_vacios = vacios_nulos + vacios_cadenas\n",
    "        \n",
    "        if total_vacios != 0:\n",
    "            print(f'Número de vacíos para la columna {c}: {total_vacios} (Nulos: {vacios_nulos}, Cadenas vacías: {vacios_cadenas})')\n",
    "            resultados.append(total_vacios)\n",
    "    \n",
    "    return resultados\n",
    "\n",
    "\n",
    "def cardinalidad(df):\n",
    "    resultado = {}\n",
    "    for c in df.columns:\n",
    "        cardinalidad = df.select(col(c)).distinct().count()\n",
    "        if cardinalidad>=df.count()*0.5:\n",
    "            resultado[c] = cardinalidad\n",
    "    return resultado"
   ]
  },
  {
   "cell_type": "code",
   "execution_count": 108,
   "metadata": {},
   "outputs": [
    {
     "name": "stdout",
     "output_type": "stream",
     "text": [
      "Número de vacíos para la columna UnidadDelLimite: 559 (Nulos: 0, Cadenas vacías: 559)\n"
     ]
    }
   ],
   "source": [
    "columnas_vacias_Tbeneficios = contar_vacios(Tbeneficios)"
   ]
  },
  {
   "cell_type": "markdown",
   "metadata": {},
   "source": [
    "Se evidencia que para la columna UnidadDelLimite se encuentran 559 cadenas vacias "
   ]
  },
  {
   "cell_type": "code",
   "execution_count": 109,
   "metadata": {},
   "outputs": [
    {
     "data": {
      "text/plain": [
       "{}"
      ]
     },
     "execution_count": 109,
     "metadata": {},
     "output_type": "execute_result"
    }
   ],
   "source": [
    "columnas_alta_cardinalidad_Tbeneficios = cardinalidad(Tbeneficios)\n",
    "columnas_alta_cardinalidad_Tbeneficios"
   ]
  },
  {
   "cell_type": "code",
   "execution_count": 111,
   "metadata": {
    "tags": []
   },
   "outputs": [
    {
     "name": "stdout",
     "output_type": "stream",
     "text": [
      "Columna: IdTipoBeneficio_T - Nulos: 0, Ceros: 0, Vacíos: 0\n",
      "Columna: Nombre - Nulos: 0, Ceros: 0, Vacíos: 0\n",
      "Columna: UnidadDelLimite - Nulos: 0, Ceros: 0, Vacíos: 559\n",
      "Columna: EsEHB - Nulos: 0, Ceros: 0, Vacíos: 0\n",
      "Columna: EstaCubiertaPorSeguro - Nulos: 0, Ceros: 0, Vacíos: 0\n",
      "Columna: TieneLimiteCuantitativo - Nulos: 0, Ceros: 0, Vacíos: 0\n",
      "Columna: ExcluidoDelDesembolsoMaximoDentroDeLaRed - Nulos: 0, Ceros: 0, Vacíos: 0\n",
      "Columna: ExcluidoDelDesembolsoMaximoFueraDeLaRed - Nulos: 0, Ceros: 0, Vacíos: 0\n",
      "Columna: Fecha - Nulos: 0, Ceros: 0, Vacíos: 0\n"
     ]
    }
   ],
   "source": [
    "from pyspark.sql import functions as F\n",
    "from pyspark.sql.types import IntegerType, DoubleType, LongType, FloatType, StringType\n",
    "\n",
    "# Función para contar valores nulos, ceros y vacíos en cada columna\n",
    "def contar_nulos_ceros_vacios(df, columnas):\n",
    "    for columna in columnas:\n",
    "        # Contar valores nulos\n",
    "        nulos = df.filter(F.col(columna).isNull()).count()\n",
    "        \n",
    "        # Contar valores iguales a 0 (solo si es numérico)\n",
    "        data_type = df.schema[columna].dataType\n",
    "        if isinstance(data_type, (IntegerType, DoubleType, LongType, FloatType)):\n",
    "            ceros = df.filter(F.col(columna) == 0).count()\n",
    "        else:\n",
    "            ceros = 0\n",
    "        \n",
    "        # Contar valores vacíos (solo si es de tipo string)\n",
    "        if isinstance(data_type, StringType):\n",
    "            vacios = df.filter(F.col(columna) == \"\").count()\n",
    "        else:\n",
    "            vacios = 0\n",
    "        \n",
    "        # Imprimir resultados\n",
    "        print(f\"Columna: {columna} - Nulos: {nulos}, Ceros: {ceros}, Vacíos: {vacios}\")\n",
    "\n",
    "# Lista de las columnas a verificar\n",
    "columnas = Tbeneficios.columns\n",
    "\n",
    "# Contar los valores nulos, ceros y vacíos en cada columna\n",
    "contar_nulos_ceros_vacios(Tbeneficios, columnas)"
   ]
  },
  {
   "cell_type": "markdown",
   "metadata": {},
   "source": [
    "## validez"
   ]
  },
  {
   "cell_type": "code",
   "execution_count": 112,
   "metadata": {},
   "outputs": [
    {
     "name": "stdout",
     "output_type": "stream",
     "text": [
      "La columna EsEHB tiene 20 valores diferentes de \"Yes\" o \"No\":\n",
      " - True\n",
      "La columna EstaCubiertaPorSeguro tiene 8 valores diferentes de \"Yes\" o \"No\":\n",
      " - False\n",
      "La columna TieneLimiteCuantitativo tiene 36 valores diferentes de \"Yes\" o \"No\":\n",
      " - Nein\n",
      " - Si\n",
      "La columna ExcluidoDelDesembolsoMaximoDentroDeLaRed tiene 2 valores diferentes de \"Yes\" o \"No\":\n",
      " - Algunas veces\n"
     ]
    }
   ],
   "source": [
    "def verificar_valores(df, columnas):\n",
    "    for c in columnas:\n",
    "        # Filtrar y obtener los valores diferentes de 'Yes' o 'No'\n",
    "        valores_invalidos = df.filter(~(col(c).isin('Yes', 'No')))\n",
    "        conteo_invalidos = valores_invalidos.count()\n",
    "\n",
    "        if conteo_invalidos > 0:\n",
    "            print(f'La columna {c} tiene {conteo_invalidos} valores diferentes de \"Yes\" o \"No\":')\n",
    "            # Mostrar los valores diferentes\n",
    "            valores_diferentes = valores_invalidos.select(c).distinct().collect()\n",
    "            for valor in valores_diferentes:\n",
    "                print(f' - {valor[0]}')\n",
    "\n",
    "# Lista de columnas a verificar\n",
    "columnas_a_verificar = [\n",
    "    \"EsEHB\",\n",
    "    \"EstaCubiertaPorSeguro\",\n",
    "    \"TieneLimiteCuantitativo\",\n",
    "    \"ExcluidoDelDesembolsoMaximoDentroDeLaRed\",\n",
    "    \"ExcluidoDelDesembolsoMaximoFueraDeLaRed\"\n",
    "]\n",
    "\n",
    "# Ejecutar la verificación\n",
    "verificar_valores(Tbeneficios, columnas_a_verificar)"
   ]
  },
  {
   "cell_type": "markdown",
   "metadata": {},
   "source": [
    "Se evidencian algunos datos invalidos en las columnas descritas los cuales se imprimen para identificarlos y posteriormente hacer un tratamiento a estos datos"
   ]
  },
  {
   "cell_type": "markdown",
   "metadata": {},
   "source": [
    "## Conclusión del entendimiento de datos "
   ]
  },
  {
   "cell_type": "markdown",
   "metadata": {},
   "source": [
    "#### Justificación de si es posible resolver los análisis basados en tableros de control propuestos"
   ]
  },
  {
   "cell_type": "markdown",
   "metadata": {},
   "source": [
    "El modelo si es posible de resolver con analisis basado en tableros de control, solo si antes se hacen los ajustes a los hallazgos encontrados en las tabla ***FuentesAreasDeServicios, FuentesCondicionesDe Pago, FuentesPlanesBeneficio, FuenteTiposBeneficio*** los cuales fueron descritos anteriormente\n"
   ]
  },
  {
   "cell_type": "markdown",
   "metadata": {
    "id": "snq4CGXQPn3f"
   },
   "source": [
    "\n",
    "**Conclusiones generales:**\n",
    "\n",
    "1. En la tabla de FuentesAreasDeServicios encontramos información referente a los centros de salud y sus distribuciones en estados y condados\n",
    "2. Para la tabla FuentesPlanesBeneficio solicitamos más información de la ***PK***, ya que con los datos suministrados no es posible tener un identificador único para los planes.\n",
    "3. No hay una regla definida por el negocio que nos permita manejar de forma correcta los duplicados con unidad_de_limite\n",
    "4. No hay claridad entre los tipos de pago definidos por el cliente y la información compartida en la tabla. Existen más categorias de las que deberian existir y las categorias de pago se combinan entre los tipos\n",
    "5. Se requiere una explicación para el manejo de datos duplicados en todas las tablas para evitar pérdidas de información al procesar el ETL.\n",
    "\n",
    "**Conclusiones de reglas de negocio:**\n",
    "\n",
    "1. La regla 1 no es completamente cierta, ya que se reportan 1398 condados y en el país existen 3144. \n",
    "2. La regla 2 no es completamente cierta, ya que en el valor límite de la tabla Planes_Beneficio existen datos nulos que sin la información correcta se considerarian como 0. \n",
    "3. La regla 3 no es completamente cierta, ya que existen datos con años mínimos de 1800 y máximos de 2018\n",
    "4. La regla 4\n",
    "5. La regla 5\n",
    "6. La regla 6\n",
    "7. La regla 7 es parcialmente cierta. Aunque se reportan 14 codiciones de copago y 4 de coseguro, existen problemas de información en la tabla que pueden afectar a las condiciones faltantes.\n",
    "\n",
    "**Conclusiones de calidad:**\n",
    "\n",
    "1. En TiposBeneficio existen columnas con redundacias de información - datos no homogeneos en la columna unidad_de_limite. \n",
    "2. En CondicionesDePago se observa un problema de consistencia de la información. Se reportan dos tipos de pago pero en la tabla aparecen 6. Además se encuentran categorias repetidas entre cada tipo.\n",
    "3. Las tablas AreasDeServicios y PlanesBeneficio existen datos nulos, duplicación de llave primaria y datos repetidos que sin aclaración del cliente no se pueden eliminar.\n",
    "4. En PlanesBeneficio las fechas no se reportan en el formato requerido.\n",
    "5. En AreasDeServicios se reportan áreas negativas y condado y estado tienen combinaciones con el mismo ID. \n",
    "6. Existe el mismo condado en múltiples estados.\n",
    "\n",
    "**Conclusiones de consultoria**\n",
    "\n",
    "Teniendo en cuenta el requerimiento de RaSa Transaccional, consideramos que es posible llevar a cabo una solución pues contamos con la información necesaria especificada en el análisis requerido, sin embargo es necesario realizar correcciones a los datos y obtener aclaraciones de parte del negocio para entender completamente la necesidad. \n",
    "\n",
    "Es posible integrar las diferentes fuentes para el desarrollo del modelo"
   ]
  },
  {
   "cell_type": "markdown",
   "metadata": {},
   "source": []
  }
 ],
 "metadata": {
  "colab": {
   "collapsed_sections": [
    "qxN27II0Pn3T",
    "GnAScmClPn3W",
    "UuZspay3Pn3Z",
    "ZHLs1H0hPn3b",
    "QgkzeSm4Pn3b",
    "LZyQcqCvPn3c",
    "eDf54JyKPn3d",
    "ltTluhtIPn3e",
    "IPhtXcD1Pn3g",
    "-axExLnhPn3g",
    "YfSMeXZQPn3g"
   ],
   "name": "MISW-ETL-Entendimiento.ipynb",
   "provenance": []
  },
  "kernelspec": {
   "display_name": "Python 3 (ipykernel)",
   "language": "python",
   "name": "python3"
  },
  "language_info": {
   "codemirror_mode": {
    "name": "ipython",
    "version": 3
   },
   "file_extension": ".py",
   "mimetype": "text/x-python",
   "name": "python",
   "nbconvert_exporter": "python",
   "pygments_lexer": "ipython3",
   "version": "3.7.13"
  },
  "toc-autonumbering": false,
  "toc-showcode": true
 },
 "nbformat": 4,
 "nbformat_minor": 4
}
